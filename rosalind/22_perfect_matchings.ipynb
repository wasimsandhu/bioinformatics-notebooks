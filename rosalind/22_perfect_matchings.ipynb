{
 "cells": [
  {
   "cell_type": "markdown",
   "metadata": {},
   "source": [
    "## [Perfect Matchings and RNA Secondary Structures](https://rosalind.info/problems/pmch/)\n",
    "\n",
    "### Intro to RNA Folding\n",
    "Because RNA is single-stranded, you may have wondered if the cytosine and guanine bases bond to each other like in DNA. The answer is yes, as do adenine and uracil, and the resulting base pairs define the secondary structure of the RNA molecule.\n",
    "\n",
    "In the greater three-dimensional world, the base pairing interactions of an RNA molecule cause it to twist around on itself in a process called RNA folding. When two complementary intervals of bases located close to each other on the strand bond to each other, they form a structure called a hairpin loop (or stem loop).\n",
    "\n",
    "![](https://rosalind.info/media/problems/pmch/hairpin_loop.thumb.png)\n",
    "\n",
    "The same RNA molecule may base pair differently at different points in time, thus adopting many different secondary structures. Our eventual goal is to classify which of these structures are practically feasible, and which are not. To this end, we will ask natural combinatorial questions about the number of possible different RNA secondary structures. \n",
    "\n",
    "In this problem, we will first consider the (impractical) simplified case in which every nucleotide forms part of a base pair in the RNA molecule.\n",
    "\n",
    "### Background\n",
    "A **matching** in a graph `G` is a collection of edges of G, no two of which include the same node.\n",
    "\n",
    "![](https://rosalind.info/media/problems/pmch/matching.thumb.png)\n",
    "\n",
    "<sub><sup>Three matchings (highlighted in red) shown in three different graphs. Basically, they are edges that don't share nodes.</sup></sub>\n",
    "\n",
    "If G contains an even number of nodes – say `2n` – then a matching on `G` is perfect if it contains `n` edges, which is clearly the maximum possible.\n",
    "\n",
    "![](https://rosalind.info/media/problems/pmch/perfect_matching.thumb.png)\n",
    "\n",
    "<sub><sup>A graph containing 10 nodes; the five edges forming a perfect matching on these nodes are highlighted in red.</sup><sub>\n",
    "\n",
    "First, let `K_n` denote the complete graph on `2n` labeled nodes, in which every node is connected to every other node with an edge, and let pn denote the total number of perfect matchings in `K_n` . For a given node `x`, there are `2n − 1` ways to join `x` to the other nodes in the graph, after which point we must form a perfect matching on the remaining `2n − 2` nodes.\n",
    "\n",
    "This reasoning provides us with the recurrence relation `p_n = (2n − 1) * p_n − 1`.\n",
    "\n",
    "Using the fact that `p_1` is `1`, this recurrence relation implies the closed equation `p_n = (2n − 1)(2n − 3)(2n − 5) ⋯ (3)(1)`.\n",
    "\n",
    "### Problem\n",
    "Given an RNA string `s = s_1, ..., s_n` , a bonding graph for `s` is formed as follows.\n",
    "\n",
    "1. First, assign each symbol of `s` to a node, and arrange these nodes in order around a circle, connecting them with edges called adjacency edges.\n",
    "\n",
    "1. Second, form all possible edges {A, U} and {C, G}, called basepair edges; we will represent basepair edges with dashed edges.\n",
    "\n",
    "![](https://rosalind.info/media/problems/pmch/bonding_graph.thumb.png)\n",
    "\n",
    "<sub><sup>The bonding graph for the RNA string s = UAGCGUGAUCAC.</sup><sub>\n",
    "\n",
    "Note that a matching contained in the basepair edges will represent one possibility for base pairing interactions in `s`. For such a matching to exist, `s` must have the same number of occurrences of 'A' as 'U' and the same number of occurrences of 'C' as 'G'.\n",
    "\n",
    "![](https://rosalind.info/media/problems/pmch/bonding_crossing.thumb.png)\n",
    "\n",
    "<sub><sup>A perfect matching on the basepair edges is highlighted in red and represents a candidate secondary structure for the RNA strand.</sup><sub>\n",
    "\n",
    "**Given:** An RNA string `s` of length at most 80 bp having the same number of occurrences of 'A' as 'U' and the same number of occurrences of 'C' as 'G'.\n",
    "\n",
    "**Return:** The total possible number of perfect matchings of basepair edges in the bonding graph of `s`.\n",
    "\n",
    "### Examples\n",
    "Input:\n",
    "```\n",
    ">Rosalind_23\n",
    "AGCUAGUCAU\n",
    "```\n",
    "\n",
    "Output:\n",
    "```\n",
    "12\n",
    "```"
   ]
  },
  {
   "cell_type": "code",
   "execution_count": 13,
   "metadata": {},
   "outputs": [],
   "source": [
    "def total_perfect_matchings(s: str) -> int:\n",
    "    \"\"\"Returns total possible number of perfect matchings \n",
    "    of basepair edges in the bonding graph of s.\"\"\"\n",
    "    pass"
   ]
  },
  {
   "cell_type": "code",
   "execution_count": 14,
   "metadata": {},
   "outputs": [],
   "source": [
    "import ipytest\n",
    "ipytest.autoconfig()"
   ]
  },
  {
   "cell_type": "code",
   "execution_count": 15,
   "metadata": {},
   "outputs": [
    {
     "name": "stdout",
     "output_type": "stream",
     "text": [
      "\u001b[31mF\u001b[0m\u001b[31m                                                                                            [100%]\u001b[0m\n",
      "============================================= FAILURES =============================================\n",
      "\u001b[31m\u001b[1m___________________________________________ test_case_1 ____________________________________________\u001b[0m\n",
      "\n",
      "    \u001b[94mdef\u001b[39;49;00m \u001b[92mtest_case_1\u001b[39;49;00m():\u001b[90m\u001b[39;49;00m\n",
      ">       \u001b[94massert\u001b[39;49;00m total_perfect_matchings(\u001b[33m\"\u001b[39;49;00m\u001b[33mAGCUAGUCAU\u001b[39;49;00m\u001b[33m\"\u001b[39;49;00m) == \u001b[94m12\u001b[39;49;00m\u001b[90m\u001b[39;49;00m\n",
      "\u001b[1m\u001b[31mE       AssertionError: assert None == 12\u001b[0m\n",
      "\u001b[1m\u001b[31mE        +  where None = total_perfect_matchings('AGCUAGUCAU')\u001b[0m\n",
      "\n",
      "\u001b[1m\u001b[31m/var/folders/hb/_y3ys8r13s38s9qdcr85dxm80000gn/T/ipykernel_75927/3527277082.py\u001b[0m:2: AssertionError\n",
      "\u001b[36m\u001b[1m===================================== short test summary info ======================================\u001b[0m\n",
      "\u001b[31mFAILED\u001b[0m t_a517ebe44a76464a97b6dba675025301.py::\u001b[1mtest_case_1\u001b[0m - AssertionError: assert None == 12\n",
      "\u001b[31m\u001b[31m\u001b[1m1 failed\u001b[0m\u001b[31m in 0.01s\u001b[0m\u001b[0m\n"
     ]
    }
   ],
   "source": [
    "%%ipytest\n",
    "\n",
    "def test_case_1():\n",
    "    assert total_perfect_matchings(\"AGCUAGUCAU\") == 12"
   ]
  }
 ],
 "metadata": {
  "kernelspec": {
   "display_name": "Python 3",
   "language": "python",
   "name": "python3"
  },
  "language_info": {
   "codemirror_mode": {
    "name": "ipython",
    "version": 3
   },
   "file_extension": ".py",
   "mimetype": "text/x-python",
   "name": "python",
   "nbconvert_exporter": "python",
   "pygments_lexer": "ipython3",
   "version": "3.9.6"
  },
  "orig_nbformat": 4
 },
 "nbformat": 4,
 "nbformat_minor": 2
}
