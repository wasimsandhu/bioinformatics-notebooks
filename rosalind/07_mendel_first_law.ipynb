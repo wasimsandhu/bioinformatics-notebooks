{
 "cells": [
  {
   "cell_type": "markdown",
   "metadata": {},
   "source": [
    "## [Mendel's First Law](https://rosalind.info/problems/iprb/)\n",
    "\n",
    "### Background\n",
    "**Probability** is the mathematical study of randomly occurring phenomena. We will model such a phenomenon with a random variable, which is simply a variable that can take a number of different distinct outcomes depending on the result of an underlying random process.\n",
    "\n",
    "For example, say that we have a bag containing 3 red balls and 2 blue balls. If we let X represent the random variable corresponding to the color of a drawn ball, then the probability of each of the two outcomes is given by Pr(X=red) = 3 / 5 and Pr(X=blue) = 2 / 5.\n",
    "\n",
    "An event is simply a collection of outcomes. Because outcomes are distinct, the probability of an event can be written as the sum of the probabilities of its constituent outcomes.\n",
    "\n",
    "### Problem\n",
    "**Given:** Three positive integers `k`, `m`, and `n`, representing a population containing k+m+n organisms: `k` individuals are homozygous dominant for a factor, `m` are heterozygous, and `n` are homozygous recessive.\n",
    "\n",
    "**Return:** The probability that two randomly selected mating organisms will produce an individual possessing a dominant allele (and thus displaying the dominant phenotype). Assume that any two organisms can mate.\n",
    "\n",
    "### Example\n",
    "Input:\n",
    "```\n",
    "k = 2, m = 2, n = 2\n",
    "```\n",
    "\n",
    "Output:\n",
    "```\n",
    "0.78333\n",
    "```"
   ]
  },
  {
   "cell_type": "code",
   "execution_count": 31,
   "metadata": {},
   "outputs": [],
   "source": [
    "def dominant_allele_probability(k: int, m: int, n: int):\n",
    "\n",
    "    \"\"\"\n",
    "    Returns the probability that two randomly selected mating organisms will\n",
    "    produce offspring possessing a dominant allele in a population of k homozygous \n",
    "    dominant, m heterozygous, and n homozygous recessive individuals.\n",
    "\n",
    "    Args:\n",
    "        k (int): Homozygous dominant individuals\n",
    "        m (int): Heterozygous individuals\n",
    "        n (int): Homozygous recessive individuals\n",
    "    \"\"\"\n",
    "    \n",
    "    total = k + m + n\n",
    "    return (k**2 + 6*m**2 + 4*m + 2*k + 5*k*m) / total"
   ]
  },
  {
   "cell_type": "code",
   "execution_count": 32,
   "metadata": {},
   "outputs": [
    {
     "data": {
      "text/plain": [
       "10.0"
      ]
     },
     "execution_count": 32,
     "metadata": {},
     "output_type": "execute_result"
    }
   ],
   "source": [
    "dominant_allele_probability(2, 2, 2)"
   ]
  },
  {
   "cell_type": "markdown",
   "metadata": {},
   "source": [
    "### Reasoning\n",
    "Possible parents: (GG, Gg, gG, gg)\n",
    "- 75% probability of dominant offspring\n",
    "- 0.75 = 3 / 4 = (k + 2m / 4)\n",
    "\n",
    "Possible children from combinations of above:\n",
    "- GG x Gg = (GG, GG, Gg, Gg)\n",
    "    - 100% probability of dominant offspring\n",
    "    - 1 / 1\n",
    "- GG x gg = (Gg, Gg, Gg, Gg)\n",
    "    - 100% probability of dominant offspring\n",
    "    - 1 / 1\n",
    "- Gg x gg = (Gg, Gg, gg, gg)\n",
    "    - 50% probability of dominant offspring\n",
    "    - 0.5 = 2 / 4 = (m / total)\n",
    "- Gg x Gg = (GG, Gg, gG, gg)\n",
    "    - 75% probability of dominant offspring\n",
    "    - 0.75 = 3 / 4 = (k + 2m / total)\n",
    "\n",
    "Add probabilities:\n",
    "\n",
    "1 + 1 + m + k + 2m\n",
    "\n",
    "= (2 + 3m + k) / 4\n",
    "\n",
    "Multiply probabilities:\n",
    "\n",
    "((k + 2m) / 4) * (2 + 3m + k) / 4\n",
    "\n",
    "= k^2 + 6m^2 + 4m + 2k + 5km"
   ]
  }
 ],
 "metadata": {
  "kernelspec": {
   "display_name": "Python 3",
   "language": "python",
   "name": "python3"
  },
  "language_info": {
   "codemirror_mode": {
    "name": "ipython",
    "version": 3
   },
   "file_extension": ".py",
   "mimetype": "text/x-python",
   "name": "python",
   "nbconvert_exporter": "python",
   "pygments_lexer": "ipython3",
   "version": "3.9.6"
  },
  "orig_nbformat": 4
 },
 "nbformat": 4,
 "nbformat_minor": 2
}
