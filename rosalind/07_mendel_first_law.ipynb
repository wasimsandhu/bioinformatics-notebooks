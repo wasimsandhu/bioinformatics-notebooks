{
 "cells": [
  {
   "cell_type": "markdown",
   "metadata": {},
   "source": [
    "## [Mendel's First Law](https://rosalind.info/problems/iprb/)\n",
    "\n",
    "### Background\n",
    "**Probability** is the mathematical study of randomly occurring phenomena. We will model such a phenomenon with a random variable, which is simply a variable that can take a number of different distinct outcomes depending on the result of an underlying random process.\n",
    "\n",
    "For example, say that we have a bag containing 3 red balls and 2 blue balls. If we let X represent the random variable corresponding to the color of a drawn ball, then the probability of each of the two outcomes is given by Pr(X=red) = 3 / 5 and Pr(X=blue) = 2 / 5.\n",
    "\n",
    "An event is simply a collection of outcomes. Because outcomes are distinct, the probability of an event can be written as the sum of the probabilities of its constituent outcomes.\n",
    "\n",
    "### Problem\n",
    "**Given:** Three positive integers `k`, `m`, and `n`, representing a population containing k+m+n organisms: `k` individuals are homozygous dominant for a factor, `m` are heterozygous, and `n` are homozygous recessive.\n",
    "\n",
    "**Return:** The probability that two randomly selected mating organisms will produce an individual possessing a dominant allele (and thus displaying the dominant phenotype). Assume that any two organisms can mate.\n",
    "\n",
    "### Example\n",
    "Input:\n",
    "```\n",
    "k = 2, m = 2, n = 2\n",
    "```\n",
    "\n",
    "Output:\n",
    "```\n",
    "0.78333\n",
    "```"
   ]
  },
  {
   "cell_type": "code",
   "execution_count": 138,
   "metadata": {},
   "outputs": [],
   "source": [
    "from itertools import combinations\n",
    "\n",
    "def dominant_allele_probability(k: int, m: int, n: int):\n",
    "\n",
    "    \"\"\"\n",
    "    Returns the probability that two randomly selected mating organisms will\n",
    "    produce offspring possessing a dominant allele in a population of k homozygous \n",
    "    dominant, m heterozygous, and n homozygous recessive individuals.\n",
    "\n",
    "    Args:\n",
    "        k (int): Homozygous dominant individuals\n",
    "        m (int): Heterozygous individuals\n",
    "        n (int): Homozygous recessive individuals\n",
    "    \"\"\"\n",
    "    \n",
    "    dominant = [\"GG\" for x in range(k)]\n",
    "    heterozygous = [\"Gg\" for x in range(m)]\n",
    "    recessive = [\"gg\" for x in range(n)]\n",
    "    population = dominant + heterozygous + recessive\n",
    "    \n",
    "    comb_recessive_2 = combinations(heterozygous + recessive, 2)\n",
    "    comb_recessive_2 = [x for x in comb_recessive_2 if x != (\"Gg\", \"Gg\") and x != (\"gg\", \"gg\")]\n",
    "    \n",
    "    recessive_1 = len(list(combinations(heterozygous, 2)))\n",
    "    recessive_2 = len(comb_recessive_2)\n",
    "    recessive_3 = len(list(combinations(recessive, 2)))\n",
    "    \n",
    "    comb_recessive = 0.25 * recessive_1 + 0.5 * recessive_2 + recessive_3\n",
    "    comb_total = len(list(combinations(population, 2)))\n",
    "    \n",
    "    prob_recessive = comb_recessive / comb_total\n",
    "    return 1 - prob_recessive"
   ]
  },
  {
   "cell_type": "code",
   "execution_count": 139,
   "metadata": {},
   "outputs": [
    {
     "name": "stdout",
     "output_type": "stream",
     "text": [
      "\u001b[32m.\u001b[0m\u001b[32m                                                                                            [100%]\u001b[0m\n",
      "\u001b[32m\u001b[32m\u001b[1m1 passed\u001b[0m\u001b[32m in 0.00s\u001b[0m\u001b[0m\n"
     ]
    },
    {
     "data": {
      "text/plain": [
       "<ExitCode.OK: 0>"
      ]
     },
     "execution_count": 139,
     "metadata": {},
     "output_type": "execute_result"
    }
   ],
   "source": [
    "import ipytest\n",
    "ipytest.autoconfig()\n",
    "\n",
    "def test_case_1():\n",
    "    prob_dominant = dominant_allele_probability(2, 2, 2)\n",
    "    assert prob_dominant == 0.7833333333333333\n",
    "    \n",
    "ipytest.run()"
   ]
  },
  {
   "cell_type": "markdown",
   "metadata": {},
   "source": [
    "### Explanation\n",
    "Population for above values: `[GG, GG, Gg, Gg, gg, gg]`\n",
    "\n",
    "Total combinations of parents:\n",
    "- `GG x GG` (1)\n",
    "- `GG x Gg` (4)\n",
    "- `GG x gg` (4)\n",
    "- `Gg x Gg` (1)\n",
    "- `Gg x gg` (4)\n",
    "- `gg x gg` (1)\n",
    "\n",
    "Combinations of parents that will lead to a recessive offspring:\n",
    "- `Gg x gg`, of which there are 1, or `combinations([Gg, Gg], 2)` or `recessive_1`\n",
    "    - From this, there is a 25% probability of a recessive offspring\n",
    "- `Gg x gg`, of which there are 4, or `combinations([Gg, Gg, gg, gg], 2)` or `recessive_2`\n",
    "    - From this, there is a 50% probability of a recessive offspring\n",
    "- `gg x gg`, of which there are 1, or `combinations([gg, gg], 2)`\n",
    "    - From this, there is a 100% probability of a recessive offspring or `recessive_3`\n",
    "\n",
    "The probability of a recessive offspring, in terms:\n",
    "\n",
    "`prob_recessive = comb_recessive / comb_total`, where\n",
    "\n",
    "`comb_recessive = recessive_1 + recessive_2 + recessive_3`, and\n",
    "\n",
    "`comb_total = combinations([GG, GG, Gg, Gg, gg, gg], 2)`\n",
    "\n",
    "Then, the probability of a dominant offspring is simply:\n",
    "\n",
    "`prob_dominant = 1 - prob_recessive`"
   ]
  },
  {
   "cell_type": "code",
   "execution_count": 140,
   "metadata": {},
   "outputs": [
    {
     "data": {
      "text/plain": [
       "0.7703634085213033"
      ]
     },
     "execution_count": 140,
     "metadata": {},
     "output_type": "execute_result"
    }
   ],
   "source": [
    "dominant_allele_probability(21, 17, 19)"
   ]
  }
 ],
 "metadata": {
  "kernelspec": {
   "display_name": "Python 3",
   "language": "python",
   "name": "python3"
  },
  "language_info": {
   "codemirror_mode": {
    "name": "ipython",
    "version": 3
   },
   "file_extension": ".py",
   "mimetype": "text/x-python",
   "name": "python",
   "nbconvert_exporter": "python",
   "pygments_lexer": "ipython3",
   "version": "3.9.6"
  },
  "orig_nbformat": 4
 },
 "nbformat": 4,
 "nbformat_minor": 2
}
