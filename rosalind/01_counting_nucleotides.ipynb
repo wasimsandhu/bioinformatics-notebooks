{
 "cells": [
  {
   "cell_type": "markdown",
   "metadata": {},
   "source": [
    "### [Counting Nucleotides](https://rosalind.info/problems/dna/)\n",
    "\n",
    "**Given:** A DNA string `s` of length at most 1000 nt.\n",
    "\n",
    "**Return:** Four integers (separated by spaces) counting the respective number of times that the symbols 'A', 'C', 'G', and 'T' occur in `s`."
   ]
  },
  {
   "cell_type": "code",
   "execution_count": 8,
   "metadata": {},
   "outputs": [],
   "source": [
    "def count_nucleotides(dna: str):\n",
    "    \"\"\"Counts nucleotide occurences for a given DNA string\"\"\"\n",
    "    \n",
    "    return f'{dna.count(\"A\")} {dna.count(\"C\")} {dna.count(\"G\")} { dna.count(\"T\")}'"
   ]
  },
  {
   "cell_type": "code",
   "execution_count": 9,
   "metadata": {},
   "outputs": [],
   "source": [
    "import ipytest\n",
    "ipytest.autoconfig()"
   ]
  },
  {
   "cell_type": "code",
   "execution_count": 10,
   "metadata": {},
   "outputs": [
    {
     "name": "stdout",
     "output_type": "stream",
     "text": [
      "\u001b[32m.\u001b[0m\u001b[32m                                                                                            [100%]\u001b[0m\n",
      "\u001b[32m\u001b[32m\u001b[1m1 passed\u001b[0m\u001b[32m in 0.00s\u001b[0m\u001b[0m\n"
     ]
    }
   ],
   "source": [
    "%%ipytest\n",
    "\n",
    "def test_1():\n",
    "    dna_string = \"AGCTTTTCATTCTGACTGCAACGGGCAATATGTCTCTGTGTGGATTAAAAAAAGAGTGTCTGATAGCAGC\"\n",
    "    output = count_nucleotides(dna_string)\n",
    "    assert output == \"20 12 17 21\""
   ]
  },
  {
   "cell_type": "code",
   "execution_count": 11,
   "metadata": {},
   "outputs": [
    {
     "data": {
      "text/plain": [
       "'255 213 212 229'"
      ]
     },
     "execution_count": 11,
     "metadata": {},
     "output_type": "execute_result"
    }
   ],
   "source": [
    "dna_string = \"GGTCAATCTACGGTGAAATAGGTCGAAGTAACAACGGAATTGATCAATACCCATCTATCCTGAAGTGGCGCGGTAGATGACGAAAATTCGGTCGGACCCGCAACCCTTTGAGGACCCCAACACTGTCGTAGGAAGGCTGCTGCAACGATGTTGCACTTGACCACCGGCGCCTTAAGCCACCATATTTATACTATTGCATGCTACGAGGTGGTGAGAGACCGCTTGTAGTCCCCATATAGGCAGCTTAAACTGACAGTACTCAAATACTACCAAGTATCCCGTAGATTCCCAGGGGACAATGCGTTAGAAAGAAATAAAGGTCATACTATAAGGTCCACGTTCGTATTACTGGTGTCACCCACACTTGACCTGGTGGTAATGTGTCTTGCGCTGGTACGGAGATAACCCGCAGCGCTTCGACAAAAGACACAGTGCCAACCGAAGGTCATAGATTAGCTGCATCCTTATGGATACGCTCTGGGACGGTTAATAGAATGATAAAGGACGAACCCTTACACCAGCTGGGATGGTCCCGAAGTAAACATTCATCTGAGGTTATCGTTCAATTCTCCGCACTACAGGCGAACAATGTGCGAAAGGTATAAAGACATACACTCATTCTAGCACCCTGGACGTAACACACGTGGATTCGTCTAGATATTCCTCATGCTCGTACCCCACAATTTAAGGAGTTGCCCAGAGGATTAGCATCTCAGATTTCAACAAGGATGTTCCCCTTTAGTATTTATATATCGAGTTAGCGCTGAGTTTTTGATTCGAATCGTATGGTCACTGGCTCAACCGTGTGTTCTGTAGCAGGCCTTGACTATGCAAAAGGGGTAGCTGCGTGCTGACGCTCAATATATAACAATCGTAATTCCGTGGCGCGATTGAATGGACCTTGATCTA\"\n",
    "\n",
    "count_nucleotides(dna_string)"
   ]
  }
 ],
 "metadata": {
  "kernelspec": {
   "display_name": "Python 3",
   "language": "python",
   "name": "python3"
  },
  "language_info": {
   "codemirror_mode": {
    "name": "ipython",
    "version": 3
   },
   "file_extension": ".py",
   "mimetype": "text/x-python",
   "name": "python",
   "nbconvert_exporter": "python",
   "pygments_lexer": "ipython3",
   "version": "3.9.6"
  },
  "orig_nbformat": 4
 },
 "nbformat": 4,
 "nbformat_minor": 2
}
