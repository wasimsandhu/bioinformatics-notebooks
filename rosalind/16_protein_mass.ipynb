{
 "cells": [
  {
   "cell_type": "markdown",
   "metadata": {},
   "source": [
    "## [Calculating Protein Mass](https://rosalind.info/problems/prtm/)\n",
    "\n",
    "### Background\n",
    "When two amino acids link together, they form a peptide bond, which releases a molecule of water. Thus, after a series of amino acids have been linked together into a polypeptide, every pair of adjacent amino acids has lost one molecule of water, meaning that a polypeptide containing `n` amino acids has had `n − 1` water molecules removed.\n",
    "\n",
    "More generally, a residue is a molecule from which a water molecule has been removed; every amino acid in a protein are residues except the leftmost and the rightmost ones. These outermost amino acids are special in that one has an \"unstarted\" peptide bond, and the other has an \"unfinished\" peptide bond. Between them, the two molecules have a single \"extra\" molecule of water (see the atoms marked in blue in Figure 2). \n",
    "\n",
    "**Thus, the mass of a protein is the sum of masses of all its residues plus the mass of a single water molecule.**\n",
    "\n",
    "There are two standard ways of computing the mass of a residue by summing the masses of its individual atoms. Its monoisotopic mass is computed by using the principal (most abundant) isotope of each atom in the amino acid, whereas its average mass is taken by taking the average mass of each atom in the molecule (over all naturally appearing isotopes).\n",
    "\n",
    "Many applications in proteomics rely on mass spectrometry, an analytical chemical technique used to determine the mass, elemental composition, and structure of molecules. In mass spectrometry, monoisotopic mass is used more often than average mass, and so all amino acid masses are assumed to be monoisotopic unless otherwise stated.\n",
    "\n",
    "The standard unit used in mass spectrometry for measuring mass is the atomic mass unit, which is also called the dalton (Da) and is defined as one twelfth of the mass of a neutral atom of carbon-12. The mass of a protein is the sum of the monoisotopic masses of its amino acid residues plus the mass of a single water molecule (whose monoisotopic mass is 18.01056 Da).\n",
    "\n",
    "In the following several problems on applications of mass spectrometry, we avoid the complication of having to distinguish between residues and non-residues by only considering peptides excised from the middle of the protein. This is a relatively safe assumption because in practice, peptide analysis is often performed in tandem mass spectrometry. In this special class of mass spectrometry, a protein is first divided into peptides, which are then broken into ions for mass analysis.\n",
    "\n",
    "### Problem\n",
    "The standard weight assigned to each member of the 20-symbol amino acid alphabet is the monoisotopic mass of the corresponding amino acid.\n",
    "\n",
    "**Given:** A protein string `P` of length at most 1000 aa.\n",
    "\n",
    "**Return:** The total weight of `P`.\n",
    "\n",
    "### Example\n",
    "Input:\n",
    "```\n",
    "SKADYEK\n",
    "```\n",
    "\n",
    "Output:\n",
    "```\n",
    "821.392\n",
    "```"
   ]
  },
  {
   "cell_type": "code",
   "execution_count": 11,
   "metadata": {},
   "outputs": [],
   "source": [
    "from wasims_toolbox import ProteinToolbox\n",
    "\n",
    "def calculate_protein_mass(protein: str) -> float:\n",
    "    \"\"\"Returns mass (in Daltons) of the given polypeptide chain.\"\"\"\n",
    "    \n",
    "    mass = 0\n",
    "    toolbox = ProteinToolbox()\n",
    "    \n",
    "    for amino_acid in protein:\n",
    "        mass += toolbox.monoisotopic_mass_table[amino_acid]\n",
    "        \n",
    "    return mass"
   ]
  },
  {
   "cell_type": "code",
   "execution_count": 12,
   "metadata": {},
   "outputs": [
    {
     "name": "stdout",
     "output_type": "stream",
     "text": [
      "\u001b[32m.\u001b[0m\u001b[32m                                                                                            [100%]\u001b[0m\n",
      "\u001b[32m\u001b[32m\u001b[1m1 passed\u001b[0m\u001b[32m in 0.00s\u001b[0m\u001b[0m\n"
     ]
    },
    {
     "data": {
      "text/plain": [
       "<ExitCode.OK: 0>"
      ]
     },
     "execution_count": 12,
     "metadata": {},
     "output_type": "execute_result"
    }
   ],
   "source": [
    "import ipytest\n",
    "ipytest.autoconfig()\n",
    "\n",
    "def test_case_1():\n",
    "    actual = calculate_protein_mass(\"SKADYEK\")\n",
    "    expected = 821.392\n",
    "    assert round(actual, 3) == expected\n",
    "\n",
    "ipytest.run()"
   ]
  },
  {
   "cell_type": "code",
   "execution_count": 14,
   "metadata": {},
   "outputs": [
    {
     "data": {
      "text/plain": [
       "110462.43"
      ]
     },
     "execution_count": 14,
     "metadata": {},
     "output_type": "execute_result"
    }
   ],
   "source": [
    "protein = \"TFAYKWQYGEYMWDCMHWHQWRTWMLWQRCSSQMKDSPPEINASTIIVSPRTDQLTGIMQIIEKWHPNVCQDYRAGCDFKKCVFKIYLNLPTSNTQNMMTMKRKESFPCTDRKARDHATRWNMRYDSWWACHHVCIDWKHWETMKEQKHPNMQDNYGETQLFKHEYKWGQANCKFCSHGIEQSWRMVFGPYIPGHFYIASQALKVTREECSQTCTEKGWGFWKTWKICAKTSCYQICHWTMVTWSNYDVRCFSCLLLTEMKLYLFHVQPQWYETYGCRFDYQIYIHMGGLPWCTSPGGGPNQDLFDAEGFNPDISWNISFHYICNPYRTLTNPSPIFQMYFGKYIDAFGIDTNLHVVESPFAIWWNQWGWPIMKVHVQISWHEKQDRKDPQFHKQNNRTERNKRLYFSMSKRWVVMMFGEMDHGKNILGFDHDYVSFMANMPKYSRHYGHHTDNVGQNFEKKSNCRIWGCEYLAWIEYHWNTRVAVKQKVHALICSYIFQFIILFKNESICWVHSIMAPLAIDWQTTQIPWAGVAWTIVIAQASTRWGIYGHAAWRYHCMTMSYGELQNSWMIKYWFIAKCHHNPWQCKSWHICQRMPHIPEHQLAMEHTTCASHTICSKREACPNKHIQSSKNHQAFGSHVLMLCAHMFMYFMSLVYDPGMRTKYYSICTAFVWKWVMTLLEQCRCENAACKLHEYDLINPIAYWFAPIRTCTHNWNDLLGCKELSNYRTDSNRMGEPYTLNQPVTENPGKVVTTLLYTVGRIAKTDPAHYAIWPVHDIKCLKTAISSTNHGRPMNARHQDWHDQKKIWSSEPNPRFDDRRPPNNDPPYHYNHFDDHDQSHQLSCREGANPKIGKWINHMEMCDQLFHNHIVTPRLLQVGMIQAAHQTCIMSTSMPKIDNYFKVYFQHSHNEKRMINPAEIDKPGW\"\n",
    "mass = calculate_protein_mass(protein)\n",
    "round(mass, 3)"
   ]
  }
 ],
 "metadata": {
  "kernelspec": {
   "display_name": "Python 3",
   "language": "python",
   "name": "python3"
  },
  "language_info": {
   "codemirror_mode": {
    "name": "ipython",
    "version": 3
   },
   "file_extension": ".py",
   "mimetype": "text/x-python",
   "name": "python",
   "nbconvert_exporter": "python",
   "pygments_lexer": "ipython3",
   "version": "3.9.6"
  },
  "orig_nbformat": 4
 },
 "nbformat": 4,
 "nbformat_minor": 2
}
