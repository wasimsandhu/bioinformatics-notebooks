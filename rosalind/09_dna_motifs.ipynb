{
 "cells": [
  {
   "cell_type": "markdown",
   "metadata": {},
   "source": [
    "## [Finding DNA Motifs](https://rosalind.info/problems/subs/)\n",
    "\n",
    "### Background\n",
    "Given two strings, `t` is a substring of `s` if it is contained as a contiguous collection of symbols in `s` (as a result, t must be no longer than `s`).\n",
    "\n",
    "The position of a symbol in a string is the total number of symbols found to its left, including itself e.g., the positions of all occurrences of `U` in `AUGCUUCAGAAAGGUCUUACG` are 2, 5, 6, 15, 17, and 18. The symbol at position `i` of `s` is denoted by `s[i]` .\n",
    "\n",
    "A substring of `s` can be represented as `s[j:k]` , where `j` and `k` represent the starting and ending positions of the substring in `s`. For example, if `s` = `AUGCUUCAGAAAGGUCUUACG`, then `s[2:5]` = `UGCU`.\n",
    "\n",
    "The location of a substring `s[j:k]` is its beginning position `j`; note that `t` will have multiple locations in `s` if it occurs more than once as a substring of `s`.\n",
    "\n",
    "### Problem\n",
    "Input:\n",
    "```\n",
    "GATATATGCATATACTT\n",
    "ATAT\n",
    "```\n",
    "\n",
    "Output:\n",
    "```\n",
    "2 4 10\n",
    "```"
   ]
  },
  {
   "cell_type": "code",
   "execution_count": 58,
   "metadata": {},
   "outputs": [],
   "source": [
    "def find_motif(dna: str, motif: str):\n",
    "    \"\"\"Finds and returns indices of motif in given DNA strand.\"\"\"\n",
    "    \n",
    "    index = 0\n",
    "    indices = []\n",
    "    \n",
    "    while True:\n",
    "        try:\n",
    "            motif_index = dna.index(motif, index) + 1\n",
    "            indices.append(str(motif_index))\n",
    "            index = motif_index\n",
    "        except:\n",
    "            break\n",
    "    \n",
    "    return \" \".join(indices)"
   ]
  },
  {
   "cell_type": "code",
   "execution_count": 59,
   "metadata": {},
   "outputs": [
    {
     "name": "stdout",
     "output_type": "stream",
     "text": [
      "\u001b[32m.\u001b[0m\u001b[32m                                                                                            [100%]\u001b[0m\n",
      "\u001b[32m\u001b[32m\u001b[1m1 passed\u001b[0m\u001b[32m in 0.00s\u001b[0m\u001b[0m\n"
     ]
    },
    {
     "data": {
      "text/plain": [
       "<ExitCode.OK: 0>"
      ]
     },
     "execution_count": 59,
     "metadata": {},
     "output_type": "execute_result"
    }
   ],
   "source": [
    "import ipytest\n",
    "ipytest.autoconfig()\n",
    "\n",
    "def test_case_1():\n",
    "    actual = find_motif(\"GATATATGCATATACTT\", \"ATAT\")\n",
    "    expected = \"2 4 10\"\n",
    "    assert actual == expected\n",
    "    \n",
    "ipytest.run()"
   ]
  },
  {
   "cell_type": "code",
   "execution_count": 60,
   "metadata": {},
   "outputs": [
    {
     "data": {
      "text/plain": [
       "'16 24 46 53 61 95 173 180 201 242 266 273 306 334 341 357 364 371 378 423 431 441 481 488 503 512 543 563 607 651 725 754 767 774 791 819 836 862 877 901'"
      ]
     },
     "execution_count": 60,
     "metadata": {},
     "output_type": "execute_result"
    }
   ],
   "source": [
    "dna_strand = \"TTTCCGGGTTCACAAGGTTCACGGGTTCACGGTTCACATTATTTCGGTTCACGGTTCACGGGTTCACGGAGCAAACTGGTTCACGCGGTTCACAGGTTCACGGTTCACAAGGTTCACCTTTGTGGTTCACCAGCAATTATCGGTTCACCCGGTTCACAGGTTCACGACGGGGGGTTCACGGTTCACGGTTCACCCAGGATGGTTCACGGTTCACTACGGGTTCACAGGTTCACATACTCGCGGTTCACGGTTCACCTCCCACCTTGGTTCACGGTTCACGGTTCACTACCACTGTGTGGTTCACAGGTTCACGGTTCACTGGTTCACAGCAAAGGTTCACGGTTCACGGTTCACACGGTTCACGGTTCACGGTTCACGGTTCACGGTTCACGATCGGTTCACCGGTTCACATGGTTCACACCGGTTCACGGGTTCACGGAGGTTCACGGGTTCACCGGTTCACGTAGTATCAGGTTCACCGGTTCACGGTTCACGGTTCACTGGTTCACGGGGTTCACGGTTCACTGGTTCACGCACTTCAAGGTTCACGGGTTCACTACTAGGTTCACGGGTTCACGCGGTTCACTCGACGGTTCACGCGCTGGCGGTTCACGGTTCACACGGTTCACTCTGGTTCACCAGGTTCACTTGGTTCACGGTTCACAGGTTCACGCCCACGGGGCGGTTCACCGGGTTCACAAAGCGGTTCACGACGTCTAGAGTCGGTTCACGGTTCACATGGGTTCACATTTCGGTTCACGGGTCGGGTTCACGGTTCACGGTTCACGTAGGTTCACGGTTCACCGGTTCACAGGATCGGTTCACGGGTTCACTGGGTTCACGGTTCACGCCGGGTTCACCGGTTCACGGTTCACAGGTTCACGGTTCACAAGGTTCACAGGTTCACGGTTCACTGGTTCACATGGTAGGGTTCACTCCATTACAGGTTCACTGGTTCACGATTTGCCGGTTCAC\"\n",
    "motif = \"GGTTCACGG\"\n",
    "find_motif(dna_strand, motif)"
   ]
  }
 ],
 "metadata": {
  "kernelspec": {
   "display_name": "Python 3",
   "language": "python",
   "name": "python3"
  },
  "language_info": {
   "codemirror_mode": {
    "name": "ipython",
    "version": 3
   },
   "file_extension": ".py",
   "mimetype": "text/x-python",
   "name": "python",
   "nbconvert_exporter": "python",
   "pygments_lexer": "ipython3",
   "version": "3.9.6"
  },
  "orig_nbformat": 4
 },
 "nbformat": 4,
 "nbformat_minor": 2
}
