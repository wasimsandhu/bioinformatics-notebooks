{
 "cells": [
  {
   "cell_type": "markdown",
   "metadata": {},
   "source": [
    "## [Complementing a Strand of DNA](https://rosalind.info/problems/revc/)\n",
    "\n",
    "### Background\n",
    "Watson and Crick's proposal:\n",
    "1. The DNA molecule is made up of two strands, running in opposite directions.\n",
    "1. Each base bonds to a base in the opposite strand.\n",
    "1. The two strands are twisted together into a long spiral staircase structure called a double helix.\n",
    "\n",
    "In DNA strings, symbols 'A' and 'T' are complements of each other, as are 'C' and 'G'.\n",
    "\n",
    "The reverse complement of a DNA string `s` is the string `c`, formed by reversing the symbols of `s`, then taking the complement of each symbol (e.g., the reverse complement of \"GTCA\" is \"TGAC\").\n",
    "\n",
    "### Problem\n",
    "Given: A DNA string `s` of length at most 1000 bp.\n",
    "\n",
    "Return: The reverse complement `c` of `s`.\n",
    "\n",
    "### Example\n",
    "```\n",
    "Input: AAAACCCGGT\n",
    "Output: ACCGGGTTTT\n",
    "```"
   ]
  },
  {
   "cell_type": "code",
   "execution_count": 15,
   "metadata": {},
   "outputs": [],
   "source": [
    "def reverse_complement(dna: str) -> str:\n",
    "    \"\"\"Returns the reverse complement of a given DNA strand.\"\"\"\n",
    "    \n",
    "    complements = {\n",
    "        \"A\": \"T\",\n",
    "        \"T\": \"A\",\n",
    "        \"G\": \"C\",\n",
    "        \"C\": \"G\"\n",
    "    }\n",
    "    \n",
    "    complementary_stand = \"\"\n",
    "    \n",
    "    for nt in reversed(dna):\n",
    "        complementary_stand += complements[nt]\n",
    "    \n",
    "    return complementary_stand"
   ]
  },
  {
   "cell_type": "code",
   "execution_count": 16,
   "metadata": {},
   "outputs": [],
   "source": [
    "import ipytest\n",
    "ipytest.autoconfig()"
   ]
  },
  {
   "cell_type": "code",
   "execution_count": 17,
   "metadata": {},
   "outputs": [
    {
     "name": "stdout",
     "output_type": "stream",
     "text": [
      "\u001b[32m.\u001b[0m\u001b[32m                                                                                            [100%]\u001b[0m\n",
      "\u001b[32m\u001b[32m\u001b[1m1 passed\u001b[0m\u001b[32m in 0.01s\u001b[0m\u001b[0m\n"
     ]
    }
   ],
   "source": [
    "%%ipytest\n",
    "\n",
    "def test_case_1():\n",
    "    actual = reverse_complement(\"AAAACCCGGT\")\n",
    "    expected = \"ACCGGGTTTT\"\n",
    "    assert actual == expected"
   ]
  }
 ],
 "metadata": {
  "kernelspec": {
   "display_name": "Python 3",
   "language": "python",
   "name": "python3"
  },
  "language_info": {
   "codemirror_mode": {
    "name": "ipython",
    "version": 3
   },
   "file_extension": ".py",
   "mimetype": "text/x-python",
   "name": "python",
   "nbconvert_exporter": "python",
   "pygments_lexer": "ipython3",
   "version": "3.9.6"
  },
  "orig_nbformat": 4
 },
 "nbformat": 4,
 "nbformat_minor": 2
}
