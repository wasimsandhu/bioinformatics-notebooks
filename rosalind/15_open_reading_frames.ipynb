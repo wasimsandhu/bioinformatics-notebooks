{
 "cells": [
  {
   "cell_type": "markdown",
   "metadata": {},
   "source": [
    "## [Open Reading Frames](https://rosalind.info/problems/orf/)\n",
    "\n",
    "### Background\n",
    "Three immediate wrinkles of complexity arise when we try to pass directly from DNA to proteins.\n",
    "\n",
    "First, not all DNA will be transcribed into RNA: so-called junk DNA appears to have no practical purpose for cellular function. \n",
    "\n",
    "Second, we can begin translation at any position along a strand of RNA, meaning that any substring of a DNA string can serve as a template for translation, as long as it begins with a start codon, ends with a stop codon, and has no other stop codons in the middle.\n",
    "\n",
    "As a result, the same RNA string can actually be translated in three different ways, depending on how we group triplets of symbols into codons. For example, ...AUGCUGAC... can be translated as ...AUGCUG..., ...UGCUGA..., and ...GCUGAC..., which will typically produce wildly different protein strings.\n",
    "\n",
    "### Open Reading Frames\n",
    "Either strand of a DNA double helix can serve as the coding strand for RNA transcription. Hence, a given DNA string implies six total reading frames, or ways in which the same region of DNA can be translated into amino acids: three reading frames result from reading the string itself, whereas three more result from reading its reverse complement.\n",
    "\n",
    "An open reading frame (ORF) is one which starts from the start codon and ends by stop codon, without any other stop codons in between. Thus, a candidate protein string is derived by translating an open reading frame into amino acids until a stop codon is reached.\n",
    "\n",
    "### Problem\n",
    "**Given:** A DNA string `s` of length at most 1 kbp in FASTA format.\n",
    "\n",
    "**Return:** Every distinct candidate protein string that can be translated from ORFs of `s`. Strings can be returned in any order.\n",
    "\n",
    "### Example\n",
    "Input:\n",
    "```\n",
    ">Rosalind_99\n",
    "AGCCATGTAGCTAACTCAGGTTACATGGGGATGACCCCGCGACTTGGATTAGAGTCTCTTTTGGAATAAGCCTGAATGATCCGAGTAGCATCTCAG\n",
    "```\n",
    "\n",
    "Output:\n",
    "```\n",
    "MLLGSFRLIPKETLIQVAGSSPCNLS\n",
    "M\n",
    "MGMTPRLGLESLLE\n",
    "MTPRLGLESLLE\n",
    "```"
   ]
  },
  {
   "cell_type": "code",
   "execution_count": 1,
   "metadata": {},
   "outputs": [],
   "source": [
    "def protein_candidates(dna_strand: str) -> list:\n",
    "    \n",
    "    \"\"\"\n",
    "    Returns a list of every possible protein that may be\n",
    "    translated from the open reading frames in the given strand.\n",
    "\n",
    "    Args:\n",
    "        dna_strand (str): DNA string of length at most 1 kbp.\n",
    "\n",
    "    Returns:\n",
    "        list: Every distinct candidate protein string that can be \n",
    "        translated from open reading frames in the given DNA strand.\n",
    "    \"\"\"\n",
    "    \n",
    "    candidates = []\n",
    "    return candidates"
   ]
  },
  {
   "cell_type": "code",
   "execution_count": 2,
   "metadata": {},
   "outputs": [
    {
     "name": "stdout",
     "output_type": "stream",
     "text": [
      "\u001b[31mF\u001b[0m\u001b[31m                                                                                            [100%]\u001b[0m\n",
      "============================================= FAILURES =============================================\n",
      "\u001b[31m\u001b[1m___________________________________________ test_case_1 ____________________________________________\u001b[0m\n",
      "\n",
      "    \u001b[94mdef\u001b[39;49;00m \u001b[92mtest_case_1\u001b[39;49;00m():\u001b[90m\u001b[39;49;00m\n",
      "        dna = \u001b[33m\"\u001b[39;49;00m\u001b[33mAGCCATGTAGCTAACTCAGGTTACATGGGGATGACCCCGCGACTTGG\u001b[39;49;00m\u001b[33m\"\u001b[39;49;00m + \\\n",
      "        \u001b[33m\"\u001b[39;49;00m\u001b[33mATTAGAGTCTCTTTTGGAATAAGCCTGAATGATCCGAGTAGCATCTCAG\u001b[39;49;00m\u001b[33m\"\u001b[39;49;00m\u001b[90m\u001b[39;49;00m\n",
      "        actual = protein_candidates(dna)\u001b[90m\u001b[39;49;00m\n",
      "        expected = [\u001b[33m\"\u001b[39;49;00m\u001b[33mMLLGSFRLIPKETLIQVAGSSPCNLS\u001b[39;49;00m\u001b[33m\"\u001b[39;49;00m, \u001b[33m\"\u001b[39;49;00m\u001b[33mM\u001b[39;49;00m\u001b[33m\"\u001b[39;49;00m,\u001b[90m\u001b[39;49;00m\n",
      "            \u001b[33m\"\u001b[39;49;00m\u001b[33mMGMTPRLGLESLLE\u001b[39;49;00m\u001b[33m\"\u001b[39;49;00m, \u001b[33m\"\u001b[39;49;00m\u001b[33mMTPRLGLESLLE\u001b[39;49;00m\u001b[33m\"\u001b[39;49;00m]\u001b[90m\u001b[39;49;00m\n",
      ">       \u001b[94massert\u001b[39;49;00m actual == expected\u001b[90m\u001b[39;49;00m\n",
      "\u001b[1m\u001b[31mE       AssertionError\u001b[0m\n",
      "\n",
      "\u001b[1m\u001b[31m/var/folders/hb/_y3ys8r13s38s9qdcr85dxm80000gn/T/ipykernel_24452/4114540497.py\u001b[0m:10: AssertionError\n",
      "\u001b[36m\u001b[1m===================================== short test summary info ======================================\u001b[0m\n",
      "\u001b[31mFAILED\u001b[0m t_30807f8abfd541e0868153fc1d6896c7.py::\u001b[1mtest_case_1\u001b[0m - AssertionError\n",
      "\u001b[31m\u001b[31m\u001b[1m1 failed\u001b[0m\u001b[31m in 0.09s\u001b[0m\u001b[0m\n"
     ]
    },
    {
     "name": "stderr",
     "output_type": "stream",
     "text": [
      "/Users/wasim/Library/Python/3.9/lib/python/site-packages/urllib3/__init__.py:34: NotOpenSSLWarning: urllib3 v2.0 only supports OpenSSL 1.1.1+, currently the 'ssl' module is compiled with 'LibreSSL 2.8.3'. See: https://github.com/urllib3/urllib3/issues/3020\n",
      "  warnings.warn(\n"
     ]
    },
    {
     "data": {
      "text/plain": [
       "<ExitCode.TESTS_FAILED: 1>"
      ]
     },
     "execution_count": 2,
     "metadata": {},
     "output_type": "execute_result"
    }
   ],
   "source": [
    "import ipytest\n",
    "ipytest.autoconfig()\n",
    "\n",
    "def test_case_1():\n",
    "    dna = \"AGCCATGTAGCTAACTCAGGTTACATGGGGATGACCCCGCGACTTGG\" + \\\n",
    "    \"ATTAGAGTCTCTTTTGGAATAAGCCTGAATGATCCGAGTAGCATCTCAG\"\n",
    "    actual = protein_candidates(dna)\n",
    "    expected = [\"MLLGSFRLIPKETLIQVAGSSPCNLS\", \"M\", \n",
    "        \"MGMTPRLGLESLLE\", \"MTPRLGLESLLE\"]\n",
    "    assert actual == expected\n",
    "\n",
    "ipytest.run()"
   ]
  }
 ],
 "metadata": {
  "kernelspec": {
   "display_name": "Python 3",
   "language": "python",
   "name": "python3"
  },
  "language_info": {
   "codemirror_mode": {
    "name": "ipython",
    "version": 3
   },
   "file_extension": ".py",
   "mimetype": "text/x-python",
   "name": "python",
   "nbconvert_exporter": "python",
   "pygments_lexer": "ipython3",
   "version": "3.9.6"
  },
  "orig_nbformat": 4
 },
 "nbformat": 4,
 "nbformat_minor": 2
}
