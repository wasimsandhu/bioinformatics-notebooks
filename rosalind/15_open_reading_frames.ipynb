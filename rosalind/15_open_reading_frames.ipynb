{
 "cells": [
  {
   "cell_type": "markdown",
   "metadata": {},
   "source": [
    "## [Open Reading Frames](https://rosalind.info/problems/orf/)\n",
    "\n",
    "### Background\n",
    "Three immediate wrinkles of complexity arise when we try to pass directly from DNA to proteins.\n",
    "\n",
    "First, not all DNA will be transcribed into RNA: so-called junk DNA appears to have no practical purpose for cellular function. \n",
    "\n",
    "Second, we can begin translation at any position along a strand of RNA, meaning that any substring of a DNA string can serve as a template for translation, as long as it begins with a start codon, ends with a stop codon, and has no other stop codons in the middle.\n",
    "\n",
    "As a result, the same RNA string can actually be translated in three different ways, depending on how we group triplets of symbols into codons. For example, ...AUGCUGAC... can be translated as ...AUGCUG..., ...UGCUGA..., and ...GCUGAC..., which will typically produce wildly different protein strings.\n",
    "\n",
    "### Open Reading Frames\n",
    "Either strand of a DNA double helix can serve as the coding strand for RNA transcription. Hence, a given DNA string implies six total reading frames, or ways in which the same region of DNA can be translated into amino acids: three reading frames result from reading the string itself, whereas three more result from reading its reverse complement.\n",
    "\n",
    "An open reading frame (ORF) is one which starts from the start codon and ends by stop codon, without any other stop codons in between. Thus, a candidate protein string is derived by translating an open reading frame into amino acids until a stop codon is reached.\n",
    "\n",
    "### Problem\n",
    "**Given:** A DNA string `s` of length at most 1 kbp in FASTA format.\n",
    "\n",
    "**Return:** Every distinct candidate protein string that can be translated from ORFs of `s`. Strings can be returned in any order.\n",
    "\n",
    "### Example\n",
    "Input:\n",
    "```\n",
    ">Rosalind_99\n",
    "AGCCATGTAGCTAACTCAGGTTACATGGGGATGACCCCGCGACTTGGATTAGAGTCTCTTTTGGAATAAGCCTGAATGATCCGAGTAGCATCTCAG\n",
    "```\n",
    "\n",
    "Output:\n",
    "```\n",
    "MLLGSFRLIPKETLIQVAGSSPCNLS\n",
    "M\n",
    "MGMTPRLGLESLLE\n",
    "MTPRLGLESLLE\n",
    "```"
   ]
  },
  {
   "cell_type": "code",
   "execution_count": 5,
   "metadata": {},
   "outputs": [],
   "source": [
    "from wasims_toolbox import ProteinToolbox, reverse_complement\n",
    "\n",
    "def protein_candidates(dna_strand: str) -> list:\n",
    "    \n",
    "    \"\"\"\n",
    "    Returns a list of every possible protein that may be\n",
    "    translated from the open reading frames in the given strand.\n",
    "\n",
    "    Args:\n",
    "        dna_strand (str): DNA string of length at most 1 kbp.\n",
    "\n",
    "    Returns:\n",
    "        list: Every distinct candidate protein string that can be \n",
    "        translated from open reading frames in the given DNA strand.\n",
    "    \"\"\"\n",
    "    \n",
    "    # Initialize toolbox\n",
    "    toolbox = ProteinToolbox()\n",
    "    \n",
    "    # Get complementary strand\n",
    "    complement = reverse_complement(dna_strand)\n",
    "    \n",
    "    # Transcribe into mRNA strands\n",
    "    rna = dna_strand.replace(\"T\", \"U\")\n",
    "    rna_comp = complement.replace(\"T\", \"U\")\n",
    "    \n",
    "    # Find start codons\n",
    "    start_codons = [i for i in range(len(rna)) if rna[i:i+3] == \"AUG\"]\n",
    "    comp_start_codons = [i for i in range(len(rna_comp)) if rna_comp[i:i+3] == \"AUG\"]\n",
    "    \n",
    "    # Find open reading frames\n",
    "    frames = [rna[start:] for start in start_codons]\n",
    "    frames += [rna_comp[start:] for start in comp_start_codons]\n",
    "    \n",
    "    # Get translation of each open reading frame\n",
    "    candidates = []\n",
    "\n",
    "    for orf in frames:\n",
    "        protein = \"\"\n",
    "        stop_reached = False\n",
    "        \n",
    "        for i in range(0, len(orf), 3):\n",
    "            if i + 2 >= len(orf):\n",
    "                break\n",
    "            \n",
    "            amino_acid = toolbox.translate_codon(orf[i:i+3])\n",
    "            \n",
    "            if amino_acid == \"Stop\":\n",
    "                stop_reached = True\n",
    "                break\n",
    "            \n",
    "            protein += amino_acid\n",
    "        \n",
    "        if stop_reached:\n",
    "            candidates.append(protein)\n",
    "    \n",
    "    return list(set(candidates))"
   ]
  },
  {
   "cell_type": "code",
   "execution_count": 6,
   "metadata": {},
   "outputs": [
    {
     "name": "stdout",
     "output_type": "stream",
     "text": [
      "\u001b[32m.\u001b[0m\u001b[32m                                                                                            [100%]\u001b[0m\n",
      "\u001b[32m\u001b[32m\u001b[1m1 passed\u001b[0m\u001b[32m in 0.00s\u001b[0m\u001b[0m\n"
     ]
    },
    {
     "data": {
      "text/plain": [
       "<ExitCode.OK: 0>"
      ]
     },
     "execution_count": 6,
     "metadata": {},
     "output_type": "execute_result"
    }
   ],
   "source": [
    "import ipytest\n",
    "ipytest.autoconfig()\n",
    "\n",
    "def test_case_1():\n",
    "    dna = \"AGCCATGTAGCTAACTCAGGTTACATGGGGATGACCCCGCGACTTGGATTAGAGTCTCTTTTGGAATAAGCCTGAATGATCCGAGTAGCATCTCAG\"\n",
    "    candidates = protein_candidates(dna)\n",
    "    expected = [\"MLLGSFRLIPKETLIQVAGSSPCNLS\", \"M\", \"MGMTPRLGLESLLE\", \"MTPRLGLESLLE\"]\n",
    "    for candidate in candidates:\n",
    "        assert candidate in expected\n",
    "\n",
    "ipytest.run()"
   ]
  },
  {
   "cell_type": "code",
   "execution_count": 7,
   "metadata": {},
   "outputs": [
    {
     "name": "stdout",
     "output_type": "stream",
     "text": [
      "MRVNTHHRACTVLEI\n",
      "MSIHPHDDRQPPGLCRRFAIDIWLKVINRT\n",
      "MSQSHV\n",
      "MSRDYSAWGASEIQVHS\n",
      "MTVVIRPHTNLDLQHCACAVMSIHPHDDRQPPGLCRRFAIDIWLKVINRT\n",
      "MYICNVK\n",
      "MFS\n",
      "MGQPPYLPRVMSRDYSAWGASEIQVHS\n",
      "MHSAGDLG\n",
      "MRALRGHADWVRCD\n",
      "MQEVCN\n",
      "MADRPLSQSKGY\n",
      "MSFHFTLQIYMADRPLSQSKGY\n",
      "MLHCEVSPDIIQSRSVSESEPPRNEGFKGARGLGQVRLITFSQISIANLLHSPGGCRSSCG\n",
      "MTKRAQAMSFHFTLQIYMADRPLSQSKGY\n",
      "MTTDNPLDYAGGLQLISG\n",
      "MRGDEYSPA\n",
      "M\n",
      "MTAGSKLCRSQVTAEARYRSF\n",
      "MAWARLVIGYKFATAREYPIGLETTQGLARRVDLQ\n"
     ]
    }
   ],
   "source": [
    "dna = \"TACACTCAGGAGTGCACTTGGATCTCACTGGCTCCCCACGCGCTGTAATCCCGCGACATCACCCGTGGCAGGTAGGGTGGCTGGCCCATCAGTACCTACTGTAAATCGACCCGTCTAGCTAAGCCTTGGGTTGTTTCTAGGCCGATAGGATACTCCCTGGCCGTGGCAAACTTATATCCGATGACTAAGCGTGCCCAGGCCATGTCTTTTCACTTCACGTTGCAAATATACATGGCGGATCGCCCGCTGTCTCAATCGAAAGGTTACTAAGGCTGTGAGTATTGGTTTCCTACACGCTTTTTTAAGCACGCTTCACAAAGTGGTACGAGTAGAGAGCGACGCCTTGCAGAGCTGGTGTCTATTGAGTCAAAGCGGTTTCTCAGGTATATTCTGCCGACACACCTTGCCTTTATCTTTCAACACCCGAGAGACGAATGAGTCAATCACATGTTTAGCTAAACATGTGATTGACTCATACACGTCAGAACGACCGATATCTAGCCTCAGCTGTGACCTGACTCCTACATAGTTTGGAACCAGCGGTCATCTCACCCTATTAAATAGGCCTTGGCGTTCCTTTTCTGCCGTTATATGACTGTGGTTATACGACCACACACTAACCTAGATCTCCAGCACTGTGCATGCGCGGTGATGAGTATTCACCCGCATGACGACCGACAACCCCCTGGACTATGCAGGAGGTTTGCAATTGATATCTGGCTAAAGGTGATTAATCGCACCTGACCCAATCCGCGTGCCCCCTTAAAGCCCTCATTCCTGGGTGGCTCAGACTCACTGACGGAGCGTGACTGGATGATGTCGGGCGATACTTCACAGTGCAACATGTTAAATCCTAACCTCCAGGTTGTCGTATTGCTTACCTTCAGAACTGACTTGTGGACAGGGACCT\"\n",
    "solution = protein_candidates(dna)\n",
    "for candidate in solution:\n",
    "    print(candidate)"
   ]
  }
 ],
 "metadata": {
  "kernelspec": {
   "display_name": "Python 3",
   "language": "python",
   "name": "python3"
  },
  "language_info": {
   "codemirror_mode": {
    "name": "ipython",
    "version": 3
   },
   "file_extension": ".py",
   "mimetype": "text/x-python",
   "name": "python",
   "nbconvert_exporter": "python",
   "pygments_lexer": "ipython3",
   "version": "3.9.6"
  },
  "orig_nbformat": 4
 },
 "nbformat": 4,
 "nbformat_minor": 2
}
