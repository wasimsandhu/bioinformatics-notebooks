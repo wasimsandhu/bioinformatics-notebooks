{
 "cells": [
  {
   "cell_type": "markdown",
   "metadata": {},
   "source": [
    "## [Inferring mRNA from Protein](https://rosalind.info/problems/mrna/)\n",
    "\n",
    "When researchers discover a new protein, they would like to infer the strand of mRNA from which this protein could have been translated, thus allowing them to locate genes associated with this protein on the genome.\n",
    "\n",
    "Unfortunately, although any RNA string can be translated into a unique protein string, reversing the process yields a huge number of possible RNA strings from a single protein string because most amino acids correspond to multiple RNA codons (see the RNA Codon Table).\n",
    "\n",
    "Because of memory considerations, most data formats that are built into languages have upper bounds on how large an integer can be: in some versions of Python, an \"int\" variable may be required to be no larger than 2<sup>31</sup> − 1, or 2,147,483,647. As a result, to deal with very large numbers in Rosalind, we need to devise a system that allows us to manipulate large numbers without actually having to store large numbers.\n",
    "\n",
    "### Background\n",
    "For positive integers `a` and `n`, a modulo `n` (written `a mod n` in shorthand) is the remainder when `a` is divided by `n`. For example, `29 mod 11 = 7` because `29 = 11 × 2 + 7`.\n",
    "\n",
    "**Modular arithmetic** is the study of addition, subtraction, multiplication, and division with respect to the modulo operation. We say that `a` and `b` are congruent modulo `n` if `a mod n = b mod n`; in this case, we use the notation `a ≡ b mod n`.\n",
    "\n",
    "Two useful facts in modular arithmetic are that if a≡bmodn and c≡dmodn , then a+c≡b+dmodn and a×c≡b×dmodn . To check your understanding of these rules, you may wish to verify these relationships for a=29 , b=73 , c=10 , d=32 , and n=11 .\n",
    "\n",
    "As you will see in this exercise, some Rosalind problems will ask for a (very large) integer solution modulo a smaller number to avoid the computational pitfalls that arise with storing such large numbers.\n",
    "\n",
    "### Problem\n",
    "**Given:** A protein string of length at most 1000 aa.\n",
    "\n",
    "**Return:** The total number of different RNA strings from which the protein could have been translated, modulo 1,000,000. (Don't neglect the importance of the stop codon in protein translation.)\n",
    "\n",
    "### Example\n",
    "Input:\n",
    "```\n",
    "MA\n",
    "```\n",
    "\n",
    "Output:\n",
    "```\n",
    "12\n",
    "```"
   ]
  },
  {
   "cell_type": "code",
   "execution_count": 50,
   "metadata": {},
   "outputs": [],
   "source": [
    "from wasims_toolbox import ProteinToolbox\n",
    "\n",
    "def rna_combinations_modulo_million(protein: str):\n",
    "    \n",
    "    toolbox = ProteinToolbox()\n",
    "    combinations = len(toolbox.get_codons(\"Stop\"))\n",
    "    \n",
    "    for amino_acid in protein:\n",
    "        amino_acid_codons = len(toolbox.get_codons(amino_acid))\n",
    "        combinations = (combinations * amino_acid_codons) % 1000000\n",
    "    \n",
    "    return combinations"
   ]
  },
  {
   "cell_type": "code",
   "execution_count": 51,
   "metadata": {},
   "outputs": [
    {
     "name": "stdout",
     "output_type": "stream",
     "text": [
      "\u001b[32m.\u001b[0m\u001b[32m                                                                                            [100%]\u001b[0m\n",
      "\u001b[32m\u001b[32m\u001b[1m1 passed\u001b[0m\u001b[32m in 0.00s\u001b[0m\u001b[0m\n"
     ]
    },
    {
     "data": {
      "text/plain": [
       "<ExitCode.OK: 0>"
      ]
     },
     "execution_count": 51,
     "metadata": {},
     "output_type": "execute_result"
    }
   ],
   "source": [
    "import ipytest\n",
    "ipytest.autoconfig()\n",
    "\n",
    "def test_case_1():\n",
    "    expected = 12\n",
    "    actual = rna_combinations_modulo_million(\"MA\")\n",
    "    assert actual == expected\n",
    "\n",
    "ipytest.run()"
   ]
  },
  {
   "cell_type": "code",
   "execution_count": 52,
   "metadata": {},
   "outputs": [
    {
     "data": {
      "text/plain": [
       "805696"
      ]
     },
     "execution_count": 52,
     "metadata": {},
     "output_type": "execute_result"
    }
   ],
   "source": [
    "protein = \"MTRGCKWAYHDGVSQMYMGCWEIEKNTLIAGLAAWGMRDVITQSTARMIPGSVDSPRYLRYHVRKHIVENDFNQYQSKFQDCNWKQFDTWHDWYLSNHQPNLVLTNAKCHGPFEQWWLKINTRPTDCMIEFGINVIEDDKSARGLSTRFWHWEGILNCTHDIDTYIYDASECNPTPYKCTRVRAKKLKCWQKPMKTNEEKWAYIAINYCQHDGKCQWRLTPLFSKSETALFWDEYCQFSHEMGVKAFRGSPNWAQQLQMHSQRCMNACGIDIERMRTWMQCYRSSWHFDCRFSHQWEWYESHLFWIRELRTVTHGFHFMWAYFRWENMASGGTYAIPHEFHPECYQWWAPTGPMGNMKRWRPRKIYMFRASEKRMDCRQLLWQVKVFMPLDNPLFVCTPRHGFESYRCPSDDANANNMGTDVNSLKYTEYNDIWWVQPFYNVCSLVFWTVLKYGYAMCFNCWHIPPKFPIWCYLKKCMGHYFWHMDFNNVVCSSHGPFIWDKSRTREMNRYCKEWDNPWEAYPTPMFRVSPYQHGITSPRIRCFRAMALLKDYVHIWFCYNCDGRTGWNTPPDIPQDWPPHLVQPIWYLREDEQQKNKKATWYDNVKQHRKQIVMFIWKYYYDEPLNAEPYWNQASEEKAHCDKIAEEDYIMGYVCDCEKTRKSTAAWIISRYVGVTMCPIGSTFGRHNYFDKYILQWLGVVSMWVGFHHHEFFAFPSKKKLANDQRFAVFFWLSKCGHCTCYQYYQENDTWHWMWNLDCLKVTAFPWATTTHISCEKDRCSFIEEETAQMNAMDGWSYQYRSIFLHKGYYPLCSKCADCEPLHRKEYDHHVTKNQDFMQWKRWHNNFQRGTPRRSSWWSRHCAHQLECDSMCKIPTIVIPVAFVHGLGKNQVMSESGIVCEQCPMWHWHSHPESNTIWGMQRHTIHKGPVYSHGWGAHPSMAGYDIIYKSPYMTYWVCWTQIYSFDFTPTFESPSHNALPMVHHEYSHTFMVPTWD\"\n",
    "combinations = rna_combinations_modulo_million(protein)\n",
    "combinations"
   ]
  }
 ],
 "metadata": {
  "kernelspec": {
   "display_name": "Python 3",
   "language": "python",
   "name": "python3"
  },
  "language_info": {
   "codemirror_mode": {
    "name": "ipython",
    "version": 3
   },
   "file_extension": ".py",
   "mimetype": "text/x-python",
   "name": "python",
   "nbconvert_exporter": "python",
   "pygments_lexer": "ipython3",
   "version": "3.9.6"
  },
  "orig_nbformat": 4
 },
 "nbformat": 4,
 "nbformat_minor": 2
}
