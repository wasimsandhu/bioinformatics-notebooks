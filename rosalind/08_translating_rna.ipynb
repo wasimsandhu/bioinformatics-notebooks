{
 "cells": [
  {
   "cell_type": "markdown",
   "metadata": {},
   "source": [
    "## [Translating RNA into Protein](https://rosalind.info/problems/prot/)\n",
    "\n",
    "### Background\n",
    "The 20 commonly occurring amino acids are abbreviated by using 20 letters from the English alphabet (all letters except for B, J, O, U, X, and Z). Protein strings are constructed from these 20 symbols. Henceforth, the term genetic string will incorporate protein strings along with DNA strings and RNA strings.\n",
    "\n",
    "The RNA codon table dictates the details regarding the encoding of specific codons into the amino acid alphabet.\n",
    "\n",
    "### Problem\n",
    "Given: An RNA string `s` corresponding to a strand of mRNA (of length at most 10 kbp).\n",
    "\n",
    "Return: The protein string encoded by `s`.\n",
    "\n",
    "### Example\n",
    "Input:\n",
    "```\n",
    "AUGGCCAUGGCGCCCAGAACUGAGAUCAAUAGUACCCGUAUUAACGGGUGA\n",
    "```\n",
    "\n",
    "Output:\n",
    "```\n",
    "MAMAPRTEINSTRING\n",
    "```"
   ]
  },
  {
   "cell_type": "code",
   "execution_count": 13,
   "metadata": {},
   "outputs": [],
   "source": [
    "codon_dictionary = {\n",
    "    'UUU': 'F', 'UUC': 'F', 'UUA': 'L', 'UUG': 'L',\n",
    "    'UCU': 'S', 'UCC': 'S', 'UCA': 'S', 'UCG': 'S',\n",
    "    'UAU': 'Y', 'UAC': 'Y', 'UAA': 'Stop', 'UAG': 'Stop',\n",
    "    'UGU': 'C', 'UGC': 'C', 'UGA': 'Stop', 'UGG': 'W',\n",
    "    'CUU': 'L', 'CUC': 'L', 'CUA': 'L', 'CUG': 'L',\n",
    "    'CCU': 'P', 'CCC': 'P', 'CCA': 'P', 'CCG': 'P',\n",
    "    'CAU': 'H', 'CAC': 'H', 'CAA': 'Q', 'CAG': 'Q',\n",
    "    'CGU': 'R', 'CGC': 'R', 'CGA': 'R', 'CGG': 'R',\n",
    "    'AUU': 'I', 'AUC': 'I', 'AUA': 'I', 'AUG': 'M',\n",
    "    'ACU': 'T', 'ACC': 'T', 'ACA': 'T', 'ACG': 'T',\n",
    "    'AAU': 'N', 'AAC': 'N', 'AAA': 'K', 'AAG': 'K',\n",
    "    'AGU': 'S', 'AGC': 'S', 'AGA': 'R', 'AGG': 'R',\n",
    "    'GUU': 'V', 'GUC': 'V', 'GUA': 'V', 'GUG': 'V',\n",
    "    'GCU': 'A', 'GCC': 'A', 'GCA': 'A', 'GCG': 'A',\n",
    "    'GAU': 'D', 'GAC': 'D', 'GAA': 'E', 'GAG': 'E',\n",
    "    'GGU': 'G', 'GGC': 'G', 'GGA': 'G', 'GGG': 'G'\n",
    "}\n",
    "\n",
    "def translation(rna: str):\n",
    "    \"\"\"Translates mRNA (genetic string) into polypeptide (protein string).\"\"\"\n",
    "    \n",
    "    codons = [rna[index:index+3] for index in range(0, len(rna), 3)]\n",
    "    protein = [codon_dictionary[codon] for codon in codons]\n",
    "    protein.remove(\"Stop\")\n",
    "    return \"\".join(protein)"
   ]
  },
  {
   "cell_type": "code",
   "execution_count": 14,
   "metadata": {},
   "outputs": [
    {
     "name": "stdout",
     "output_type": "stream",
     "text": [
      "\u001b[32m.\u001b[0m\u001b[32m                                                                                            [100%]\u001b[0m\n",
      "\u001b[32m\u001b[32m\u001b[1m1 passed\u001b[0m\u001b[32m in 0.00s\u001b[0m\u001b[0m\n"
     ]
    },
    {
     "data": {
      "text/plain": [
       "<ExitCode.OK: 0>"
      ]
     },
     "execution_count": 14,
     "metadata": {},
     "output_type": "execute_result"
    }
   ],
   "source": [
    "import ipytest\n",
    "ipytest.autoconfig()\n",
    "\n",
    "def test_case_1():\n",
    "    rna_strand = \"AUGGCCAUGGCGCCCAGAACUGAGAUCAAUAGUACCCGUAUUAACGGGUGA\"\n",
    "    actual = translation(rna_strand)\n",
    "    expected = \"MAMAPRTEINSTRING\"\n",
    "    assert actual == expected\n",
    "    \n",
    "ipytest.run()"
   ]
  },
  {
   "cell_type": "code",
   "execution_count": 15,
   "metadata": {},
   "outputs": [
    {
     "name": "stdout",
     "output_type": "stream",
     "text": [
      "MLCGTLKCILNRNIRLTEPSRVMVFLRSYSKVENHIALEPLKNAGCISGSWVKSRTTNIEGASIMQLPVRVELLSLRYCGISLPLQRVEPMSAAHYDTHLYRKPVQVLPGDKRNDHRRGRQCPLWRSPPQAYYFDWPNLQLTIGASHQRVLTSPASRSLGNGSAARASDPVGPTSRIIPPYARGGALTQATRNPRCTVLTLSHLGPLHGVRILLRSLFQNRVMRFRKLSPEMLLCLDKVNWSWSTNSSMDQLRPASSEPCRLDSETPSRHTLAIHASGTLVASSFLIQDSHMVRACEYNSVISRAKPHGRRDLLYEVGGPDIRSTVKRCSLLVARSTGITGGGPKVTIVWHAFLHSVVCWWARYHAPRGTMALNQRLCNPGLCPPGKHTGSTTDMMYPEHYPVGLDVFRMVAGQTGTEPVGGPTEPIKLSAWPLNLISAPNSYAPLKTFIARWTSMLHPHLPIPRRISHDLLVRIYPSGREYTGPVHSGNLNKANGVPLDRHSHETLSNRCTIIGRTGLVISRLQRREFRHRDNHIRVAISIRKCSLGVTSSVYFWRVATVRIGDLNPFFFLRVIKKAFLILHTPNLRPEATNQAMTHLRPNFYGSLSGGMKAQGGDHETGVLPHIQCKLAVWGTSCSHLTFTRLVTQLAHECVAHSSSGSPQRQRSAPEKPCRAASAVERSPPSRLHWRQIKSVFLALADHCSWFREPLHNRWFTYHQHAVRSPRQYDLRAVDTGPIDIYIRVRSASAADACQPHSPNLTLARAQALNRSEGAVSDGHMGTLVSVTNEPGNMTLRLNHGVRVSITVCLALLRFITAHESGQFACIQILSFSRLSPINTAWCCRGEEGRRSPSFTEHACCSNHICANSQSLASLTRQLQKKVAYITTPISCLNPSLCAPLRRRLCSNLPADYRYTNRRPFRRLERGVDDSLLCTLGLDAIPTGYEVHNDMFHRSALLIFPVLRIGDMNQVQAIRPTLLVGSVTSLRETQVSTKARLLLMQKVSGMDWDVRTLSISHYPSHHRLVFPIYLPGNNCDLLLVSCHLYLSRLIYDVCNVKRAILPDRSLPVINRVVLATPLARVGTPGGIRVGQAHLVAQNVHHCKIVEHTTFMPYNDIVHRLLLPRGKLHIPPYSGSRSRPANRTSCCPHLKLQNRWVGGPGSRRVGHHLRYYVMAQSFAGEARPTQVRTRAYYGTRSSPGGQIYLYTLASPTRSFQYSRPMTECYTGYRINQCVRRLRRTARILSTLQVRGSENVSTYCPNPTQIGALKRICGIFVPRSLQTGLVPCDGSSTLECRDTLQHLFVSLERSIWQTIAICPRYITKYVICWLTKILCCCRVETVVDHRMSVPFSMRRAPELNRPIHKYDRLASIPTDKGCQASKRPGESIMRGTRQYNNSPRVFARLRGRIDVNIRRTGGAVCVDVAVQSGQWMLRQSRSSCNPARLLQTSLRSYHAVRFSCRLMLLGCECLHFIVQSTSSSLRSKAAMDELHLARTHFLRMYPPNLVILALSFDWLMVLLVTDISDAGVLAPKMRRDGSLHRLLCTRLAARKYINRLDHSLPACVSLTITMLNSSPFGDVHDYAAEPPDKFKAIPRCTYFRSWHYTVLTACSIRLLKTEGESSKPISAAYGSAWCDPARTPYMICLSDSRLAQWRAANQRTRGGRFALSNPVKITNNLWRAFTLDGRNSSWVLRNRKTPYSCYFFGLVNLERSPRSRSPMTLSHMRSRVSGGSPGGDMPNLGTRNPRSCCSLKNNWWDWADYTSRAIARASFQGMKVRITVEIEYLGDRKSSGCYTRIVEARDPSRIYAGGEFDAGAAQALAVTDRIHWRSGGVSSSSAPGVWYGNLSSPSQRRDAYHAPDGRRQDGLVCGGIVRAQGGDAIVVRMAQLLTDYYNANARIGPHVYICSFTSVVVVHLNRRPGGLVYEASRQKPLPLNGIPNEHLAHRTSWLPLLLRFTGLVSQSLLLMLSTRPSRIFTPPGDEKHKLFGNILYDTSRCTSGNCYLSCQTACNMDVATSHSNHSKPPTLHMFNNLPRDTKSLVPPPITECNSWSIDRPTKLFVSHPTVLLEIPTVCVKSLVTLNASVYGPPARGLSRFCPNDYMLFMQRFRTSLDGGSRNPSAARFDSHGQYRKRFDSDRRWGEKMHVISNLRATADKFSTLHRPSNPSLELRLDQDKLRIGCPVRKRCASPYYTKRPVPRRERSNSRGPPRLLPRYISLQGLPMRQGTIAEHHMHLIVRGHRSVTSNFIGSIAVFAEEEGQNRILAEAPIVLVRNRRGVVHGKRTYTTEQSAPKGMNTGQACSTCLGLALPIGVFRPRKANETYPNALPRRQLGVCHFGSTRFADAQEGRCNLASRALPVPMQIVRGFVQYRVNKKSRSRCGEAGRPSRTNSWRCANEAAWNNRRLVLWAKLASRKMRRTPASAHTPNIRLPFNTVGCLDFHDPIYCVGIRRYTNPPWLLGPLDASMTIRHSAASEDPVRIPGKQRSGLPGFSPTETWNCDVRLGNGTQAGCGPTQRTWRPAPPLNSSVSPSRQTTISTDATRLSAYSMLITAQPTAQHFVPPRSNNGTTYMTLGRYRQPPHRVKSGARRLGLGRQTVAIIRRQETTPSPTCDHPMAFWRVRLVSTSGYMLIKTYDSLSNTLFNCSHAMIIQVQFEDCFIWLLQPGWSVAAWMPYKYRLYQASNLVATCGERSHLLVQRGQVGTIHTRWRRLNVLEWLNSGSYTIYAILQVKLVQRLVDVLFFYRLRHGGTGPMSPRVGTSRSDWLLMRLPQLLYPRAHQRGGIYGSAIALVVMVQELSSADSARLRLLETLTEMRVRLLPQAGIYGKYRTPRRVRPGQDPGDCQDVTSYGASRGKWRFGIEQDNITEESRRVWYSGDVLDSNYTSIESHVINTGLHGRFGALSLRLNLLLHGLASVLCFAVVMSVNLRGLTRHLTRVSPFGVRMLLWPSVPGITYRNRDGLRVTPPIATLGFQSIDARFITGFLRKTLGCALPYSSIAEIRVADLHRPLISGDRADGEHWGMGVLVIRGTLAGGEYHDTVSRSLTPFYVYVKGMASPTVYVAKVMGLTLNSRLVLVRSQGCTPQSKKRACLLGLRTLNIFEIYAFIAKIRIGPKLWSHSRCQRRASIYGGCRARSSDVSTAPAAVLGAAENYFPANVNRVPYASCNPFSQFYEPTLCISVGFKGSSLQQWFCVSSQKALDCLLAPRTSAFHSCFGCFRWKRLMISHDCLSTPEEAVYWTKPYNQVR\n"
     ]
    }
   ],
   "source": [
    "with open(\"./sample_datasets/08_mRNA_strand.txt\") as file:\n",
    "    rna_strand = file.readline()\n",
    "    print(translation(rna_strand))"
   ]
  }
 ],
 "metadata": {
  "kernelspec": {
   "display_name": "Python 3",
   "language": "python",
   "name": "python3"
  },
  "language_info": {
   "codemirror_mode": {
    "name": "ipython",
    "version": 3
   },
   "file_extension": ".py",
   "mimetype": "text/x-python",
   "name": "python",
   "nbconvert_exporter": "python",
   "pygments_lexer": "ipython3",
   "version": "3.9.6"
  },
  "orig_nbformat": 4
 },
 "nbformat": 4,
 "nbformat_minor": 2
}
