{
 "cells": [
  {
   "cell_type": "markdown",
   "metadata": {},
   "source": [
    "## [Longest Increasing Subsequence](https://rosalind.info/problems/lgis/)\n",
    "\n",
    "### Background\n",
    "One very simple way of comparing genes from two chromosomes is to search for the largest collection of genes that are found in the same order in both chromosomes. To do so, we will need to apply our idea of permutations.\n",
    "\n",
    "Say that two chromosomes share `n` genes; if we label the genes of one chromosome by the numbers 1 through `n` in the order that they appear, then the second chromosome will be given by a permutation of these numbered genes.\n",
    "\n",
    "To find the largest number of genes appearing in the same order, we need only to find the largest collection of increasing elements in the permutation.\n",
    "\n",
    "### Problem\n",
    "A subsequence of a permutation is a collection of elements of the permutation in the order that they appear. For example, (5, 3, 4) is a subsequence of (5, 1, 3, 4, 2). A subsequence is increasing if the elements of the subsequence increase, and decreasing if the elements decrease.\n",
    "\n",
    "For example, given the permutation (8, 2, 1, 6, 5, 7, 4, 3, 9), an increasing subsequence is (2, 6, 7, 9), and a decreasing subsequence is (8, 6, 5, 4, 3). You may verify that these two subsequences are as long as possible.\n",
    "\n",
    "**Given:** A positive integer `n ≤ 10000` followed by a permutation π of length `n`.\n",
    "\n",
    "**Return:** A longest increasing subsequence of π, followed by a longest decreasing subsequence of π.\n",
    "\n",
    "### Example\n",
    "Input:\n",
    "```\n",
    "5\n",
    "5 1 4 2 3\n",
    "```\n",
    "\n",
    "Output:\n",
    "```\n",
    "1 2 3\n",
    "5 4 2\n",
    "```"
   ]
  },
  {
   "cell_type": "code",
   "execution_count": 60,
   "metadata": {},
   "outputs": [
    {
     "data": {
      "text/plain": [
       "[1, 2, 3]"
      ]
     },
     "execution_count": 60,
     "metadata": {},
     "output_type": "execute_result"
    }
   ],
   "source": [
    "def longest_increasing_subsequence(pi: set, inc=True) -> list:\n",
    "    \"\"\"Returns longest increasing or decreasing subsequence in pi.\"\"\"\n",
    "    \n",
    "    result = []\n",
    "    \n",
    "    for i in range(len(pi) - 1, -1, -1):\n",
    "        for j in range(i + 1, len(pi)):\n",
    "\n",
    "            if inc:\n",
    "                if pi[i] < pi[j] and pi[i] not in result:\n",
    "                    if len(result) == 0:\n",
    "                        result.append(pi[j])\n",
    "                    result.append(pi[i])\n",
    "            else:\n",
    "                if pi[i] > pi[j] and pi[i] not in result:\n",
    "                    if len(result) == 0:\n",
    "                        result.append(pi[j])\n",
    "                    result.append(pi[i])\n",
    "    \n",
    "    return result[::-1]\n",
    "\n",
    "longest_increasing_subsequence([5, 1, 4, 2, 3], inc=True)"
   ]
  },
  {
   "cell_type": "code",
   "execution_count": 65,
   "metadata": {},
   "outputs": [
    {
     "ename": "KeyboardInterrupt",
     "evalue": "",
     "output_type": "error",
     "traceback": [
      "\u001b[0;31m---------------------------------------------------------------------------\u001b[0m",
      "\u001b[0;31mKeyboardInterrupt\u001b[0m                         Traceback (most recent call last)",
      "\u001b[1;32m/Users/wasim/bioinformatics-notebooks/rosalind/19_increasing_subsequence.ipynb Cell 3\u001b[0m line \u001b[0;36m8\n\u001b[1;32m      <a href='vscode-notebook-cell:/Users/wasim/bioinformatics-notebooks/rosalind/19_increasing_subsequence.ipynb#W4sZmlsZQ%3D%3D?line=4'>5</a>\u001b[0m pi \u001b[39m=\u001b[39m nums\u001b[39m.\u001b[39msplit(\u001b[39m\"\u001b[39m\u001b[39m \u001b[39m\u001b[39m\"\u001b[39m)\n\u001b[1;32m      <a href='vscode-notebook-cell:/Users/wasim/bioinformatics-notebooks/rosalind/19_increasing_subsequence.ipynb#W4sZmlsZQ%3D%3D?line=5'>6</a>\u001b[0m pi \u001b[39m=\u001b[39m [\u001b[39mint\u001b[39m(x) \u001b[39mfor\u001b[39;00m x \u001b[39min\u001b[39;00m pi]\n\u001b[0;32m----> <a href='vscode-notebook-cell:/Users/wasim/bioinformatics-notebooks/rosalind/19_increasing_subsequence.ipynb#W4sZmlsZQ%3D%3D?line=7'>8</a>\u001b[0m longest_increasing_subsequence(pi)\n",
      "\u001b[1;32m/Users/wasim/bioinformatics-notebooks/rosalind/19_increasing_subsequence.ipynb Cell 3\u001b[0m line \u001b[0;36m1\n\u001b[1;32m     <a href='vscode-notebook-cell:/Users/wasim/bioinformatics-notebooks/rosalind/19_increasing_subsequence.ipynb#W4sZmlsZQ%3D%3D?line=15'>16</a>\u001b[0m                 \u001b[39mif\u001b[39;00m \u001b[39mlen\u001b[39m(result) \u001b[39m==\u001b[39m \u001b[39m0\u001b[39m:\n\u001b[1;32m     <a href='vscode-notebook-cell:/Users/wasim/bioinformatics-notebooks/rosalind/19_increasing_subsequence.ipynb#W4sZmlsZQ%3D%3D?line=16'>17</a>\u001b[0m                     result\u001b[39m.\u001b[39mappend(pi[j])\n\u001b[0;32m---> <a href='vscode-notebook-cell:/Users/wasim/bioinformatics-notebooks/rosalind/19_increasing_subsequence.ipynb#W4sZmlsZQ%3D%3D?line=17'>18</a>\u001b[0m                 result\u001b[39m.\u001b[39mappend(pi[i])\n\u001b[1;32m     <a href='vscode-notebook-cell:/Users/wasim/bioinformatics-notebooks/rosalind/19_increasing_subsequence.ipynb#W4sZmlsZQ%3D%3D?line=19'>20</a>\u001b[0m \u001b[39mreturn\u001b[39;00m result[::\u001b[39m-\u001b[39m\u001b[39m1\u001b[39m]\n",
      "\u001b[0;31mKeyboardInterrupt\u001b[0m: "
     ]
    }
   ],
   "source": [
    "nums = \"\"\n",
    "with open(\"./sample_datasets/rosalind_lgis.txt\") as file:\n",
    "    nums = file.readlines()[0]\n",
    "\n",
    "pi = nums.split(\" \")\n",
    "pi = [int(x) for x in pi]\n",
    "\n",
    "longest_increasing_subsequence(pi)"
   ]
  }
 ],
 "metadata": {
  "kernelspec": {
   "display_name": "Python 3",
   "language": "python",
   "name": "python3"
  },
  "language_info": {
   "codemirror_mode": {
    "name": "ipython",
    "version": 3
   },
   "file_extension": ".py",
   "mimetype": "text/x-python",
   "name": "python",
   "nbconvert_exporter": "python",
   "pygments_lexer": "ipython3",
   "version": "3.9.6"
  },
  "orig_nbformat": 4
 },
 "nbformat": 4,
 "nbformat_minor": 2
}
