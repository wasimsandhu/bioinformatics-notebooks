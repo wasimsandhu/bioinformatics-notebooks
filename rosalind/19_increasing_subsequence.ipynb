{
 "cells": [
  {
   "cell_type": "markdown",
   "metadata": {},
   "source": [
    "## [Longest Increasing Subsequence](https://rosalind.info/problems/lgis/)\n",
    "\n",
    "### Background\n",
    "One very simple way of comparing genes from two chromosomes is to search for the largest collection of genes that are found in the same order in both chromosomes. To do so, we will need to apply our idea of permutations.\n",
    "\n",
    "Say that two chromosomes share `n` genes; if we label the genes of one chromosome by the numbers 1 through `n` in the order that they appear, then the second chromosome will be given by a permutation of these numbered genes.\n",
    "\n",
    "To find the largest number of genes appearing in the same order, we need only to find the largest collection of increasing elements in the permutation.\n",
    "\n",
    "### Problem\n",
    "A subsequence of a permutation is a collection of elements of the permutation in the order that they appear. For example, (5, 3, 4) is a subsequence of (5, 1, 3, 4, 2).\n",
    "\n",
    "A subsequence is increasing if the elements of the subsequence increase, and decreasing if the elements decrease. For example, given the permutation (8, 2, 1, 6, 5, 7, 4, 3, 9), an increasing subsequence is (2, 6, 7, 9), and a decreasing subsequence is (8, 6, 5, 4, 3). You may verify that these two subsequences are as long as possible.\n",
    "\n",
    "**Given:** A positive integer `n ≤ 10000` followed by a permutation π of length `n`.\n",
    "\n",
    "**Return:** A longest increasing subsequence of π, followed by a longest decreasing subsequence of π.\n",
    "\n",
    "### Example\n",
    "Input:\n",
    "```\n",
    "5\n",
    "5 1 4 2 3\n",
    "```\n",
    "\n",
    "Output:\n",
    "```\n",
    "1 2 3\n",
    "5 4 2\n",
    "```"
   ]
  },
  {
   "cell_type": "code",
   "execution_count": 1,
   "metadata": {},
   "outputs": [],
   "source": [
    "def longest_increasing_subsequence(n: int, pi: set) -> list:\n",
    "    pass\n",
    "\n",
    "def longest_decreasing_subsequence(n: int, pi: set) -> list:\n",
    "    pass"
   ]
  }
 ],
 "metadata": {
  "kernelspec": {
   "display_name": "Python 3",
   "language": "python",
   "name": "python3"
  },
  "language_info": {
   "codemirror_mode": {
    "name": "ipython",
    "version": 3
   },
   "file_extension": ".py",
   "mimetype": "text/x-python",
   "name": "python",
   "nbconvert_exporter": "python",
   "pygments_lexer": "ipython3",
   "version": "3.9.6"
  },
  "orig_nbformat": 4
 },
 "nbformat": 4,
 "nbformat_minor": 2
}
