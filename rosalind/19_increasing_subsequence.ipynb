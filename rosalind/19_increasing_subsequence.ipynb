{
 "cells": [
  {
   "cell_type": "markdown",
   "metadata": {},
   "source": [
    "## [Longest Increasing Subsequence](https://rosalind.info/problems/lgis/)\n",
    "\n",
    "### Background\n",
    "One very simple way of comparing genes from two chromosomes is to search for the largest collection of genes that are found in the same order in both chromosomes. To do so, we will need to apply our idea of permutations.\n",
    "\n",
    "Say that two chromosomes share `n` genes; if we label the genes of one chromosome by the numbers 1 through `n` in the order that they appear, then the second chromosome will be given by a permutation of these numbered genes.\n",
    "\n",
    "To find the largest number of genes appearing in the same order, we need only to find the largest collection of increasing elements in the permutation.\n",
    "\n",
    "### Problem\n",
    "A subsequence of a permutation is a collection of elements of the permutation in the order that they appear. For example, (5, 3, 4) is a subsequence of (5, 1, 3, 4, 2). A subsequence is increasing if the elements of the subsequence increase, and decreasing if the elements decrease.\n",
    "\n",
    "For example, given the permutation (8, 2, 1, 6, 5, 7, 4, 3, 9), an increasing subsequence is (2, 6, 7, 9), and a decreasing subsequence is (8, 6, 5, 4, 3). You may verify that these two subsequences are as long as possible.\n",
    "\n",
    "**Given:** A positive integer `n ≤ 10000` followed by a permutation π of length `n`.\n",
    "\n",
    "**Return:** A longest increasing subsequence of π, followed by a longest decreasing subsequence of π.\n",
    "\n",
    "### Example\n",
    "Input:\n",
    "```\n",
    "5\n",
    "5 1 4 2 3\n",
    "```\n",
    "\n",
    "Output:\n",
    "```\n",
    "1 2 3\n",
    "5 4 2\n",
    "```"
   ]
  },
  {
   "cell_type": "code",
   "execution_count": 162,
   "metadata": {},
   "outputs": [],
   "source": [
    "def longest_increasing_subsequence(pi: list, inc=True) -> list:\n",
    "    \n",
    "    \"\"\"\n",
    "    Finds the longest increasing or decreasing subsequence in pi.\n",
    "    Video that helped: https://www.youtube.com/watch?v=aPQY__2H3tE\n",
    "    \n",
    "    For reference, with input [5, 3, 6, 8, 9, 2, 1, 10], we get:\n",
    "    \n",
    "    lis = [1, 1, 2, 3, 4, 1, 1, 5]\n",
    "    prev = [-1, -1, 0, 2, 3, -1, -1, 4]\n",
    "    \n",
    "    Args:\n",
    "        pi (list): Permutation of length n, where n <= 10,000\n",
    "        inc (bool, default True): Whether to return the longest\n",
    "        increasing or decreasing subsequence\n",
    "    \n",
    "    Returns:\n",
    "        list: Longest increasing or decreasing subsequence in pi.\n",
    "    \"\"\"\n",
    "    \n",
    "    lis = [1] * len(pi)     # Track lengths of valid subsequences\n",
    "    prev = [-1] * len(pi)   # Track indices of numbers that make a greater subsequence\n",
    "    max_len = 1\n",
    "    end = 0\n",
    "\n",
    "    # Compare each integer pi[i] with all previous integers pi[j]\n",
    "    for i in range(1, len(pi)):\n",
    "        for j in range(i):\n",
    "            \n",
    "            # While the longest subsequence at index i has not been attained,\n",
    "            if lis[i] < lis[j] + 1:\n",
    "                if (inc and pi[i] > pi[j]) or (not inc and pi[i] < pi[j]):\n",
    "                    lis[i] = lis[j] + 1     # Update length of subsequence if pi[i] > pi[j]\n",
    "                    prev[i] = j             # Track index of integer that contributes to subsequence\n",
    "\n",
    "        # If a subsequence ending at index i > longest so far,\n",
    "        if lis[i] > max_len:\n",
    "            max_len = lis[i]    # Update longest subsequence so far\n",
    "            end = i             # Update end index of subsequence\n",
    "\n",
    "    result = []\n",
    "    curr = end      # Start at the end index\n",
    "\n",
    "    # Until we reach a -1 value in the prev array, we\n",
    "    # reconstruct the subsequence from the end to the start.\n",
    "    while curr >= 0:\n",
    "        result.append(pi[curr])     \n",
    "        curr = prev[curr]       # Update end index pointer\n",
    "\n",
    "    return result[::-1]\n",
    "\n",
    "def longest_decreasing_subsequence(pi: list):\n",
    "    return longest_increasing_subsequence(pi, inc=False)"
   ]
  },
  {
   "cell_type": "code",
   "execution_count": 163,
   "metadata": {},
   "outputs": [],
   "source": [
    "nums = \"\"\n",
    "with open(\"./sample_datasets/19_permutation.txt\") as file:\n",
    "    nums = file.readlines()[0]\n",
    "\n",
    "pi = nums.split(\" \")\n",
    "pi = [int(x) for x in pi]\n",
    "\n",
    "inc = longest_increasing_subsequence(pi)\n",
    "dec = longest_decreasing_subsequence(pi)"
   ]
  },
  {
   "cell_type": "code",
   "execution_count": 164,
   "metadata": {},
   "outputs": [
    {
     "data": {
      "text/plain": [
       "'5 30 153 162 182 191 300 338 402 498 553 561 614 860 979 1013 1068 1070 1407 1687 1705 1737 1753 1798 1802 1808 1818 1896 1928 1945 1994 2073 2077 2085 2150 2154 2198 2336 2353 2356 2383 2490 2530 2559 2560 2630 2662 2663 2708 2790 2791 2831 2854 2922 2991 3028 3061 3068 3419 3457 3476 3528 3636 3678 3752 3759 3833 3977 4003 4033 4062 4082 4124 4142 4143 4213 4276 4277 4298 4387 4397 4481 4498 4511 4593 4627 4723 4781 4797 4843 4852 4864 4886 4943 4944 4983 5048 5126 5140 5452 5476 5494 5555 5583 5584 5596 5629 5690 5856 5909 5946 5953 5998 6094 6111 6188 6210 6255 6268 6315 6344 6368 6391 6397 6411 6426 6485 6499 6533 6587 6596 6711 6733 6746 6813 6851 6861 6875 6983 7001 7049 7060 7076 7145 7162 7230 7257 7272 7285 7286 7316 7377 7417 7432 7456 7469 7499 7500 7515 7521 7567 7623 7723 7733 7740 7776 7837 7885 7961 7966 7969 8077 8100 8104 8150 8389 8391 8447 8463 8538 8553 8649 8833 8889 9203 9255 9273 9282 9311 9336'"
      ]
     },
     "execution_count": 164,
     "metadata": {},
     "output_type": "execute_result"
    }
   ],
   "source": [
    "inc = \" \".join([str(x) for x in inc])\n",
    "inc"
   ]
  },
  {
   "cell_type": "code",
   "execution_count": 165,
   "metadata": {},
   "outputs": [
    {
     "data": {
      "text/plain": [
       "'9391 9258 9213 9200 9153 9127 9126 9065 9043 9023 8901 8827 8770 8721 8708 8696 8672 8646 8637 8618 8615 8597 8525 8524 8495 8361 8265 8254 8208 8146 8080 7929 7914 7806 7778 7743 7734 7683 7665 7595 7573 7536 7523 7519 7483 7421 7378 7354 7348 7338 7324 7319 7281 7278 7269 7194 7144 7098 7043 6966 6948 6911 6806 6802 6695 6624 6606 6586 6566 6425 6352 6345 6205 6204 6198 6131 6096 6079 6062 5923 5879 5826 5736 5624 5596 5586 5534 5495 5348 5325 5299 5298 5291 5226 5162 5110 5089 5081 5072 5054 5011 4932 4845 4777 4751 4746 4730 4695 4677 4659 4446 4404 4386 4320 4264 4234 4182 4170 4162 4160 4135 4093 4006 3958 3922 3894 3692 3674 3632 3518 3363 3330 3328 3158 3121 3037 3012 2937 2826 2765 2750 2624 2593 2527 2520 2492 2487 2473 2469 2463 2369 2327 2319 2288 2287 2224 2095 2056 2021 1870 1766 1689 1611 1567 1508 1475 1444 1335 1311 1271 1252 1201 1200 1171 1108 948 674 659 628 620 475 350 278 251 244 145 79'"
      ]
     },
     "execution_count": 165,
     "metadata": {},
     "output_type": "execute_result"
    }
   ],
   "source": [
    "dec = \" \".join([str(x) for x in dec])\n",
    "dec"
   ]
  }
 ],
 "metadata": {
  "kernelspec": {
   "display_name": "Python 3",
   "language": "python",
   "name": "python3"
  },
  "language_info": {
   "codemirror_mode": {
    "name": "ipython",
    "version": 3
   },
   "file_extension": ".py",
   "mimetype": "text/x-python",
   "name": "python",
   "nbconvert_exporter": "python",
   "pygments_lexer": "ipython3",
   "version": "3.9.6"
  },
  "orig_nbformat": 4
 },
 "nbformat": 4,
 "nbformat_minor": 2
}
