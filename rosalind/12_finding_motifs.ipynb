{
 "cells": [
  {
   "cell_type": "markdown",
   "metadata": {},
   "source": [
    "## [Finding a Shared Motif](https://rosalind.info/problems/lcsm/)\n",
    "\n",
    "### Background\n",
    "A common substring of a collection of strings is a substring of every member of the collection. We say that a common substring is a longest common substring if there does not exist a longer common substring.\n",
    "\n",
    "For example, \"CG\" is a common substring of \"ACGTACGT\" and \"AACCGTATA\", but it is not as long as possible; in this case, \"CGTA\" is a longest common substring of \"ACGTACGT\" and \"AACCGTATA\".\n",
    "\n",
    "Note that the longest common substring is not necessarily unique; for a simple example, \"AA\" and \"CC\" are both longest common substrings of \"AACC\" and \"CCAA\".\n",
    "\n",
    "### Problem\n",
    "**Given:** A collection of `k` (where `k` ≤ 100) DNA strings of length at most 1 kbp each in FASTA format.\n",
    "\n",
    "**Return:** A longest common substring of the collection. (If multiple solutions exist, you may return any single solution.)\n",
    "\n",
    "### Example\n",
    "Input:\n",
    "```\n",
    ">Rosalind_1\n",
    "GATTACA\n",
    ">Rosalind_2\n",
    "TAGACCA\n",
    ">Rosalind_3\n",
    "ATACA\n",
    "```\n",
    "\n",
    "Output:\n",
    "```\n",
    "AC\n",
    "```"
   ]
  },
  {
   "cell_type": "code",
   "execution_count": 24,
   "metadata": {},
   "outputs": [
    {
     "data": {
      "text/plain": [
       "'GTCGTTTCCCGCCGCTATTGGTGCGAGGGGCTTACGAATTTATCTTACAGTTCCACATGGTTATCACAGGATTCTACGAGCAGGCCCTCTCGGACTCTGCCCCTCGTCATGAGAAATGGATGG'"
      ]
     },
     "execution_count": 24,
     "metadata": {},
     "output_type": "execute_result"
    }
   ],
   "source": [
    "from wasims_toolbox import get_reads\n",
    "\n",
    "def find_motif(fasta_file: str):\n",
    "    \n",
    "    \"\"\"\n",
    "    Searches for longest motif in collection of DNA strands.\n",
    "    Agnostic to multiple motifs; will only return a single result.\n",
    "    \"\"\"\n",
    "    \n",
    "    motif = \"\"\n",
    "    reads = get_reads(fasta_file)\n",
    "    \n",
    "    for read in reads.values():\n",
    "        \n",
    "        # Initial condition\n",
    "        if motif == \"\":\n",
    "            motif = read\n",
    "            continue\n",
    "        \n",
    "        # If current motif is not in read, shorten it\n",
    "        if motif not in read:\n",
    "            segment = motif\n",
    "            segments = []\n",
    "            \n",
    "            # Brute force: test all substrings of current motif\n",
    "            # until a match to the current read is found\n",
    "            for i in range(len(segment)):\n",
    "                for j in range(i + 1, len(segment) + 1):\n",
    "                    if segment[i:j] in read:\n",
    "                        segments.append(segment[i:j])\n",
    "            \n",
    "            motif = max(segments, key=len)\n",
    "            \n",
    "    return motif\n",
    "    \n",
    "motif = find_motif(\"./sample_datasets/12_collection.txt\")\n",
    "motif"
   ]
  }
 ],
 "metadata": {
  "kernelspec": {
   "display_name": "Python 3",
   "language": "python",
   "name": "python3"
  },
  "language_info": {
   "codemirror_mode": {
    "name": "ipython",
    "version": 3
   },
   "file_extension": ".py",
   "mimetype": "text/x-python",
   "name": "python",
   "nbconvert_exporter": "python",
   "pygments_lexer": "ipython3",
   "version": "3.9.6"
  },
  "orig_nbformat": 4
 },
 "nbformat": 4,
 "nbformat_minor": 2
}
