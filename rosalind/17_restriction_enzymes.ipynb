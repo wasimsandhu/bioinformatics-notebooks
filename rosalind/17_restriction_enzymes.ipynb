{
 "cells": [
  {
   "cell_type": "markdown",
   "metadata": {},
   "source": [
    "## [Locating Restriction Enzymes](https://rosalind.info/problems/revp/)\n",
    "\n",
    "### Background\n",
    "To defend itself, the bacterium must either obfuscate its cellular functions so that the phage cannot infiltrate it, or better yet, go on the counterattack by calling in the air force. Specifically, the bacterium employs aerial scouts called restriction enzymes, which operate by cutting through viral DNA to cripple the phage. But what kind of DNA are restriction enzymes looking for?\n",
    "\n",
    "The restriction enzyme is a homodimer, which means that it is composed of two identical substructures. Each of these structures separates from the restriction enzyme in order to bind to and cut one strand of the phage DNA molecule; both substructures are pre-programmed with the same target string containing 4 to 12 nucleotides to search for within the phage DNA.\n",
    "\n",
    "The chance that both strands of phage DNA will be cut (thus crippling the phage) is greater if the target is located on both strands of phage DNA, as close to each other as possible. By extension, the best chance of disarming the phage occurs when the two target copies appear directly across from each other along the phage DNA, a phenomenon that occurs precisely when the target is equal to its own reverse complement. Eons of evolution have made sure that most restriction enzyme targets now have this form.\n",
    "\n",
    "### Problem\n",
    "A DNA string is a **reverse palindrome** if it is equal to its reverse complement. For instance, `GCATGC` is a reverse palindrome because its reverse complement is `GCATGC`.\n",
    "\n",
    "**Given:** A DNA string of length at most 1 kbp in FASTA format.\n",
    "\n",
    "**Return:** The position and length of every reverse palindrome in the string having length between 4 and 12. You may return these pairs in any order.\n",
    "\n",
    "### Examples\n",
    "Input:\n",
    "```\n",
    ">Rosalind_24\n",
    "TCAATGCATGCGGGTCTATATGCAT\n",
    "```\n",
    "\n",
    "Output:\n",
    "```\n",
    "4 6\n",
    "5 4\n",
    "6 6\n",
    "7 4\n",
    "17 4\n",
    "18 4\n",
    "20 6\n",
    "21 4\n",
    "```"
   ]
  },
  {
   "cell_type": "code",
   "execution_count": 51,
   "metadata": {},
   "outputs": [
    {
     "name": "stdout",
     "output_type": "stream",
     "text": [
      "CAAT 1 5\n",
      "CAATGCAT 1 9\n",
      "CAATGCATGC 1 11\n",
      "CAATGCATGCGG 1 13\n",
      "AATGCA 2 8\n",
      "AATGCATGCGGG 2 14\n",
      "GCATGCGGGT 5 15\n",
      "CATGCG 6 12\n",
      "GCGGGT 9 15\n",
      "GGGT 11 15\n",
      "GGTCTATATG 12 22\n",
      "CTATAT 15 21\n"
     ]
    },
    {
     "data": {
      "text/plain": [
       "{}"
      ]
     },
     "execution_count": 51,
     "metadata": {},
     "output_type": "execute_result"
    }
   ],
   "source": [
    "def find_reverse_palindromes(dna_strand: str) -> dict:\n",
    "    \n",
    "    \"\"\"\n",
    "    Returns the position and sequence of every reverse palindrome\n",
    "    in the given DNA strand having a length between 4 and 12.\n",
    "    \n",
    "    Args:\n",
    "        dna_strand (str): DNA strand of length at most 1kbp.\n",
    "    \n",
    "    Returns:\n",
    "        dict: Position and sequence of every reverse palindrome.\n",
    "    \"\"\"\n",
    "\n",
    "    comp = {\n",
    "        \"A\": \"T\",\n",
    "        \"T\": \"A\",\n",
    "        \"G\": \"C\",\n",
    "        \"C\": \"G\"\n",
    "    }\n",
    "    \n",
    "    reverse_palindromes = {}\n",
    "    \n",
    "    # Iterate over DNA strand\n",
    "    for start in range(len(dna_strand)):\n",
    "        \n",
    "        # Get every subsequence of length 4-12\n",
    "        for length in range(4, 13, 2):\n",
    "            \n",
    "            # Indexing\n",
    "            end = start + length\n",
    "            if end >= len(dna_strand):\n",
    "                break\n",
    "            \n",
    "            # Check outer nucleotides before comparing\n",
    "            if dna_strand[start] != comp[dna_strand[end]]:\n",
    "                continue\n",
    "            \n",
    "            # Start from the middle and see if not reverse palindromic\n",
    "            candidate = dna_strand[start:end]\n",
    "            center = len(candidate) // 2\n",
    "            palindromic = True\n",
    "            \n",
    "            left, right = 1, 0\n",
    "            while left <= center and right <= center:\n",
    "                if candidate[center - left] != comp[candidate[center + right]]:\n",
    "                    palindromic = False\n",
    "                    break\n",
    "                left += 1\n",
    "                right += 1\n",
    "            \n",
    "            # If sequence equals its reverse palindrome, save sequence\n",
    "            if palindromic:\n",
    "                reverse_palindromes[start + 1] = candidate\n",
    "    \n",
    "    return reverse_palindromes\n",
    "\n",
    "dna_strand = \"TCAATGCATGCGGGTCTATATGCAT\"\n",
    "reverse_palindromes = find_reverse_palindromes(dna_strand)\n",
    "reverse_palindromes"
   ]
  }
 ],
 "metadata": {
  "kernelspec": {
   "display_name": "Python 3",
   "language": "python",
   "name": "python3"
  },
  "language_info": {
   "codemirror_mode": {
    "name": "ipython",
    "version": 3
   },
   "file_extension": ".py",
   "mimetype": "text/x-python",
   "name": "python",
   "nbconvert_exporter": "python",
   "pygments_lexer": "ipython3",
   "version": "3.9.6"
  },
  "orig_nbformat": 4
 },
 "nbformat": 4,
 "nbformat_minor": 2
}
