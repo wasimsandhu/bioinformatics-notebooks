{
 "cells": [
  {
   "cell_type": "markdown",
   "metadata": {},
   "source": [
    "## [Genome Assembly as Shortest Superstring](https://rosalind.info/problems/long/)\n",
    "\n",
    "### Background\n",
    "Recall from “Computing GC Content” that almost all humans share approximately 99.9% of the same nucleotides on the genome. Thus, if we know only a few complete genomes from the species, then we already possess an important key to unlocking the species genome.\n",
    "\n",
    "Determining an organism's complete genome (called genome sequencing) forms a central task of bioinformatics. Unfortunately, we still don't possess the microscope technology to zoom into the nucleotide level and determine the sequence of a genome's nucleotides, one at a time. However, researchers can apply chemical methods to generate and identify much smaller snippets of DNA, called reads.\n",
    "\n",
    "After obtaining a large collection of reads from multiple copies of the same genome, the aim is to reconstruct the desired genome from these small pieces of DNA; this process is called fragment assembly. **Fragment assembly** works by blasting many copies of the same genome into smaller, identifiable reads, which are then used to computationally assemble one copy of the genome.\n",
    "\n",
    "### Problem\n",
    "For a collection of strings, a larger string containing every one of the smaller strings as a substring is called a **superstring**.\n",
    "\n",
    "By the assumption of parsimony, a shortest possible superstring over a collection of reads serves as a candidate chromosome.\n",
    "\n",
    "**Given:** At most 50 DNA strings of approximately equal length, not exceeding 1 kbp, in FASTA format (which represent reads deriving from the same strand of a single linear chromosome).\n",
    "\n",
    "> The dataset is guaranteed to satisfy the following condition: there exists a unique way to reconstruct the entire chromosome from these reads by gluing together pairs of reads that overlap by more than half their length.\n",
    "\n",
    "**Return:** A shortest superstring containing all the given strings (thus corresponding to a reconstructed chromosome).\n",
    "\n",
    "### Example\n",
    "Input:\n",
    "```\n",
    ">Rosalind_56\n",
    "ATTAGACCTG\n",
    ">Rosalind_57\n",
    "CCTGCCGGAA\n",
    ">Rosalind_58\n",
    "AGACCTGCCG\n",
    ">Rosalind_59\n",
    "GCCGGAATAC\n",
    "```\n",
    "\n",
    "Output:\n",
    "```\n",
    "ATTAGACCTGCCGGAATAC\n",
    "```"
   ]
  },
  {
   "cell_type": "code",
   "execution_count": 59,
   "metadata": {},
   "outputs": [
    {
     "name": "stdout",
     "output_type": "stream",
     "text": [
      "ACCTGCGGAATGCCGAATAC\n",
      "ATTAGACCTGCCGGAATAC\n"
     ]
    },
    {
     "ename": "AssertionError",
     "evalue": "",
     "output_type": "error",
     "traceback": [
      "\u001b[0;31m---------------------------------------------------------------------------\u001b[0m",
      "\u001b[0;31mAssertionError\u001b[0m                            Traceback (most recent call last)",
      "\u001b[1;32m/Users/wasim/bioinformatics-notebooks/rosalind/20_shortest_superstring.ipynb Cell 2\u001b[0m line \u001b[0;36m4\n\u001b[1;32m     <a href='vscode-notebook-cell:/Users/wasim/bioinformatics-notebooks/rosalind/20_shortest_superstring.ipynb#W1sZmlsZQ%3D%3D?line=43'>44</a>\u001b[0m \u001b[39mprint\u001b[39m(my_answer)\n\u001b[1;32m     <a href='vscode-notebook-cell:/Users/wasim/bioinformatics-notebooks/rosalind/20_shortest_superstring.ipynb#W1sZmlsZQ%3D%3D?line=44'>45</a>\u001b[0m \u001b[39mprint\u001b[39m(solution)\n\u001b[0;32m---> <a href='vscode-notebook-cell:/Users/wasim/bioinformatics-notebooks/rosalind/20_shortest_superstring.ipynb#W1sZmlsZQ%3D%3D?line=45'>46</a>\u001b[0m \u001b[39massert\u001b[39;00m my_answer \u001b[39m==\u001b[39m solution\n",
      "\u001b[0;31mAssertionError\u001b[0m: "
     ]
    }
   ],
   "source": [
    "from wasims_toolbox import read_fasta\n",
    "\n",
    "def shortest_superstring(fasta_file: str) -> str:\n",
    "\n",
    "    \"\"\"\n",
    "    Constructs shortest superstring from a collection of reads,\n",
    "    which serves as a candidate chromosome.\n",
    "    \n",
    "    For the given dataset, there must exist a unique way to reconstruct \n",
    "    the entire chromosome from these reads by gluing together pairs of \n",
    "    reads that overlap by more than half their length.\n",
    "\n",
    "    Args:\n",
    "        fasta_file (str): Path to FASTA file containing reads\n",
    "        from the same strand of a single linear chromosome.\n",
    "    \n",
    "    Returns:\n",
    "        str: Shortest superstring containing all of the given\n",
    "        reads, corresponding to a reconstructed chromosome.\n",
    "    \"\"\"\n",
    "\n",
    "    reads = read_fasta(file_path=fasta_file)\n",
    "    reads = [x for x in reads.values()]\n",
    "    superstring = \"\"\n",
    "\n",
    "    for read in reads:\n",
    "        \n",
    "        half = len(read) // 2\n",
    "        start, end = 0, 0\n",
    "        \n",
    "        for index in range(len(read)):            \n",
    "            if index + half > len(read):\n",
    "                break\n",
    "            \n",
    "            if read[index:index+half] not in superstring:\n",
    "                start, end = index, index + half\n",
    "        \n",
    "        superstring += read[start:end]\n",
    "\n",
    "    return superstring\n",
    "\n",
    "my_answer = shortest_superstring(\"./sample_datasets/20_collection_01.txt\")\n",
    "solution = \"ATTAGACCTGCCGGAATAC\"\n",
    "print(my_answer)\n",
    "print(solution)\n",
    "assert my_answer == solution"
   ]
  }
 ],
 "metadata": {
  "kernelspec": {
   "display_name": "Python 3",
   "language": "python",
   "name": "python3"
  },
  "language_info": {
   "codemirror_mode": {
    "name": "ipython",
    "version": 3
   },
   "file_extension": ".py",
   "mimetype": "text/x-python",
   "name": "python",
   "nbconvert_exporter": "python",
   "pygments_lexer": "ipython3",
   "version": "3.9.6"
  },
  "orig_nbformat": 4
 },
 "nbformat": 4,
 "nbformat_minor": 2
}
