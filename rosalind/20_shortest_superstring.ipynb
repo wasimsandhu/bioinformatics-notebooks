{
 "cells": [
  {
   "cell_type": "markdown",
   "metadata": {},
   "source": [
    "## [Genome Assembly as Shortest Superstring](https://rosalind.info/problems/long/)\n",
    "\n",
    "### Background\n",
    "Recall from “Computing GC Content” that almost all humans share approximately 99.9% of the same nucleotides on the genome. Thus, if we know only a few complete genomes from the species, then we already possess an important key to unlocking the species genome.\n",
    "\n",
    "Determining an organism's complete genome (called genome sequencing) forms a central task of bioinformatics. Unfortunately, we still don't possess the microscope technology to zoom into the nucleotide level and determine the sequence of a genome's nucleotides, one at a time. However, researchers can apply chemical methods to generate and identify much smaller snippets of DNA, called reads.\n",
    "\n",
    "After obtaining a large collection of reads from multiple copies of the same genome, the aim is to reconstruct the desired genome from these small pieces of DNA; this process is called fragment assembly. **Fragment assembly** works by blasting many copies of the same genome into smaller, identifiable reads, which are then used to computationally assemble one copy of the genome.\n",
    "\n",
    "### Problem\n",
    "For a collection of strings, a larger string containing every one of the smaller strings as a substring is called a **superstring**.\n",
    "\n",
    "By the assumption of parsimony, a shortest possible superstring over a collection of reads serves as a candidate chromosome.\n",
    "\n",
    "**Given:** At most 50 DNA strings of approximately equal length, not exceeding 1 kbp, in FASTA format (which represent reads deriving from the same strand of a single linear chromosome).\n",
    "\n",
    "> The dataset is guaranteed to satisfy the following condition: there exists a unique way to reconstruct the entire chromosome from these reads by gluing together pairs of reads that overlap by more than half their length.\n",
    "\n",
    "**Return:** A shortest superstring containing all the given strings (thus corresponding to a reconstructed chromosome).\n",
    "\n",
    "### Example\n",
    "Input:\n",
    "```\n",
    ">Rosalind_56\n",
    "ATTAGACCTG\n",
    ">Rosalind_57\n",
    "CCTGCCGGAA\n",
    ">Rosalind_58\n",
    "AGACCTGCCG\n",
    ">Rosalind_59\n",
    "GCCGGAATAC\n",
    "```\n",
    "\n",
    "Output:\n",
    "```\n",
    "ATTAGACCTGCCGGAATAC\n",
    "```"
   ]
  },
  {
   "cell_type": "code",
   "execution_count": 54,
   "metadata": {},
   "outputs": [
    {
     "data": {
      "text/plain": [
       "'ATTAGACCTGCCGGAATAC'"
      ]
     },
     "execution_count": 54,
     "metadata": {},
     "output_type": "execute_result"
    }
   ],
   "source": [
    "from wasims_toolbox import read_fasta\n",
    "from itertools import combinations\n",
    "\n",
    "def shortest_superstring(fasta_file: str) -> str:\n",
    "\n",
    "    \"\"\"\n",
    "    Constructs shortest superstring from a collection of reads,\n",
    "    which serves as a candidate chromosome.\n",
    "    \n",
    "    For the given dataset, there must exist a unique way to reconstruct \n",
    "    the entire chromosome from these reads by gluing together pairs of \n",
    "    reads that overlap by more than half their length.\n",
    "\n",
    "    Args:\n",
    "        fasta_file (str): Path to FASTA file containing reads\n",
    "        from the same strand of a single linear chromosome.\n",
    "\n",
    "    Returns:\n",
    "        str: Shortest superstring containing all of the given\n",
    "        reads, corresponding to a reconstructed chromosome.\n",
    "    \"\"\"\n",
    "\n",
    "    checked = set()\n",
    "    glued = 0\n",
    "    \n",
    "    # Get reads from FASTA file\n",
    "    reads = read_fasta(file_path=fasta_file)\n",
    "    reads = list(reads.values())\n",
    "\n",
    "    # Combine reads that overlap by over half their length\n",
    "    while len(reads) != 1:\n",
    "        read_combinations = combinations(reads, 2)\n",
    "        glued_count = glued\n",
    "\n",
    "        for read_pair in read_combinations:\n",
    "\n",
    "            if read_pair in checked:\n",
    "                continue\n",
    "\n",
    "            index = 0\n",
    "            glue = True\n",
    "\n",
    "            while read_pair[0][index:] != read_pair[1][:-index]:\n",
    "                index += 1\n",
    "                if index == len(read_pair[0]):\n",
    "                    glue = False\n",
    "                    break\n",
    "\n",
    "            if glue:\n",
    "                glued_read = read_pair[0] + read_pair[1][-index:]\n",
    "                reads.append(glued_read)\n",
    "                glued += 1\n",
    "\n",
    "                reads.remove(read_pair[0])\n",
    "                reads.remove(read_pair[1])\n",
    "                break\n",
    "\n",
    "            checked.add(read_pair)\n",
    "\n",
    "        if glued_count == glued:\n",
    "            break\n",
    "\n",
    "    # Superstring is always at end of list\n",
    "    superstring = reads.pop(-1)\n",
    "\n",
    "    # If any unglued reads remaining, append to superstring\n",
    "    for read in reads:\n",
    "        if read not in superstring:\n",
    "            superstring += read\n",
    "\n",
    "    return superstring\n",
    "\n",
    "result = shortest_superstring(\"./sample_datasets/20_collection_01.txt\")\n",
    "result"
   ]
  },
  {
   "cell_type": "code",
   "execution_count": 55,
   "metadata": {},
   "outputs": [],
   "source": [
    "import ipytest\n",
    "ipytest.autoconfig()"
   ]
  },
  {
   "cell_type": "code",
   "execution_count": 56,
   "metadata": {},
   "outputs": [
    {
     "name": "stdout",
     "output_type": "stream",
     "text": [
      "\u001b[32m.\u001b[0m\u001b[32m                                                                                            [100%]\u001b[0m\n",
      "\u001b[32m\u001b[32m\u001b[1m1 passed\u001b[0m\u001b[32m in 0.00s\u001b[0m\u001b[0m\n"
     ]
    }
   ],
   "source": [
    "%%ipytest\n",
    "\n",
    "def test_case_1():\n",
    "    result = shortest_superstring(\"./sample_datasets/20_collection_01.txt\")\n",
    "    answer = \"ATTAGACCTGCCGGAATAC\"\n",
    "    assert result == answer"
   ]
  },
  {
   "cell_type": "code",
   "execution_count": 57,
   "metadata": {},
   "outputs": [],
   "source": [
    "# result = shortest_superstring(\"./sample_datasets/20_collection_02.txt\")\n",
    "# print(result)\n",
    "# print(len(result))"
   ]
  }
 ],
 "metadata": {
  "kernelspec": {
   "display_name": "Python 3",
   "language": "python",
   "name": "python3"
  },
  "language_info": {
   "codemirror_mode": {
    "name": "ipython",
    "version": 3
   },
   "file_extension": ".py",
   "mimetype": "text/x-python",
   "name": "python",
   "nbconvert_exporter": "python",
   "pygments_lexer": "ipython3",
   "version": "3.9.6"
  },
  "orig_nbformat": 4
 },
 "nbformat": 4,
 "nbformat_minor": 2
}
