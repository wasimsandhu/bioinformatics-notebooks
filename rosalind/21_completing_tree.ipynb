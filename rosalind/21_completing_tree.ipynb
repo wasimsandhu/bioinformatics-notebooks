{
 "cells": [
  {
   "cell_type": "markdown",
   "metadata": {},
   "source": [
    "## [Completing a Tree]()\n",
    "\n",
    "### Background\n",
    "An undirected graph is connected if there is a path connecting any two nodes. A tree is a connected (undirected) graph containing no cycles; this definition forces the tree to have a branching structure organized around a central core of nodes, just like its living counterpart.\n",
    "\n",
    "In the creation of a phylogeny, taxa are encoded by the tree's leaves, or nodes having degree 1. A node of a tree having degree larger than 1 is called an internal node.\n",
    "\n",
    "### Problem\n",
    "**Given:** A positive integer `n`, where `n ≤ 1000`, and an adjacency list corresponding to a graph on `n` nodes that contains no cycles.\n",
    "\n",
    "**Return:** The minimum number of edges that can be added to the graph to produce a tree.\n",
    "\n",
    "### Example\n",
    "Input:\n",
    "```\n",
    "10\n",
    "1 2\n",
    "2 8\n",
    "4 10\n",
    "5 9\n",
    "6 10\n",
    "7 9\n",
    "```\n",
    "\n",
    "Output:\n",
    "```\n",
    "3\n",
    "```"
   ]
  },
  {
   "cell_type": "code",
   "execution_count": 15,
   "metadata": {},
   "outputs": [],
   "source": [
    "def min_edges_needed(adjacency_list: str) -> int:\n",
    "    \"\"\"Returns the minimum number of edges needed to\n",
    "    construct a tree from the given adjacency list.\"\"\"\n",
    "    pass"
   ]
  }
 ],
 "metadata": {
  "kernelspec": {
   "display_name": "Python 3",
   "language": "python",
   "name": "python3"
  },
  "language_info": {
   "codemirror_mode": {
    "name": "ipython",
    "version": 3
   },
   "file_extension": ".py",
   "mimetype": "text/x-python",
   "name": "python",
   "nbconvert_exporter": "python",
   "pygments_lexer": "ipython3",
   "version": "3.9.6"
  },
  "orig_nbformat": 4
 },
 "nbformat": 4,
 "nbformat_minor": 2
}
