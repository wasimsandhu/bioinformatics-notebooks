{
 "cells": [
  {
   "cell_type": "markdown",
   "metadata": {},
   "source": [
    "## [Counting Point Mutations](https://rosalind.info/problems/hamm/)\n",
    "\n",
    "### Problem\n",
    "Given two strings `s` and `t` of equal length, the Hamming distance between `s` and `t` – denoted `dH(s,t)` – is the number of corresponding symbols that differ between the two strings.\n",
    "\n",
    "**Given:** Two DNA strings s and t of equal length (not exceeding 1 kbp).\n",
    "\n",
    "**Return:** The Hamming distance `dH(s,t)`.\n",
    "\n",
    "### Example\n",
    "Input:\n",
    "```\n",
    "GAGCCTACTAACGGGAT\n",
    "CATCGTAATGACGGCCT\n",
    "```\n",
    "\n",
    "Output:\n",
    "```\n",
    "7\n",
    "```"
   ]
  },
  {
   "cell_type": "code",
   "execution_count": 16,
   "metadata": {},
   "outputs": [],
   "source": [
    "def hamming_distance(strand_1: str, strand_2: str):\n",
    "    \"\"\"Returns Hamming distance between two DNA strands of equal length.\"\"\"\n",
    "    \n",
    "    hamming = 0\n",
    "    \n",
    "    for index in range(len(strand_1)):\n",
    "        if strand_1[index] != strand_2[index]:\n",
    "            hamming += 1\n",
    "    \n",
    "    return hamming"
   ]
  },
  {
   "cell_type": "code",
   "execution_count": 17,
   "metadata": {},
   "outputs": [],
   "source": [
    "import ipytest\n",
    "ipytest.autoconfig()"
   ]
  },
  {
   "cell_type": "code",
   "execution_count": 18,
   "metadata": {},
   "outputs": [
    {
     "name": "stdout",
     "output_type": "stream",
     "text": [
      "\u001b[32m.\u001b[0m\u001b[32m                                                                                            [100%]\u001b[0m\n",
      "\u001b[32m\u001b[32m\u001b[1m1 passed\u001b[0m\u001b[32m in 0.00s\u001b[0m\u001b[0m\n"
     ]
    }
   ],
   "source": [
    "%%ipytest\n",
    "\n",
    "def test_case_1():\n",
    "    expected = 7\n",
    "    actual = hamming_distance(\"GAGCCTACTAACGGGAT\", \"CATCGTAATGACGGCCT\")\n",
    "    assert actual == expected"
   ]
  },
  {
   "cell_type": "code",
   "execution_count": 19,
   "metadata": {},
   "outputs": [
    {
     "name": "stdout",
     "output_type": "stream",
     "text": [
      "493\n"
     ]
    }
   ],
   "source": [
    "strand_1 = \"CAAAGGCGGAATGCTACCCGTGATGTGTTCGGCCGACTCACGCCTGAACCGCAATAACACACCAACCGCGGCACGATCTGAAACCCCGGTAATGACTCGGTCTGGTCAAGCATCTTCCGTTATCTAGCACCGCGTGGTTAAGCCTGGTCGGGAACTGCACGTAGTCAGATTGGAATTCATCCTTAAAGATGCTCGTGTAGGGATCCATGCAACTGCTTTAAAGGCACTGGACCGGAGGCCAGTTACTAACTACATCCGGTTCTAACAAGCAGGCCGCATTGCAGGATAACAGCGGGGCCTCTGATAGCCGTAGGGGAAGCTTCGGTAAGGGGGAACGGGGCAACACTCTGCGGCAGATGAGTACGGTTAAATCGCGGACAGAGAGCGTTGCAAACGGCCTGAGATACGCCATACAGCTCGCTAATCCGGAACAATACCGCTACATTTGAGATAACCATCCTGTTACCTGGGATTGATTTTGATAGGCCCACCATATAAAACCTGATTTAAACGCATCGGCCAGTAGAACAGGCTCTGCCTCTGGATCATAAGCCTTGAGGTTAGCTAATACGCATCTGATCGAACTCTGAGTGCCTGTCTCCTCTATGAAGCAGATGCTGTCTCCATTAAGCAGCGAAGTTAAAGCGGCTATATTGAAAGTTCTGGGGCCCAGGACGAGAAGAAACCGGGGATGTTTGACCAATTTGTCTAGGCATAAAAAAGGGACGGAAGTGGATTCATAGCGTGCCACAGGCGTGCTGGTGTTGCCCCCCGCTCCAGAAGACGCGAAATGAAGATTAAGGAGCAGAGTCGCCCGTCGCACGCAGTTAACTAGTCGTGCATACACTGCGAAAAGCAACTCAGTTGCGTATCAGCCAAGTGTGTCCTGGACACCTTTACTAGACCGAGGAAATAGCAATCTATTCGGATTTGTGCTCCCCCGAACATCCTCTAGCGGCTTTCTGTACACTGC\"\n",
    "\n",
    "strand_2 = \"CTAACTCTGAGCGCCGCGCGTGTACCAATGCACCGACTCTGGCCCCAGCCGCAGTTACACACGTACTGCGCCAAGATATGACACATCGGTTATGTCAGCGTTGGTGCCGCCGTCGTCGCACAGTATCGTCGTGAGGGGAAACCCTCTACTGCAAGTGCACGTAATCATCTAGTACTGCATGCATCGAGATACTTCTGTTTGGGCCTATGAACTTGCTGAAGTGCCTCTAGGCTGGTGTTTAATGGTTCGGAAGAGTCGGTGCTAACGTTGTAGCTACTGTGATAGATTCGATCTAGACCTTTGTATTGCAAATAACACGCGACGATAACGTGGATCGGCGCACTCCGCTAAATGTGATAAATAGTGGTTGCTACCCCACACAGCGGGAAGCGCACACCCCGCTATACGCGGCTGCGCTTTCAGACTCGGATTTATGCCCACACGCTGTAGTCAAGCATTATTACACTATGGAGTTATTTTGTTCCGCCTCCCCTACATCCCCTGAGTTAACCAACCGTCCCATGACGTCTCAAGCTCCCGCATGTCACTGCTCCTTGGCATGAGCGATCAAGGATCGGAACGGGGTGTCACTCTCTGATACTGGCGGAATAGAGGCGTGTTCCCAATCTTTCTCCTGCATTACTGCCTCGGAAACGACATGTGTGGGACCCAGGAAGTGGTGGCCCCGCTGGGGAGTGCCGCTTATGGCTATTTATCGATTGCGCTCTCAACCGTAGTCGCAGCGCGGCGCATCCCGGGTGGCGTTGGCCCGCCTTCCAGCACATCACTCAGGTATCTTGAAGATTTTTTTGGAGCGTAGCACGAAATTAAGTAACCCTGTTGTCATTGGGAGAAAGAGGTAGGGCGCTTAAGTGACCAAATGTGGCCAGCCATATTGTGTTTACCGATAATCCAGCGCGTACGTCGCATCCGTACTTATCGGCTATTGAACAGGGTGGGTACGTAATCCAGT\"\n",
    "\n",
    "print(hamming_distance(strand_1, strand_2))"
   ]
  }
 ],
 "metadata": {
  "kernelspec": {
   "display_name": "Python 3",
   "language": "python",
   "name": "python3"
  },
  "language_info": {
   "codemirror_mode": {
    "name": "ipython",
    "version": 3
   },
   "file_extension": ".py",
   "mimetype": "text/x-python",
   "name": "python",
   "nbconvert_exporter": "python",
   "pygments_lexer": "ipython3",
   "version": "3.9.6"
  },
  "orig_nbformat": 4
 },
 "nbformat": 4,
 "nbformat_minor": 2
}
