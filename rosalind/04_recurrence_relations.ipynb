{
 "cells": [
  {
   "cell_type": "markdown",
   "metadata": {},
   "source": [
    "## [Rabbits and Recurrence Relations](https://rosalind.info/problems/fib/)\n",
    "\n",
    "### Background\n",
    "A **sequence** is an ordered collection of objects (usually numbers), which are allowed to repeat. Sequences can be finite or infinite. Two examples are the finite sequence (π,−2‾√,0,π) and the infinite sequence of odd numbers (1,3,5,7,9,…).\n",
    "\n",
    "A **recurrence relation** is a way of defining the terms of a sequence with respect to the values of previous terms. In the case of Fibonacci's rabbits from the introduction, any given month will contain the rabbits that were alive the previous month, plus any new offspring.\n",
    "\n",
    "A key observation is that the number of offspring in any month is equal to the number of rabbits that were alive two months prior.\n",
    "\n",
    "As a result, if F<sub>n</sub> represents the number of rabbit pairs alive after the nth month, then we obtain the Fibonacci sequence having terms F<sub>n</sub> that are defined by the recurrence relation F<sub>n</sub> = F<sub>n-1</sub> + F<sub>n-2</sub> (with F<sub>1</sub> = F<sub>2</sub> = 1 to initiate the sequence).\n",
    "\n",
    "When finding the nth term of a sequence defined by a recurrence relation, we can simply use the recurrence relation to generate terms for progressively larger values of n. This problem introduces us to the computational technique of **dynamic programming**, which successively builds up solutions by using the answers to smaller cases.\n",
    "\n",
    "### Problem\n",
    "**Given:** Positive integers n ≤ 40 and k ≤ 5.\n",
    "\n",
    "**Return:** The total number of rabbit pairs that will be present after n months, if we begin with 1 pair and in each generation, every pair of reproduction-age rabbits produces a litter of k rabbit pairs (instead of only 1 pair)."
   ]
  },
  {
   "cell_type": "code",
   "execution_count": 34,
   "metadata": {},
   "outputs": [],
   "source": [
    "def fib(n, k=3) -> int:\n",
    "    \"\"\"Returns number of rabbits present after n months and k pairs per litter.\"\"\"\n",
    "    \n",
    "    # Assumption: one month for rabbits to reach reproduction age\n",
    "    if n <= 1:\n",
    "        return 1\n",
    "    \n",
    "    "
   ]
  },
  {
   "cell_type": "code",
   "execution_count": 35,
   "metadata": {},
   "outputs": [],
   "source": [
    "import ipytest\n",
    "ipytest.autoconfig()"
   ]
  },
  {
   "cell_type": "code",
   "execution_count": 36,
   "metadata": {},
   "outputs": [
    {
     "name": "stdout",
     "output_type": "stream",
     "text": [
      "\u001b[31mF\u001b[0m\u001b[31m                                                                                            [100%]\u001b[0m\n",
      "============================================= FAILURES =============================================\n",
      "\u001b[31m\u001b[1m___________________________________________ test_case_1 ____________________________________________\u001b[0m\n",
      "\n",
      "    \u001b[94mdef\u001b[39;49;00m \u001b[92mtest_case_1\u001b[39;49;00m():\u001b[90m\u001b[39;49;00m\n",
      "        expected = \u001b[94m19\u001b[39;49;00m\u001b[90m\u001b[39;49;00m\n",
      "        actual = fib(\u001b[94m5\u001b[39;49;00m, \u001b[94m3\u001b[39;49;00m)\u001b[90m\u001b[39;49;00m\n",
      ">       \u001b[94massert\u001b[39;49;00m actual == expected\u001b[90m\u001b[39;49;00m\n",
      "\u001b[1m\u001b[31mE       assert 1 == 19\u001b[0m\n",
      "\n",
      "\u001b[1m\u001b[31m/var/folders/hb/_y3ys8r13s38s9qdcr85dxm80000gn/T/ipykernel_48387/3707090444.py\u001b[0m:4: AssertionError\n",
      "\u001b[36m\u001b[1m===================================== short test summary info ======================================\u001b[0m\n",
      "\u001b[31mFAILED\u001b[0m t_cd77017d497f4f62ab5d668553447b24.py::\u001b[1mtest_case_1\u001b[0m - assert 1 == 19\n",
      "\u001b[31m\u001b[31m\u001b[1m1 failed\u001b[0m\u001b[31m in 0.01s\u001b[0m\u001b[0m\n"
     ]
    }
   ],
   "source": [
    "%%ipytest\n",
    "\n",
    "def test_case_1():\n",
    "    expected = 19\n",
    "    actual = fib(5, 3)\n",
    "    assert actual == expected"
   ]
  }
 ],
 "metadata": {
  "kernelspec": {
   "display_name": "Python 3",
   "language": "python",
   "name": "python3"
  },
  "language_info": {
   "codemirror_mode": {
    "name": "ipython",
    "version": 3
   },
   "file_extension": ".py",
   "mimetype": "text/x-python",
   "name": "python",
   "nbconvert_exporter": "python",
   "pygments_lexer": "ipython3",
   "version": "3.9.6"
  },
  "orig_nbformat": 4
 },
 "nbformat": 4,
 "nbformat_minor": 2
}
