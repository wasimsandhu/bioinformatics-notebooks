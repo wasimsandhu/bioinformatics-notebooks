{
 "cells": [
  {
   "cell_type": "markdown",
   "metadata": {},
   "source": [
    "## [Rabbits and Recurrence Relations](https://rosalind.info/problems/fib/)\n",
    "\n",
    "### Background\n",
    "A **sequence** is an ordered collection of objects (usually numbers), which are allowed to repeat. Sequences can be finite or infinite. Two examples are the finite sequence (π,−2‾√,0,π) and the infinite sequence of odd numbers (1,3,5,7,9,…).\n",
    "\n",
    "A **recurrence relation** is a way of defining the terms of a sequence with respect to the values of previous terms. In the case of Fibonacci's rabbits from the introduction, any given month will contain the rabbits that were alive the previous month, plus any new offspring.\n",
    "\n",
    "A key observation is that the number of offspring in any month is equal to the number of rabbits that were alive two months prior.\n",
    "\n",
    "As a result, if F<sub>n</sub> represents the number of rabbit pairs alive after the nth month, then we obtain the Fibonacci sequence having terms F<sub>n</sub> that are defined by the recurrence relation F<sub>n</sub> = F<sub>n-1</sub> + F<sub>n-2</sub> (with F<sub>1</sub> = F<sub>2</sub> = 1 to initiate the sequence).\n",
    "\n",
    "When finding the nth term of a sequence defined by a recurrence relation, we can simply use the recurrence relation to generate terms for progressively larger values of n. This problem introduces us to the computational technique of **dynamic programming**, which successively builds up solutions by using the answers to smaller cases.\n",
    "\n",
    "### Problem\n",
    "**Given:** Positive integers n ≤ 40 and k ≤ 5.\n",
    "\n",
    "**Return:** The total number of rabbit pairs that will be present after n months, if we begin with 1 pair and in each generation, every pair of reproduction-age rabbits produces a litter of k rabbit pairs (instead of only 1 pair)."
   ]
  },
  {
   "cell_type": "code",
   "execution_count": 87,
   "metadata": {},
   "outputs": [],
   "source": [
    "def count_rabbit_pairs(months, pairs_per_litter=3, return_counts=False) -> int:\n",
    "    \"\"\"Returns number of rabbits present after n months and k pairs per litter.\"\"\"\n",
    "    \n",
    "    # Keep running total of all rabbits\n",
    "    total_pairs = 1\n",
    "    adult_pairs = 0\n",
    "    child_pairs = 1\n",
    "    \n",
    "    # Edge cases\n",
    "    if months == 1:\n",
    "        return 1\n",
    "    \n",
    "    if months == 2:\n",
    "        return 4\n",
    "    \n",
    "    # For every month,\n",
    "    for month in range(months - 1):\n",
    "        \n",
    "        # Existing adult pairs give birth to a litter of size k\n",
    "        new_babies = adult_pairs * pairs_per_litter\n",
    "        \n",
    "        # All of the previous child rabbit pairs reach adulthood\n",
    "        adult_pairs += child_pairs\n",
    "        child_pairs = new_babies\n",
    "        \n",
    "        # Total = adults + children\n",
    "        total_pairs += child_pairs\n",
    "        \n",
    "        if return_counts:\n",
    "            print(\"Total\", total_pairs, \"\\nAdults\", adult_pairs, \"\\nChildren\", child_pairs, \"\\n\")\n",
    "    \n",
    "    return total_pairs"
   ]
  },
  {
   "cell_type": "code",
   "execution_count": 88,
   "metadata": {},
   "outputs": [
    {
     "name": "stdout",
     "output_type": "stream",
     "text": [
      "Total 1 \n",
      "Adults 1 \n",
      "Children 0 \n",
      "\n",
      "Total 4 \n",
      "Adults 1 \n",
      "Children 3 \n",
      "\n",
      "Total 7 \n",
      "Adults 4 \n",
      "Children 3 \n",
      "\n",
      "Total 19 \n",
      "Adults 7 \n",
      "Children 12 \n",
      "\n",
      "Total rabbits after 5 months: 19\n"
     ]
    }
   ],
   "source": [
    "rabbits = count_rabbit_pairs(5, 3, return_counts=True)\n",
    "print(\"Total rabbit pairs after 5 months:\", rabbits)"
   ]
  },
  {
   "cell_type": "code",
   "execution_count": 89,
   "metadata": {},
   "outputs": [],
   "source": [
    "import ipytest\n",
    "ipytest.autoconfig()"
   ]
  },
  {
   "cell_type": "code",
   "execution_count": 90,
   "metadata": {},
   "outputs": [
    {
     "name": "stdout",
     "output_type": "stream",
     "text": [
      "\u001b[32m.\u001b[0m\u001b[32m.\u001b[0m\u001b[32m.\u001b[0m\u001b[32m                                                                                          [100%]\u001b[0m\n",
      "\u001b[32m\u001b[32m\u001b[1m3 passed\u001b[0m\u001b[32m in 0.01s\u001b[0m\u001b[0m\n"
     ]
    }
   ],
   "source": [
    "%%ipytest\n",
    "\n",
    "def test_case_1():\n",
    "    expected = 1\n",
    "    actual = count_rabbit_pairs(1, 3)\n",
    "    assert actual == expected\n",
    "\n",
    "def test_case_2():\n",
    "    expected = 4\n",
    "    actual = count_rabbit_pairs(2, 3)\n",
    "    assert actual == expected\n",
    "\n",
    "def test_case_3():\n",
    "    expected = 19\n",
    "    actual = count_rabbit_pairs(5, 3)\n",
    "    assert actual == expected"
   ]
  },
  {
   "cell_type": "code",
   "execution_count": 91,
   "metadata": {},
   "outputs": [
    {
     "name": "stdout",
     "output_type": "stream",
     "text": [
      "1323839213083\n"
     ]
    }
   ],
   "source": [
    "print(count_rabbit_pairs(35, 3))"
   ]
  }
 ],
 "metadata": {
  "kernelspec": {
   "display_name": "Python 3",
   "language": "python",
   "name": "python3"
  },
  "language_info": {
   "codemirror_mode": {
    "name": "ipython",
    "version": 3
   },
   "file_extension": ".py",
   "mimetype": "text/x-python",
   "name": "python",
   "nbconvert_exporter": "python",
   "pygments_lexer": "ipython3",
   "version": "3.9.6"
  },
  "orig_nbformat": 4
 },
 "nbformat": 4,
 "nbformat_minor": 2
}
