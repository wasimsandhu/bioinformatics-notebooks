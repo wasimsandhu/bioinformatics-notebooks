{
 "cells": [
  {
   "cell_type": "markdown",
   "metadata": {},
   "source": [
    "## [Creating a Distance Matrix](https://rosalind.info/problems/pdst/)\n",
    "\n",
    "### Background\n",
    "For two strings s<sub>1</sub> and s<sub>2</sub> of equal length, the p-distance between them – denoted d<sub>p</sub>(s<sub>1</sub>, s<sub>2</sub>) – is the proportion of corresponding symbols that differ between s<sub>1</sub> and s<sub>2</sub>.\n",
    "\n",
    "For a general distance function `d` on `n` taxa (taxa are often represented by genetic strings), we may encode the distances between pairs of taxa via a distance matrix `D` in which D<sub>i,j</sub> = d(s<sub>i</sub>, s<sub>j</sub>).\n",
    "\n",
    "### Problem\n",
    "**Given:** A collection of n (n ≤ 10) DNA strings of equal length (at most 1 kbp).\n",
    "\n",
    "**Return:** The matrix `D` corresponding to the p-distance d<sub>p</sub> on the given strings.\n",
    "\n",
    "### Examples\n",
    "Input:\n",
    "```\n",
    ">Rosalind_9499\n",
    "TTTCCATTTA\n",
    ">Rosalind_0942\n",
    "GATTCATTTC\n",
    ">Rosalind_6568\n",
    "TTTCCATTTT\n",
    ">Rosalind_1833\n",
    "GTTCCATTTA\n",
    "```\n",
    "\n",
    "Output:\n",
    "```\n",
    "0.00000 0.40000 0.10000 0.10000\n",
    "0.40000 0.00000 0.40000 0.30000\n",
    "0.10000 0.40000 0.00000 0.20000\n",
    "0.10000 0.30000 0.20000 0.00000\n",
    "```"
   ]
  },
  {
   "cell_type": "code",
   "execution_count": 43,
   "metadata": {},
   "outputs": [],
   "source": [
    "from wasims_toolbox import read_fasta\n",
    "\n",
    "def distance_matrix(fasta_file: str):\n",
    "    \"\"\"Generates distance matrix for given reads in FASTA format.\"\"\"\n",
    "    \n",
    "    distance_matrix = []\n",
    "    reads = read_fasta(file_path=fasta_file).values()\n",
    "    checked = set()\n",
    "    \n",
    "    def hamming_distance(read1, read2):\n",
    "        \"\"\"Calculate Hamming distance between two reads.\"\"\"\n",
    "        result = 0\n",
    "\n",
    "        for index in range(len(read1)):\n",
    "            if read1[index] != read2[index]:\n",
    "                result += 1\n",
    "\n",
    "        return round(result / len(read1), 3)\n",
    "    \n",
    "    def calculated(read1, read2):\n",
    "        \"\"\"Memoization.\"\"\"\n",
    "        return (read1, read2) not in checked and (read2, read1) not in checked\n",
    "\n",
    "    for i, read1 in enumerate(reads):\n",
    "        distance_matrix.append([])\n",
    "\n",
    "        for j, read2 in enumerate(reads):\n",
    "            distance_matrix[i].append(0)\n",
    "            \n",
    "            if calculated(read1, read2):\n",
    "                distance_matrix[i][j] = hamming_distance(read1, read2)\n",
    "\n",
    "    return distance_matrix"
   ]
  },
  {
   "cell_type": "code",
   "execution_count": 44,
   "metadata": {},
   "outputs": [],
   "source": [
    "def print_distance_matrix(matrix: list):\n",
    "    \"\"\"Prints distance matrix for Rosalind input.\"\"\"\n",
    "    \n",
    "    for row in matrix:\n",
    "        print(\"\\t\".join([str(x) for x in row]))"
   ]
  },
  {
   "cell_type": "code",
   "execution_count": 45,
   "metadata": {},
   "outputs": [
    {
     "name": "stdout",
     "output_type": "stream",
     "text": [
      "0.0\t0.537\t0.547\t0.628\t0.61\t0.67\t0.602\t0.472\t0.307\t0.465\n",
      "0.537\t0.0\t0.46\t0.655\t0.279\t0.614\t0.582\t0.312\t0.464\t0.565\n",
      "0.547\t0.46\t0.0\t0.52\t0.544\t0.47\t0.33\t0.305\t0.477\t0.575\n",
      "0.628\t0.655\t0.52\t0.0\t0.685\t0.492\t0.34\t0.585\t0.632\t0.652\n",
      "0.61\t0.279\t0.544\t0.685\t0.0\t0.651\t0.625\t0.461\t0.549\t0.612\n",
      "0.67\t0.614\t0.47\t0.492\t0.651\t0.0\t0.296\t0.553\t0.627\t0.656\n",
      "0.602\t0.582\t0.33\t0.34\t0.625\t0.296\t0.0\t0.475\t0.57\t0.615\n",
      "0.472\t0.312\t0.305\t0.585\t0.461\t0.553\t0.475\t0.0\t0.329\t0.475\n",
      "0.307\t0.464\t0.477\t0.632\t0.549\t0.627\t0.57\t0.329\t0.0\t0.3\n",
      "0.465\t0.565\t0.575\t0.652\t0.612\t0.656\t0.615\t0.475\t0.3\t0.0\n"
     ]
    }
   ],
   "source": [
    "matrix = distance_matrix(\"./sample_datasets/23_collection.txt\")\n",
    "print_distance_matrix(matrix)"
   ]
  }
 ],
 "metadata": {
  "kernelspec": {
   "display_name": "Python 3",
   "language": "python",
   "name": "python3"
  },
  "language_info": {
   "codemirror_mode": {
    "name": "ipython",
    "version": 3
   },
   "file_extension": ".py",
   "mimetype": "text/x-python",
   "name": "python",
   "nbconvert_exporter": "python",
   "pygments_lexer": "ipython3",
   "version": "3.9.6"
  }
 },
 "nbformat": 4,
 "nbformat_minor": 2
}
