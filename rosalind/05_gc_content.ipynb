{
 "cells": [
  {
   "cell_type": "markdown",
   "metadata": {},
   "source": [
    "## [Computing GC Content](https://rosalind.info/problems/gc/)\n",
    "\n",
    "### Background\n",
    "The GC-content of a DNA string is given by the percentage of symbols in the string that are 'C' or 'G'. For example, the GC-content of \"AGCTATAG\" is 37.5%. Note that the reverse complement of any DNA string has the same GC-content.\n",
    "\n",
    "DNA strings must be labeled when they are consolidated into a database. A commonly used method of string labeling is called FASTA format. In this format, the string is introduced by a line that begins with '>', followed by some labeling information. Subsequent lines contain the string itself; the first line to begin with '>' indicates the label of the next string.\n",
    "\n",
    "In Rosalind's implementation, a string in FASTA format will be labeled by the ID \"Rosalind_xxxx\", where \"xxxx\" denotes a four-digit code between 0000 and 9999.\n",
    "\n",
    "### Problem\n",
    "**Given:** At most 10 DNA strings in FASTA format (of length at most 1 kbp each).\n",
    "\n",
    "**Return:** The ID of the string having the highest GC-content, followed by the GC-content of that string. Rosalind allows for a default error of 0.001 in all decimal answers unless otherwise stated; please see the note on absolute error below.\n",
    "\n",
    "### Example\n",
    "Input:\n",
    "\n",
    "```\n",
    ">Rosalind_6404\n",
    "CCTGCGGAAGATCGGCACTAGAATAGCCAGAACCGTTTCTCTGAGGCTTCCGGCCTTCCC\n",
    "TCCCACTAATAATTCTGAGG\n",
    ">Rosalind_5959\n",
    "CCATCGGTAGCGCATCCTTAGTCCAATTAAGTCCCTATCCAGGCGCTCCGCCGAAGGTCT\n",
    "ATATCCATTTGTCAGCAGACACGC\n",
    ">Rosalind_0808\n",
    "CCACCCTCGTGGTATGGCTAGGCATTCAGGAACCGGAGAACGCTTCAGACCAGCCCGGAC\n",
    "TGGGAACCTGCGGGCAGTAGGTGGAAT\n",
    "```\n",
    "\n",
    "Output:\n",
    "\n",
    "```\n",
    "Rosalind_0808\n",
    "60.919540\n",
    "```"
   ]
  },
  {
   "cell_type": "code",
   "execution_count": 106,
   "metadata": {},
   "outputs": [],
   "source": [
    "def get_max_gc_content(data_file: str):\n",
    "    \"\"\"Returns DNA strand with highest GC content in a given FASTA file.\"\"\"\n",
    "\n",
    "    dna_strand = \"\"\n",
    "    max_gc_content = 0\n",
    "\n",
    "    with open(data_file, \"r\") as file:\n",
    "        lines = file.read().splitlines()\n",
    "\n",
    "        gc_count = 0\n",
    "        total_nt = 0\n",
    "        curr_strand = \"\"\n",
    "        \n",
    "        for index, line in enumerate(lines):\n",
    "\n",
    "            if index == 0:\n",
    "                curr_strand = line.replace(\">\", \"\")\n",
    "                continue\n",
    "            \n",
    "            if not line.startswith(\">Rosalind\"):\n",
    "                gc_count = gc_count + line.count(\"G\") + line.count(\"C\")\n",
    "                total_nt += len(line)\n",
    "                \n",
    "                if not line == lines[-1]:\n",
    "                    continue\n",
    "            \n",
    "            gc_content = (gc_count / total_nt) * 100\n",
    "\n",
    "            if gc_content > max_gc_content:\n",
    "                dna_strand = curr_strand\n",
    "                max_gc_content = round(gc_content, 6)\n",
    "                \n",
    "            curr_strand = line.replace(\">\", \"\")\n",
    "            gc_count, total_nt = 0, 0\n",
    "    \n",
    "    return dna_strand, max_gc_content"
   ]
  },
  {
   "cell_type": "code",
   "execution_count": 107,
   "metadata": {},
   "outputs": [
    {
     "name": "stdout",
     "output_type": "stream",
     "text": [
      "Rosalind_0808\n",
      "60.91954\n"
     ]
    }
   ],
   "source": [
    "dna_strand, gc_content = get_max_gc_content(\"./sample_datasets/05_sample_01.txt\")\n",
    "print(dna_strand)\n",
    "print(gc_content)"
   ]
  },
  {
   "cell_type": "code",
   "execution_count": 108,
   "metadata": {},
   "outputs": [
    {
     "name": "stdout",
     "output_type": "stream",
     "text": [
      "Rosalind_7728\n",
      "51.897321\n"
     ]
    }
   ],
   "source": [
    "dna_strand, gc_content = get_max_gc_content(\"./sample_datasets/05_sample_02.txt\")\n",
    "print(dna_strand)\n",
    "print(gc_content)"
   ]
  },
  {
   "cell_type": "markdown",
   "metadata": {},
   "source": [
    "### More information\n",
    "Why would we want to calculate GC content? Why does GC content even matter?\n",
    "\n",
    "At the prokaryotic level, GC content correlates coding-sequence length, correlates with certain secondary RNA structures, and there is also a noted bias towards low GC content in stop codons (TAG, TAA, and TGA). These are just to name a few situations where rich GC regions and GC poor regions correlate with functional significance.\n",
    "\n",
    "Long coding regions in vertebrates and prokaryotes are significantly correlated with GC content; long coding regions tend to be GC-rich where as short coding regions tend to be GC poor. Since codons are biased towards being AT rich, mutations in AT rich regions can likely lead to the generation of stop codons. Whereas in GC regions, many such mutations might be required to spontaneously lead to stop codons.\n",
    "\n",
    "Therefore, conserved regions across organisms are likely GC rich."
   ]
  }
 ],
 "metadata": {
  "kernelspec": {
   "display_name": "Python 3",
   "language": "python",
   "name": "python3"
  },
  "language_info": {
   "codemirror_mode": {
    "name": "ipython",
    "version": 3
   },
   "file_extension": ".py",
   "mimetype": "text/x-python",
   "name": "python",
   "nbconvert_exporter": "python",
   "pygments_lexer": "ipython3",
   "version": "3.9.6"
  },
  "orig_nbformat": 4
 },
 "nbformat": 4,
 "nbformat_minor": 2
}
