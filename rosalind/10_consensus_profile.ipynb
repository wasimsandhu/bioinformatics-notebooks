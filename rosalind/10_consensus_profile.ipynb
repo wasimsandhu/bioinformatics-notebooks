{
 "cells": [
  {
   "cell_type": "markdown",
   "metadata": {},
   "source": [
    "## [Consensus and Profile](https://rosalind.info/problems/cons/)\n",
    "\n",
    "### Background\n",
    "Say that we have a collection of DNA strings, all having the same length `n`. Their profile matrix is a `4 × n` matrix `P` in which `P(1,j)` represents the number of times that 'A' occurs in the `j`th position of one of the strings, `P(2,j)` represents the number of times that 'C' occurs in the `j`th position, and so on (see below).\n",
    "\n",
    "**DNA strands**\n",
    "```\n",
    "A T C C A G C T\n",
    "G G G C A A C T\n",
    "A T G G A T C T\n",
    "A A G C A A C C\n",
    "T T G G A A C T\n",
    "A T G C C A T T\n",
    "A T G G C A C T\n",
    "```\n",
    "\n",
    "**Profile**\n",
    "```\n",
    "A   5 1 0 0 5 5 0 0\n",
    "C   0 0 1 4 2 0 6 1\n",
    "G   1 1 6 3 0 1 0 0\n",
    "T   1 5 0 0 0 1 1 6\n",
    "```\n",
    "\n",
    "A consensus string `c` is a string of length `n` formed from our collection by taking the most common symbol at each position; the `j`th symbol of `c` therefore corresponds to the symbol having the maximum value in the `j`th column of the profile matrix. \n",
    "\n",
    "**Consensus**\n",
    "```\n",
    "A T G C A A C T\n",
    "```\n",
    "\n",
    "Of course, there may be more than one most common symbol, leading to multiple possible consensus strings.\n",
    "\n",
    "### Problem\n",
    "**Given:** A collection of at most 10 DNA strings of equal length (at most 1 kbp) in FASTA format.\n",
    "\n",
    "**Return:** A consensus string and profile matrix for the collection. (If several possible consensus strings exist, then you may return any one of them.)\n",
    "\n",
    "### Example\n",
    "Input:\n",
    "```\n",
    ">Rosalind_1\n",
    "ATCCAGCT\n",
    ">Rosalind_2\n",
    "GGGCAACT\n",
    ">Rosalind_3\n",
    "ATGGATCT\n",
    ">Rosalind_4\n",
    "AAGCAACC\n",
    ">Rosalind_5\n",
    "TTGGAACT\n",
    ">Rosalind_6\n",
    "ATGCCATT\n",
    ">Rosalind_7\n",
    "ATGGCACT\n",
    "```\n",
    "\n",
    "Output:\n",
    "```\n",
    "ATGCAACT\n",
    "A: 5 1 0 0 5 5 0 0\n",
    "C: 0 0 1 4 2 0 6 1\n",
    "G: 1 1 6 3 0 1 0 0\n",
    "T: 1 5 0 0 0 1 1 6\n",
    "```"
   ]
  },
  {
   "cell_type": "code",
   "execution_count": 35,
   "metadata": {},
   "outputs": [],
   "source": [
    "def get_reads(fasta_file: str) -> dict:\n",
    "    \"\"\"Reads FASTA file and returns DNA strands in dictionary.\"\"\"\n",
    "    \n",
    "    reads = {}\n",
    "    \n",
    "    with open(fasta_file, \"r\") as file:\n",
    "        lines = file.read().splitlines()\n",
    "        last_line = lines[-1]\n",
    "        \n",
    "        for line in lines:\n",
    "            if not line.startswith(\">Rosalind\"):\n",
    "                reads[read] += line\n",
    "                continue\n",
    "            \n",
    "            if line == last_line:\n",
    "                break\n",
    "            \n",
    "            read = line.replace(\">\", \"\")\n",
    "            reads[read] = \"\"\n",
    "            \n",
    "    return reads"
   ]
  },
  {
   "cell_type": "code",
   "execution_count": 36,
   "metadata": {},
   "outputs": [],
   "source": [
    "def generate_profile_matrix(reads: dict) -> dict:\n",
    "\n",
    "    \"\"\"\n",
    "    Generates profile matrix for collection of DNA strands in FASTA format.\n",
    "\n",
    "    Args:\n",
    "        reads (dict): Dictionary with key-value pairs of read\n",
    "        title and DNA strand.\n",
    "\n",
    "    Returns:\n",
    "        list: Nested dictionary representing 4 x n profile matrix.\n",
    "    \"\"\"\n",
    "    \n",
    "    pass"
   ]
  },
  {
   "cell_type": "code",
   "execution_count": null,
   "metadata": {},
   "outputs": [],
   "source": [
    "def get_consensus(profile_matrix: list) -> str:\n",
    "    \n",
    "    \"\"\"Returns first consensus strand found from the given profile matrix.\n",
    "\n",
    "    Args:\n",
    "        profile_matrix (list): Profile matrix of dimension 4 x n,\n",
    "        with nucleotide occurrences in each strand of length n.\n",
    "\n",
    "    Returns:\n",
    "        str: Consensus strand.\n",
    "    \"\"\"\n",
    "    \n",
    "    pass"
   ]
  },
  {
   "cell_type": "code",
   "execution_count": 37,
   "metadata": {},
   "outputs": [
    {
     "name": "stdout",
     "output_type": "stream",
     "text": [
      "\u001b[32m.\u001b[0m"
     ]
    },
    {
     "name": "stdout",
     "output_type": "stream",
     "text": [
      "\u001b[32m                                                                                            [100%]\u001b[0m\n",
      "\u001b[32m\u001b[32m\u001b[1m1 passed\u001b[0m\u001b[32m in 0.00s\u001b[0m\u001b[0m\n"
     ]
    },
    {
     "data": {
      "text/plain": [
       "<ExitCode.OK: 0>"
      ]
     },
     "execution_count": 37,
     "metadata": {},
     "output_type": "execute_result"
    }
   ],
   "source": [
    "import ipytest\n",
    "ipytest.autoconfig()\n",
    "\n",
    "def test_reads():\n",
    "    actual = get_reads(\"./sample_datasets/10_collection_01.txt\")\n",
    "    expected = {\n",
    "        'Rosalind_1': 'ATCCAGCT',\n",
    "        'Rosalind_2': 'GGGCAACT',\n",
    "        'Rosalind_3': 'ATGGATCT',\n",
    "        'Rosalind_4': 'AAGCAACC',\n",
    "        'Rosalind_5': 'TTGGAACT',\n",
    "        'Rosalind_6': 'ATGCCATT',\n",
    "        'Rosalind_7': 'ATGGCACT'\n",
    "    }\n",
    "    assert actual == expected\n",
    "\n",
    "ipytest.run()"
   ]
  }
 ],
 "metadata": {
  "kernelspec": {
   "display_name": "Python 3",
   "language": "python",
   "name": "python3"
  },
  "language_info": {
   "codemirror_mode": {
    "name": "ipython",
    "version": 3
   },
   "file_extension": ".py",
   "mimetype": "text/x-python",
   "name": "python",
   "nbconvert_exporter": "python",
   "pygments_lexer": "ipython3",
   "version": "3.9.6"
  },
  "orig_nbformat": 4
 },
 "nbformat": 4,
 "nbformat_minor": 2
}
