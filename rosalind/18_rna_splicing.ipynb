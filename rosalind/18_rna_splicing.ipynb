{
 "cells": [
  {
   "cell_type": "markdown",
   "metadata": {},
   "source": [
    "## [RNA Splicing](https://rosalind.info/problems/splc/)\n",
    "\n",
    "### Background\n",
    "In the nucleus, an enzyme called RNA polymerase (RNAP) initiates transcription by breaking the bonds joining complementary bases of DNA.\n",
    "\n",
    "It then creates a molecule called precursor mRNA, or pre-mRNA, by using one of the two strands of DNA as a template strand: moving down the template strand, when RNAP encounters the next nucleotide, it adds the complementary base to the growing RNA strand, with the provision that uracil must be used in place of thymine.\n",
    "\n",
    "A pre-mRNA is first chopped into smaller segments called introns and exons; for the purposes of protein translation, the introns are thrown out, and the exons are glued together sequentially to produce a final strand of mRNA.\n",
    "\n",
    "This cutting and pasting process is called splicing, and it is facilitated by a collection of RNA and proteins called a **spliceosome**.\n",
    "\n",
    "The fact that the spliceosome is made of RNA and proteins despite regulating the splicing of RNA to create proteins is just one manifestation of a molecular chicken-and-egg scenario that has yet to be fully resolved.\n",
    "\n",
    "### Problem\n",
    "After identifying the exons and introns of an RNA string, we only need to delete the introns and concatenate the exons to form a new string ready for translation.\n",
    "\n",
    "**Given:** A DNA string `s` (of length at most 1 kbp) and a collection of substrings of `s` acting as introns. All strings are given in FASTA format.\n",
    "\n",
    "**Return:** A protein string resulting from transcribing and translating the exons of `s`. (Note: Only one solution will exist for the dataset provided.)\n",
    "\n",
    "### Example\n",
    "Input:\n",
    "```\n",
    ">Rosalind_10\n",
    "ATGGTCTACATAGCTGACAAACAGCACGTAGCAATCGGTCGAATCTCGAGAGGCATATGGTCACATGATCGGTCGAGCGTGTTTCAAAGTTTGCGCCTAG\n",
    ">Rosalind_12\n",
    "ATCGGTCGAA\n",
    ">Rosalind_15\n",
    "ATCGGTCGAGCGTGT\n",
    "```\n",
    "\n",
    "Output:\n",
    "```\n",
    "MVYIADKQHVASREAYGHMFKVCA\n",
    "```"
   ]
  },
  {
   "cell_type": "code",
   "execution_count": 9,
   "metadata": {},
   "outputs": [],
   "source": [
    "def remove_introns(dna_strand: str, introns: list) -> str:\n",
    "    \n",
    "    \"\"\"\n",
    "    Removes introns and returns exons in given DNA strand.\n",
    "\n",
    "    Args:\n",
    "        dna_strand (str): DNA strand of length at most 1 kbp.\n",
    "        introns (list): List of introns found in DNA strand.\n",
    "        \n",
    "    Returns:\n",
    "        str: Gene coding region i.e. exons derived from DNA strand.\n",
    "    \"\"\"\n",
    "    \n",
    "    for intron in introns:\n",
    "        dna_strand = dna_strand.replace(intron, \"\")\n",
    "        \n",
    "    return dna_strand"
   ]
  },
  {
   "cell_type": "code",
   "execution_count": 10,
   "metadata": {},
   "outputs": [
    {
     "name": "stdout",
     "output_type": "stream",
     "text": [
      "MVYIADKQHVASREAYGHMFKVCA\n"
     ]
    }
   ],
   "source": [
    "from wasims_toolbox import read_fasta, ProteinToolbox\n",
    "\n",
    "def translate_exons(fasta_file: str) -> str:\n",
    "    \n",
    "    # Read FASTA file\n",
    "    dna_collection = read_fasta(file_path=fasta_file)\n",
    "    dna_collection = list(dna_collection.values())\n",
    "    dna_strand, introns = dna_collection[0], dna_collection[1:]\n",
    "    \n",
    "    # Remove introns beforehand, I guess\n",
    "    coding_strand = remove_introns(dna_strand, introns)\n",
    "    \n",
    "    # Transcription\n",
    "    mrna_strand = coding_strand.replace(\"T\", \"U\")\n",
    "    \n",
    "    # Translation\n",
    "    return ProteinToolbox().translate(mrna_strand)\n",
    "\n",
    "solution = translate_exons(\"./sample_datasets/18_collection_01.txt\")\n",
    "assert solution == \"MVYIADKQHVASREAYGHMFKVCA\"\n",
    "print(solution)"
   ]
  },
  {
   "cell_type": "code",
   "execution_count": 11,
   "metadata": {},
   "outputs": [
    {
     "name": "stdout",
     "output_type": "stream",
     "text": [
      "MRGWTPAHDDPVRVPRFYAGALSRPKGTVETQFRWWIDSCSVLVQVAEVQARMIDFLSARLSGQYGNGSLQRHQKSYYLSNRIDTRTLAKSHDLRRASFHPKHTLPKGLMATRTISTARLSIGNVDVLRIDCLQTGGTERENIYCLLNRTRLKRLGSAYGPAWYPPVTFKVPEATPL\n"
     ]
    }
   ],
   "source": [
    "solution = translate_exons(\"./sample_datasets/18_collection_02.txt\")\n",
    "print(solution)"
   ]
  }
 ],
 "metadata": {
  "kernelspec": {
   "display_name": "Python 3",
   "language": "python",
   "name": "python3"
  },
  "language_info": {
   "codemirror_mode": {
    "name": "ipython",
    "version": 3
   },
   "file_extension": ".py",
   "mimetype": "text/x-python",
   "name": "python",
   "nbconvert_exporter": "python",
   "pygments_lexer": "ipython3",
   "version": "3.9.6"
  },
  "orig_nbformat": 4
 },
 "nbformat": 4,
 "nbformat_minor": 2
}
