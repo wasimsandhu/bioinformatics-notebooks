{
 "cells": [
  {
   "cell_type": "markdown",
   "metadata": {},
   "source": [
    "## [Finding a Protein Motif]()\n",
    "\n",
    "### Background\n",
    "A structural and functional unit of the protein is a **protein domain**: in terms of the protein's primary structure, the domain is an interval of amino acids that can evolve and function independently.\n",
    "\n",
    "Just like species, proteins can evolve, forming homologous groups called protein families. Proteins from one family usually have the same set of domains, performing similar functions; see Figure 1.\n",
    "\n",
    "A component of a domain essential for its function is called a **motif**, a term that in general has the same meaning as it does in nucleic acids, although many other terms are also used (blocks, signatures, fingerprints, etc.) Usually protein motifs are evolutionarily conservative, meaning that they appear without much change in different species.\n",
    "\n",
    "Proteins are identified in different labs around the world and gathered into freely accessible databases. A central repository for protein data is **[UniProt](https://www.uniprot.org/)**, which provides detailed protein annotation, including function description, domain structure, and post-translational modifications. UniProt also supports protein similarity search, taxonomy analysis, and literature citations.\n",
    "\n",
    "### UniProt\n",
    "To allow for the presence of its varying forms, a protein motif is represented by a shorthand as follows: [XY] means \"either X or Y\" and {X} means \"any amino acid except X.\" For example, the N-glycosylation motif is written as N{P}[ST]{P}.\n",
    "\n",
    "You can see the complete description and features of a particular protein by its access ID \"uniprot_id\" in the UniProt database, by inserting the ID number into\n",
    "```\n",
    "http://www.uniprot.org/uniprot/uniprot_id\n",
    "```\n",
    "\n",
    "Alternatively, you can obtain a protein sequence in FASTA format by following\n",
    "```\n",
    "http://www.uniprot.org/uniprot/uniprot_id.fasta\n",
    "```\n",
    "\n",
    "For example, the data for protein B5ZC00 can be found at http://www.uniprot.org/uniprot/B5ZC00.\n",
    "\n",
    "### Problem\n",
    "**Given:** At most 15 UniProt Protein Database access IDs.\n",
    "\n",
    "**Return:** For each protein possessing the N-glycosylation motif, output its given access ID followed by a list of locations in the protein string where the motif can be found.\n",
    "\n",
    "### Example\n",
    "Input:\n",
    "```\n",
    "A2Z669\n",
    "B5ZC00\n",
    "P07204_TRBM_HUMAN\n",
    "P20840_SAG1_YEAST\n",
    "```\n",
    "\n",
    "Output:\n",
    "```\n",
    "B5ZC00\n",
    "85 118 142 306 395\n",
    "P07204_TRBM_HUMAN\n",
    "47 115 116 382 409\n",
    "P20840_SAG1_YEAST\n",
    "79 109 135 248 306 348 364 402 485 501 614\n",
    "```"
   ]
  },
  {
   "cell_type": "code",
   "execution_count": 8,
   "metadata": {},
   "outputs": [
    {
     "data": {
      "text/plain": [
       "{'sp|A2Z669|CSPLT_ORYSI CASP-like protein 5A2 OS=Oryza sativa subsp. indica OX=39946 GN=OsI_33147 PE=3 SV=1': 'MRASRPVVHPVEAPPPAALAVAAAAVAVEAGVGAGGGAAAHGGENAQPRGVRMKDPPGAPGTPGGLGLRLVQAFFAAAALAVMASTDDFPSVSAFCYLVAAAILQCLWSLSLAVVDIYALLVKRSLRNPQAVCIFTIGDGITGTLTLGAACASAGITVLIGNDLNICANNHCASFETATAMAFISWFALAPSCVLNFWSMASR',\n",
       " 'sp|B5ZC00|SYG_UREU1 Glycine--tRNA ligase OS=Ureaplasma urealyticum serovar 10 (strain ATCC 33699 / Western) OX=565575 GN=glyQS PE=3 SV=1': 'MKNKFKTQEELVNHLKTVGFVFANSEIYNGLANAWDYGPLGVLLKNNLKNLWWKEFVTKQKDVVGLDSAIILNPLVWKASGHLDNFSDPLIDCKNCKARYRADKLIESFDENIHIAENSSNEEFAKVLNDYEISCPTCKQFNWTEIRHFNLMFKTYQGVIEDAKNVVYLRPETAQGIFVNFKNVQRSMRLHLPFGIAQIGKSFRNEITPGNFIFRTREFEQMEIEFFLKEESAYDIFDKYLNQIENWLVSACGLSLNNLRKHEHPKEELSHYSKKTIDFEYNFLHGFSELYGIAYRTNYDLSVHMNLSKKDLTYFDEQTKEKYVPHVIEPSVGVERLLYAILTEATFIEKLENDDERILMDLKYDLAPYKIAVMPLVNKLKDKAEEIYGKILDLNISATFDNSGSIGKRYRRQDAIGTIYCLTIDFDSLDDQQDPSFTIRERNSMAQKRIKLSELPLYLNQKAHEDFQRQCQK',\n",
       " 'sp|P07204|TRBM_HUMAN Thrombomodulin OS=Homo sapiens OX=9606 GN=THBD PE=1 SV=2': 'MLGVLVLGALALAGLGFPAPAEPQPGGSQCVEHDCFALYPGPATFLNASQICDGLRGHLMTVRSSVAADVISLLLNGDGGVGRRRLWIGLQLPPGCGDPKRLGPLRGFQWVTGDNNTSYSRWARLDLNGAPLCGPLCVAVSAAEATVPSEPIWEEQQCEVKADGFLCEFHFPATCRPLAVEPGAAAAAVSITYGTPFAARGADFQALPVGSSAAVAPLGLQLMCTAPPGAVQGHWAREAPGAWDCSVENGGCEHACNAIPGAPRCQCPAGAALQADGRSCTASATQSCNDLCEHFCVPNPDQPGSYSCMCETGYRLAADQHRCEDVDDCILEPSPCPQRCVNTQGGFECHCYPNYDLVDGECVEPVDPCFRANCEYQCQPLNQTSYLCVCAEGFAPIPHEPHRCQMFCNQTACPADCDPNTQASCECPEGYILDDGFICTDIDECENGGFCSGVCHNLPGTFECICGPDSALARHIGTDCDSGKVDGGDSGSGEPPPSPTPGSTLTPPAVGLVHSGLLIGISIASLCLVVALLALLCHLRKKQGAARAKMEYKCAAPSKEVVLQHVRTERTPQRL',\n",
       " 'sp|P20840|SAG1_YEAST Alpha-agglutinin OS=Saccharomyces cerevisiae (strain ATCC 204508 / S288c) OX=559292 GN=SAG1 PE=1 SV=2': 'MFTFLKIILWLFSLALASAININDITFSNLEITPLTANKQPDQGWTATFDFSIADASSIREGDEFTLSMPHVYRIKLLNSSQTATISLADGTEAFKCYVSQQAAYLYENTTFTCTAQNDLSSYNTIDGSITFSLNFSDGGSSYEYELENAKFFKSGPMLVKLGNQMSDVVNFDPAAFTENVFHSGRSTGYGSFESYHLGMYCPNGYFLGGTEKIDYDSSNNNVDLDCSSVQVYSSNDFNDWWFPQSYNDTNADVTCFGSNLWITLDEKLYDGEMLWVNALQSLPANVNTIDHALEFQYTCLDTIANTTYATQFSTTREFIVYQGRNLGTASAKSSFISTTTTDLTSINTSAYSTGSISTVETGNRTTSEVISHVVTTSTKLSPTATTSLTIAQTSIYSTDSNITVGTDIHTTSEVISDVETISRETASTVVAAPTSTTGWTGAMNTYISQFTSSSFATINSTPIISSSAVFETSDASIVNVHTENITNTAAVPSEEPTFVNATRNSLNSFCSSKQPSSPSSYTSSPLVSSLSVSKTLLSTSFTPSVPTSNTYIKTKNTGYFEHTALTTSSVGLNSFSETAVSSQGTKIDTFLVSSLIAYPSSASGSQLSGIQQNFTSTSLMISTYEGKASIFFSAELGSIIFLLLSYLLF'}"
      ]
     },
     "execution_count": 8,
     "metadata": {},
     "output_type": "execute_result"
    }
   ],
   "source": [
    "import requests\n",
    "from wasims_toolbox import read_fasta\n",
    "\n",
    "def get_protein_sequence(access_id: str) -> dict:\n",
    "    \n",
    "    \"\"\"\n",
    "    Returns protein sequence from given UniProt access ID\n",
    "    as dictionary with key-value pairs of name to sequence.\n",
    "    \n",
    "    Args:\n",
    "        access_id (str): UniProt Protein Database access ID\n",
    "    \n",
    "    Returns:\n",
    "        dict: Protein name and sequence\n",
    "    \"\"\"\n",
    "    \n",
    "    response = requests.get(f\"https://rest.uniprot.org/uniprotkb/{access_id}.fasta\")\n",
    "    protein = read_fasta(sequences=response.text)\n",
    "    return protein\n",
    "\n",
    "proteins = {}\n",
    "access_ids = [\"A2Z669\", \"B5ZC00\", \"P07204\", \"P20840\"]\n",
    "\n",
    "for access_id in access_ids:\n",
    "    protein = get_protein_sequence(access_id)\n",
    "    proteins.update(protein)\n",
    "\n",
    "proteins"
   ]
  },
  {
   "cell_type": "code",
   "execution_count": 9,
   "metadata": {},
   "outputs": [],
   "source": [
    "def find_n_glycosylation_motifs(protein: str) -> list:\n",
    "    \n",
    "    \"\"\"\n",
    "    Returns locations of N-glycosylation motif for\n",
    "    the given protein using UniProt access ID.\n",
    "    \n",
    "    Args:\n",
    "        protein (str): Protein sequence\n",
    "    \n",
    "    Returns:\n",
    "        list: Positions in the protein chain where the \n",
    "        N-glycosylation motif occurs.\n",
    "    \"\"\"\n",
    "\n",
    "find_n_glycosylation_motifs(\"B5ZC00\")"
   ]
  }
 ],
 "metadata": {
  "kernelspec": {
   "display_name": "Python 3",
   "language": "python",
   "name": "python3"
  },
  "language_info": {
   "codemirror_mode": {
    "name": "ipython",
    "version": 3
   },
   "file_extension": ".py",
   "mimetype": "text/x-python",
   "name": "python",
   "nbconvert_exporter": "python",
   "pygments_lexer": "ipython3",
   "version": "3.9.6"
  },
  "orig_nbformat": 4
 },
 "nbformat": 4,
 "nbformat_minor": 2
}
