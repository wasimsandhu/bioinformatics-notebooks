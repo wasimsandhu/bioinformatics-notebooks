{
 "cells": [
  {
   "cell_type": "markdown",
   "metadata": {},
   "source": [
    "## [Finding a Protein Motif]()\n",
    "\n",
    "### Background\n",
    "A structural and functional unit of the protein is a **protein domain**: in terms of the protein's primary structure, the domain is an interval of amino acids that can evolve and function independently.\n",
    "\n",
    "Just like species, proteins can evolve, forming homologous groups called protein families. Proteins from one family usually have the same set of domains, performing similar functions; see Figure 1.\n",
    "\n",
    "A component of a domain essential for its function is called a **motif**, a term that in general has the same meaning as it does in nucleic acids, although many other terms are also used (blocks, signatures, fingerprints, etc.) Usually protein motifs are evolutionarily conservative, meaning that they appear without much change in different species.\n",
    "\n",
    "Proteins are identified in different labs around the world and gathered into freely accessible databases. A central repository for protein data is **[UniProt](https://www.uniprot.org/)**, which provides detailed protein annotation, including function description, domain structure, and post-translational modifications. UniProt also supports protein similarity search, taxonomy analysis, and literature citations.\n",
    "\n",
    "### UniProt\n",
    "To allow for the presence of its varying forms, a protein motif is represented by a shorthand as follows: [XY] means \"either X or Y\" and {X} means \"any amino acid except X.\" For example, the N-glycosylation motif is written as N{P}[ST]{P}.\n",
    "\n",
    "You can see the complete description and features of a particular protein by its access ID \"uniprot_id\" in the UniProt database, by inserting the ID number into\n",
    "```\n",
    "http://www.uniprot.org/uniprot/uniprot_id\n",
    "```\n",
    "\n",
    "Alternatively, you can obtain a protein sequence in FASTA format by following\n",
    "```\n",
    "http://www.uniprot.org/uniprot/uniprot_id.fasta\n",
    "```\n",
    "\n",
    "For example, the data for protein B5ZC00 can be found at http://www.uniprot.org/uniprot/B5ZC00.\n",
    "\n",
    "### Problem\n",
    "**Given:** At most 15 UniProt Protein Database access IDs.\n",
    "\n",
    "**Return:** For each protein possessing the N-glycosylation motif, output its given access ID followed by a list of locations in the protein string where the motif can be found.\n",
    "\n",
    "### Example\n",
    "Input:\n",
    "```\n",
    "A2Z669\n",
    "B5ZC00\n",
    "P07204_TRBM_HUMAN\n",
    "P20840_SAG1_YEAST\n",
    "```\n",
    "\n",
    "Output:\n",
    "```\n",
    "B5ZC00\n",
    "85 118 142 306 395\n",
    "P07204_TRBM_HUMAN\n",
    "47 115 116 382 409\n",
    "P20840_SAG1_YEAST\n",
    "79 109 135 248 306 348 364 402 485 501 614\n",
    "```"
   ]
  },
  {
   "cell_type": "code",
   "execution_count": 49,
   "metadata": {},
   "outputs": [
    {
     "data": {
      "text/plain": [
       "{'sp|B5ZC00|SYG_UREU1 Glycine--tRNA ligase OS=Ureaplasma urealyticum serovar 10 (strain ATCC 33699 / Western) OX=565575 GN=glyQS PE=3 SV=1': 'MKNKFKTQEELVNHLKTVGFVFANSEIYNGLANAWDYGPLGVLLKNNLKNLWWKEFVTKQKDVVGLDSAIILNPLVWKASGHLDNFSDPLIDCKNCKARYRADKLIESFDENIHIAENSSNEEFAKVLNDYEISCPTCKQFNWTEIRHFNLMFKTYQGVIEDAKNVVYLRPETAQGIFVNFKNVQRSMRLHLPFGIAQIGKSFRNEITPGNFIFRTREFEQMEIEFFLKEESAYDIFDKYLNQIENWLVSACGLSLNNLRKHEHPKEELSHYSKKTIDFEYNFLHGFSELYGIAYRTNYDLSVHMNLSKKDLTYFDEQTKEKYVPHVIEPSVGVERLLYAILTEATFIEKLENDDERILMDLKYDLAPYKIAVMPLVNKLKDKAEEIYGKILDLNISATFDNSGSIGKRYRRQDAIGTIYCLTIDFDSLDDQQDPSFTIRERNSMAQKRIKLSELPLYLNQKAHEDFQRQCQK',\n",
       " 'sp|P07204|TRBM_HUMAN Thrombomodulin OS=Homo sapiens OX=9606 GN=THBD PE=1 SV=2': 'MLGVLVLGALALAGLGFPAPAEPQPGGSQCVEHDCFALYPGPATFLNASQICDGLRGHLMTVRSSVAADVISLLLNGDGGVGRRRLWIGLQLPPGCGDPKRLGPLRGFQWVTGDNNTSYSRWARLDLNGAPLCGPLCVAVSAAEATVPSEPIWEEQQCEVKADGFLCEFHFPATCRPLAVEPGAAAAAVSITYGTPFAARGADFQALPVGSSAAVAPLGLQLMCTAPPGAVQGHWAREAPGAWDCSVENGGCEHACNAIPGAPRCQCPAGAALQADGRSCTASATQSCNDLCEHFCVPNPDQPGSYSCMCETGYRLAADQHRCEDVDDCILEPSPCPQRCVNTQGGFECHCYPNYDLVDGECVEPVDPCFRANCEYQCQPLNQTSYLCVCAEGFAPIPHEPHRCQMFCNQTACPADCDPNTQASCECPEGYILDDGFICTDIDECENGGFCSGVCHNLPGTFECICGPDSALARHIGTDCDSGKVDGGDSGSGEPPPSPTPGSTLTPPAVGLVHSGLLIGISIASLCLVVALLALLCHLRKKQGAARAKMEYKCAAPSKEVVLQHVRTERTPQRL',\n",
       " 'sp|P20840|SAG1_YEAST Alpha-agglutinin OS=Saccharomyces cerevisiae (strain ATCC 204508 / S288c) OX=559292 GN=SAG1 PE=1 SV=2': 'MFTFLKIILWLFSLALASAININDITFSNLEITPLTANKQPDQGWTATFDFSIADASSIREGDEFTLSMPHVYRIKLLNSSQTATISLADGTEAFKCYVSQQAAYLYENTTFTCTAQNDLSSYNTIDGSITFSLNFSDGGSSYEYELENAKFFKSGPMLVKLGNQMSDVVNFDPAAFTENVFHSGRSTGYGSFESYHLGMYCPNGYFLGGTEKIDYDSSNNNVDLDCSSVQVYSSNDFNDWWFPQSYNDTNADVTCFGSNLWITLDEKLYDGEMLWVNALQSLPANVNTIDHALEFQYTCLDTIANTTYATQFSTTREFIVYQGRNLGTASAKSSFISTTTTDLTSINTSAYSTGSISTVETGNRTTSEVISHVVTTSTKLSPTATTSLTIAQTSIYSTDSNITVGTDIHTTSEVISDVETISRETASTVVAAPTSTTGWTGAMNTYISQFTSSSFATINSTPIISSSAVFETSDASIVNVHTENITNTAAVPSEEPTFVNATRNSLNSFCSSKQPSSPSSYTSSPLVSSLSVSKTLLSTSFTPSVPTSNTYIKTKNTGYFEHTALTTSSVGLNSFSETAVSSQGTKIDTFLVSSLIAYPSSASGSQLSGIQQNFTSTSLMISTYEGKASIFFSAELGSIIFLLLSYLLF'}"
      ]
     },
     "execution_count": 49,
     "metadata": {},
     "output_type": "execute_result"
    }
   ],
   "source": [
    "import requests\n",
    "from wasims_toolbox import read_fasta\n",
    "\n",
    "def get_protein_sequence(access_id: str) -> dict:\n",
    "    \n",
    "    \"\"\"\n",
    "    Returns protein sequence from given UniProt access ID\n",
    "    as dictionary with key-value pairs of name to sequence.\n",
    "    \n",
    "    Args:\n",
    "        access_id (str): UniProt Protein Database access ID\n",
    "    \n",
    "    Returns:\n",
    "        dict: Protein name and sequence\n",
    "    \"\"\"\n",
    "    \n",
    "    response = requests.get(f\"https://rest.uniprot.org/uniprotkb/{access_id}.fasta\")\n",
    "    protein = read_fasta(sequences=response.text)\n",
    "    return protein\n",
    "\n",
    "proteins = {}\n",
    "access_ids = [\"B5ZC00\", \"P07204_TRBM_HUMAN\", \"P20840_SAG1_YEAST\"]\n",
    "\n",
    "for access_id in access_ids:\n",
    "    protein = get_protein_sequence(access_id.split(\"_\")[0])\n",
    "    proteins.update(protein)\n",
    "\n",
    "proteins"
   ]
  },
  {
   "cell_type": "code",
   "execution_count": 50,
   "metadata": {},
   "outputs": [
    {
     "data": {
      "text/plain": [
       "[[85, 118, 142, 306, 395],\n",
       " [47, 115, 116, 382, 409],\n",
       " [79, 109, 135, 248, 306, 348, 364, 402, 485, 501, 614]]"
      ]
     },
     "execution_count": 50,
     "metadata": {},
     "output_type": "execute_result"
    }
   ],
   "source": [
    "def find_n_glycosylation_motifs(protein: str) -> list:\n",
    "    \n",
    "    \"\"\"\n",
    "    Returns locations of N-glycosylation motif for\n",
    "    the given protein using UniProt access ID.\n",
    "    \n",
    "    Args:\n",
    "        protein (str): Protein sequence\n",
    "    \n",
    "    Returns:\n",
    "        list: Positions in the protein chain where the \n",
    "        N-glycosylation motif occurs.\n",
    "    \"\"\"\n",
    "    \n",
    "    locations = []\n",
    "    \n",
    "    amino_acids = [\n",
    "        'A', 'C', 'D', 'E', 'F', 'G', 'H', \n",
    "        'I', 'K', 'L', 'M', 'N', 'Q', 'R', \n",
    "        'S', 'T', 'V', 'W', 'Y'\n",
    "    ]\n",
    "    \n",
    "    motifs = [f\"N{aa1}S{aa2}\" for aa1 in amino_acids for aa2 in amino_acids]\n",
    "    motifs += [f\"N{aa1}T{aa2}\" for aa1 in amino_acids for aa2 in amino_acids]\n",
    "    \n",
    "    for motif in motifs:\n",
    "        locations += [i+1 for i in range(len(protein)) if protein.startswith(motif, i)]\n",
    "        \n",
    "    return sorted(locations)\n",
    "\n",
    "motif_locations = []\n",
    "for protein in proteins.values():\n",
    "    motif_locations.append(find_n_glycosylation_motifs(protein))\n",
    "motif_locations"
   ]
  },
  {
   "cell_type": "code",
   "execution_count": 51,
   "metadata": {},
   "outputs": [
    {
     "name": "stdout",
     "output_type": "stream",
     "text": [
      "B5ZC00\n",
      "85 118 142 306 395\n",
      "P07204_TRBM_HUMAN\n",
      "47 115 116 382 409\n",
      "P20840_SAG1_YEAST\n",
      "79 109 135 248 306 348 364 402 485 501 614\n"
     ]
    }
   ],
   "source": [
    "def print_solution(access_ids: list, motif_locations: list):\n",
    "    \"\"\"Print solution to Rosalind problem.\"\"\"\n",
    "    \n",
    "    for index, locations in enumerate(motif_locations):\n",
    "        if len(locations) == 0:\n",
    "            continue\n",
    "        locations = [str(loc) for loc in locations]\n",
    "        print(access_ids[index])\n",
    "        print(str.join(\" \", locations))\n",
    "\n",
    "print_solution(access_ids, motif_locations)"
   ]
  },
  {
   "cell_type": "code",
   "execution_count": 52,
   "metadata": {},
   "outputs": [
    {
     "name": "stdout",
     "output_type": "stream",
     "text": [
      "\u001b[32m.\u001b[0m\u001b[32m                                                                                            [100%]\u001b[0m\n",
      "\u001b[32m\u001b[32m\u001b[1m1 passed\u001b[0m\u001b[32m in 0.09s\u001b[0m\u001b[0m\n"
     ]
    },
    {
     "data": {
      "text/plain": [
       "<ExitCode.OK: 0>"
      ]
     },
     "execution_count": 52,
     "metadata": {},
     "output_type": "execute_result"
    }
   ],
   "source": [
    "import ipytest\n",
    "ipytest.autoconfig()\n",
    "\n",
    "def test_case():\n",
    "    expected = [\n",
    "        [85, 118, 142, 306, 395],\n",
    "        [47, 115, 116, 382, 409],\n",
    "        [79, 109, 135, 248, 306, 348, 364, 402, 485, 501, 614]]\n",
    "    actual = []\n",
    "    for protein in proteins.values():\n",
    "        actual.append(find_n_glycosylation_motifs(protein))\n",
    "    assert actual == expected\n",
    "\n",
    "ipytest.run()"
   ]
  },
  {
   "cell_type": "code",
   "execution_count": 53,
   "metadata": {},
   "outputs": [
    {
     "name": "stdout",
     "output_type": "stream",
     "text": [
      "{'sp|P01045|KNG2_BOVIN Kininogen-2 OS=Bos taurus OX=9913 GN=KNG2 PE=1 SV=1': 'MKLITILFLCSRLLPSLTQESSQEIDCNDQDVFKAVDAALTKYNSENKSGNQFVLYRITEVARMDNPDTFYSLKYQIKEGDCPFQSNKTWQDCDYKDSAQAATGQCTATVAKRGNMKFSVAIQTCLITPAEGPVVTAQYECLGCVHPISTKSPDLEPVLRYAIQYFNNNTSHSHLFDLKEVKRAQKQVVSGWNYEVNYSIAQTNCSKEEFSFLTPDCKSLSSGDTGECTDKAHVDVKLRISSFSQKCDLYPGEDFLPPMVCVGCPKPIPVDSPDLEEALNHSIAKLNAEHDGTFYFKIDTVKKATVQVVGGLKYSIVFIARETTCSKGSNEELTKSCEINIHGQILHCDANVYVVPWEEKVYPTVNCQPLGQTSLMKRPPGFSPFRSVQVMKTEGSTTVSLPHSAMSPVQDEERDSGKEQGPTHGHGWDHGKQIKLHGLGLGHKHKHDQGHGHHRSHGLGHGHQKQHGLGHGHKHGHGHGKHKNKGKNNGKHYDWRTPYLASSYEDSTTSSAQTQEKTEETTLSSLAQPGVAITFPDFQDSDLIATVMPNTLPPHTESDDDWIPDIQTEPNSLAFKLISDFPETTSPKCPSRPWKPVNGVNPTVEMKESHDFDLVDALL'}\n",
      "{'sp|B5FPF2|RBN_SALDC Ribonuclease BN OS=Salmonella dublin (strain CT_02021853) OX=439851 GN=rbn PE=3 SV=1': 'MELIFLGTSAGVPTRSRNVTAILLHLQHPTQPGVWLFDCGEGTQHQMLNTAFHPGKLERIFISHLHGDHLFGLPGLLCSRSMAGNPHPLTVYGPQGVREFIATTLRLSGSWTDFPLQIEEISAGDILDDGLRKVTAFRLEHPLECYGYRVVEHDKPGALNARALKAAGVTPGPLFQALKAGKTVTLADGRQINGADYLAPAVAGKSVAIFGDTAPCEAALALAQGVDVMVHETTLDASMEEKANARGHSSTRQTATLAREAAVGRLIMTHISSRYDDKGCQRLLAECRAIFPATELAYDFSVFPV'}\n",
      "{'sp|P81824|VSP1_BOTJA Platelet-aggregating proteinase PA-BJ (Fragment) OS=Bothrops jararaca OX=8724 PE=1 SV=2': 'NSLVIVVGGRPCKINVHRSLVLLYNSSSLLCSGTLINQEWVLTAAHCDSKNFKMKLGVHSIKIRNKNERTRHPKEKFICPNRKKDDVLDKDIMLIRLNRPVSNSEHIAPLSLPSSPPSVGSVCYVMGWGKISSTKETYPDVPHCAKINILDHAVCRAAYTWWPATSTTLCAGILQGGKDTCEGDSGGPLICNGLQGIVSGGGNPCGQPRKPALYTKVFDYLPWIESIIAGTTTATCP'}\n",
      "{'sp|A9QYR8|RHAS_YERPG HTH-type transcriptional activator RhaS OS=Yersinia pestis bv. Antiqua (strain Angola) OX=349746 GN=rhaS PE=3 SV=1': 'MTVLHSIDFFSSSSAPVAIEARAPQSAFPEHHHDFYEIVIVEEGAGVHVFNGNPYTLSRGCVCFVRDHDRHLFESTDDLFLTNVLFRAPDAFRFLSGVGHFLPRECDGVYPSHWRVNGQVLQQIKCLIACLEHAPKSDQVEDIALHESVFMQLLVKLWQGCQTQVGDDQEGRLYQLLDWLQNNYSEAVEWPELADRFALPLRTLHRQLKNKTGMTPQRYLTRLRLLQARHQLCYSDNSVTDIAYLCGFGDSNHFSTLFKREFSQSPRDLRSQL'}\n",
      "{'sp|A1USX4|NUOH_BARBK NADH-quinone oxidoreductase subunit H OS=Bartonella bacilliformis (strain ATCC 35685 / NCTC 12138 / KC583) OX=360095 GN=nuoH PE=3 SV=1': 'MDNFFMTWLLPLFIVVGKTLLLLTVLLVLIAYLLYADRKIWAAVQLRRGPNVVGPWGLLQSFADLIKFVVKEPIIPSGANKGVFLLAPFVSATLALSAWAVVPVNEGWEIASINVGLLYILAISSLEVYGVIMGGWASNSKYPFLGALRSAAQMVSYEVSIGFVLVTVILVSGSLDLTTIVQEQNKGLGTYLGLPFSSLLDWNWLILFPMFIIFFISALAETNRPPFDLVEAESELVAGHMVEYSSTPYMLFFLGEYVAIVLMCALTTILFLGGWLPPLDVWWLNWVPGVIWFVLKVCFVFFWFAMVKAFVPRYRYDQLMRLGWKVFLPISLAMVVITAAILKYTSFA'}\n",
      "{'sp|Q8WW18|CQ050_HUMAN Uncharacterized protein C17orf50 OS=Homo sapiens OX=9606 GN=C17orf50 PE=1 SV=2': 'MDKHGVKTPLWKKETEELRAEDAEQEEGKEGSEDEDEDNQRPLEDSATEGEEPPRVAEEGEGRERRSVSYCPLRQESSTQQVALLRRADSGFWGWLGPLALLGGLTAPTDRKRSLPEEPCVLEIRRRPPRRGGCACCELLFCKKCRSLHSHPAYVAHCVLDHPDLGKAGAAGNS'}\n",
      "{'sp|O08537|ESR2_MOUSE Estrogen receptor beta OS=Mus musculus OX=10090 GN=Esr2 PE=1 SV=3': 'MEIKNSPSSLTSPASYNCSQSILPLEHGPIYIPSSYVESRHEYSAMTFYSPAVMNYSVPSSTGNLEGGPVRQTASPNVLWPTSGHLSPLATHCQSSLLYAEPQKSPWCEARSLEHTLPVNRETLKRKLGGSGCASPVTSPSAKRDAHFCAVCSDYASGYHYGVWSCEGCKAFFKRSIQGHNDYICPATNQCTIDKNRRKSCQACRLRKCYEVGMVKCGSRRERCGYRIVRRQRSASEQVHCLNKAKRTSGHTPRVKELLLNSLSPEQLVLTLLEAEPPNVLVSRPSMPFTEASMMMSLTKLADKELVHMIGWAKKIPGFVELSLLDQVRLLESCWMEVLMVGLMWRSIDHPGKLIFAPDLVLDRDEGKCVEGILEIFDMLLATTARFRELKLQHKEYLCVKAMILLNSSMYPLATASQEAESSRKLTHLLNAVTDALVWVISKSGISSQQQSVRLANLLMLLSHVRHISNKGMEHLLSMKCKNVVPVYDLLLEMLNAHTLRGYKSSISGSECCSTEDSKSKEGSQNLQSQ'}\n",
      "{'sp|Q50228|FMDA_METME Formamidase OS=Methylophilus methylotrophus OX=17 GN=fmdA PE=1 SV=1': 'MKTIVKLDLDKKPWEQDGQIHNRWHPDLPMIAMVKPGDEFRVECMDWTGGQIGNNDSANDVRDVDLTQVHYLSGPIGVEGAEPGDLMVVDILDVGTFDDSQWGFNGLFAKENGGGFLTDHFPEASKTIWDFHGVYTTSRHVPKVRYAGIMHPGLIGCLPSKELLDTWNKREGDLIATDPDRVPPLACPPTSQSAVMGRLSGDAAKKAAAEGARTVPPRDHGGNCDIKNLTKGSRVYFPVYVKDGGLSMGDLHFSQGDGEITFCGAIEMAGYLDIKVGLIKDGVKKYGIKNPVFQPSPITPTYRDYMIFEGISVDEAGKQHYLDVHIAYRQACLNAIEYLKKFGYSGEQAVSILGTAPVEGHISGIVDIPNACATLWIPTEIFEFDIRPNADGPKIMVPPGVDVSFTS'}\n",
      "{'sp|P04233|HG2A_HUMAN HLA class II histocompatibility antigen gamma chain OS=Homo sapiens OX=9606 GN=CD74 PE=1 SV=3': 'MHRRRSRSCREDQKPVMDDQRDLISNNEQLPMLGRRPGAPESKCSRGALYTGFSILVTLLLAGQATTAYFLYQQQGRLDKLTVTSQNLQLENLRMKLPKPPKPVSKMRMATPLLMQALPMGALPQGPMQNATKYGNMTEDHVMHLLQNADPLKVYPPLKGSFPENLRHLKNTMETIDWKVFESWMHHWLLFEMSRHSLEQKPTDAPPKVLTKCQEEVSHIPAVHPGSFRPKCDENGNYLPLQCYGSIGYCWCVFPNGTEVPNTRSRGHHNCSESLELEDPSSGLGVTKQDLGPVPM'}\n",
      "{'sp|P11831|SRF_HUMAN Serum response factor OS=Homo sapiens OX=9606 GN=SRF PE=1 SV=1': 'MLPTQAGAAAALGRGSALGGSLNRTPTGRPGGGGGTRGANGGRVPGNGAGLGPGRLEREAAAAAATTPAPTAGALYSGSEGDSESGEEEELGAERRGLKRSLSEMEIGMVVGGPEASAAATGGYGPVSGAVSGAKPGKKTRGRVKIKMEFIDNKLRRYTTFSKRKTGIMKKAYELSTLTGTQVLLLVASETGHVYTFATRKLQPMITSETGKALIQTCLNSPDSPPRSDPTTDQRMSATGFEETDLTYQVSESDSSGETKDTLKPAFTVTNLPGTTSTIQTAPSTSTTMQVSSGPSFPITNYLAPVSASVSPSAVSSANGTVLKSTGSGPVSSGGLMQLPTSFTLMPGGAVAQQVPVQAIQVHQAPQQASPSRDSSTDLTQTSSSGTVTLPATIMTSSVPTTVGGHMMYPSPHAVMYAPTSGLGDGSLTVLNAFSQAPSTMQVSHSQVQEPGGVPQVFLTASSGTVQIPVSAVQLHQMAVIGQQAGSSSNLTELQVVNLDTAHSTKSE'}\n",
      "{'sp|Q9QSP4|NCAP_ABLVB Nucleoprotein OS=Australian bat lyssavirus (isolate Bat/AUS/1996) OX=446561 GN=N PE=3 SV=1': 'MESDKIAFKINNQLVSVKPEVIVDQYEYKYPAIKDQRKPSITLGKAPDLNKAYKSILSGMNAAKLDPDDVCSYLAAAMELFEGICPEDWTSYGILIARKGDKITPATLVDIRRTDIQGSWALAGGQDFTRDPTIAEHASLVGLLLSLYRLSKISGQNTGNYKTNIADRIEQIFETAPFAKIVEHHTLMTTHKMCANWSTIPNFRFLAGTYDMFFSRVEHLYSAIRVGTVVTAYEDCSGLVSFTGFIKQINLTAREAILYFFHKNFEEEIRRMFEPGQETAVPHSYFIHFRSLGLSGKSPYSSNAVGHVFNLIHFVGCYMGQIRSLNATVISTCAPHEMSVLGGYLGEEFFGKGTFERRFFRDEKELQDYEAAEAMKIDLALADDGTVNSYDEDYLSGETRSPEAVYTRIMMNGGRLKKSHIRRYISVSSNHQSRPNSFAEFLNKTYSSDS'}\n",
      "{'sp|P00740|FA9_HUMAN Coagulation factor IX OS=Homo sapiens OX=9606 GN=F9 PE=1 SV=2': 'MQRVNMIMAESPGLITICLLGYLLSAECTVFLDHENANKILNRPKRYNSGKLEEFVQGNLERECMEEKCSFEEAREVFENTERTTEFWKQYVDGDQCESNPCLNGGSCKDDINSYECWCPFGFEGKNCELDVTCNIKNGRCEQFCKNSADNKVVCSCTEGYRLAENQKSCEPAVPFPCGRVSVSQTSKLTRAETVFPDVDYVNSTEAETILDNITQSTQSFNDFTRVVGGEDAKPGQFPWQVVLNGKVDAFCGGSIVNEKWIVTAAHCVETGVKITVVAGEHNIEETEHTEQKRNVIRIIPHHNYNAAINKYNHDIALLELDEPLVLNSYVTPICIADKEYTNIFLKFGSGYVSGWGRVFHKGRSALVLQYLRVPLVDRATCLRSTKFTIYNNMFCAGFHEGGRDSCQGDSGGPHVTEVEGTSFLTGIISWGEECAMKGKYGIYTKVSRYVNWIKEKTKLT'}\n",
      "[[47, 87, 168, 169, 197, 204, 280], [18], [25], [183, 210], [], [], [17, 55, 407], [55, 228], [130, 136, 256, 270], [319, 490], [196, 250, 326, 443], [203, 213]]\n"
     ]
    }
   ],
   "source": [
    "access_ids = [\n",
    "    \"P01047_KNL2_BOVIN\",\n",
    "    \"B5FPF2\",\n",
    "    \"P81824_PABJ_BOTJA\",\n",
    "    \"A9QYR8\",\n",
    "    \"A1USX4\",\n",
    "    \"Q8WW18\",\n",
    "    \"O08537_ESR2_MOUSE\",\n",
    "    \"Q50228\",\n",
    "    \"P04233_HG2A_HUMAN\",\n",
    "    \"P11831_SRF_HUMAN\",\n",
    "    \"Q9QSP4\",\n",
    "    \"P00740_FA9_HUMAN\"\n",
    "]\n",
    "\n",
    "proteins = {}\n",
    "for access_id in access_ids:\n",
    "    protein = get_protein_sequence(access_id.split(\"_\")[0])\n",
    "    proteins.update(protein)\n",
    "    print(protein)\n",
    "\n",
    "motif_locations = []\n",
    "for protein in proteins.values():\n",
    "    motif_locations.append(find_n_glycosylation_motifs(protein))\n",
    "\n",
    "print(motif_locations)"
   ]
  },
  {
   "cell_type": "code",
   "execution_count": 54,
   "metadata": {},
   "outputs": [
    {
     "name": "stdout",
     "output_type": "stream",
     "text": [
      "P01047_KNL2_BOVIN\n",
      "47 87 168 169 197 204 280\n",
      "B5FPF2\n",
      "18\n",
      "P81824_PABJ_BOTJA\n",
      "25\n",
      "A9QYR8\n",
      "183 210\n",
      "O08537_ESR2_MOUSE\n",
      "17 55 407\n",
      "Q50228\n",
      "55 228\n",
      "P04233_HG2A_HUMAN\n",
      "130 136 256 270\n",
      "P11831_SRF_HUMAN\n",
      "319 490\n",
      "Q9QSP4\n",
      "196 250 326 443\n",
      "P00740_FA9_HUMAN\n",
      "203 213\n"
     ]
    }
   ],
   "source": [
    "print_solution(access_ids, motif_locations)"
   ]
  }
 ],
 "metadata": {
  "kernelspec": {
   "display_name": "Python 3",
   "language": "python",
   "name": "python3"
  },
  "language_info": {
   "codemirror_mode": {
    "name": "ipython",
    "version": 3
   },
   "file_extension": ".py",
   "mimetype": "text/x-python",
   "name": "python",
   "nbconvert_exporter": "python",
   "pygments_lexer": "ipython3",
   "version": "3.9.6"
  },
  "orig_nbformat": 4
 },
 "nbformat": 4,
 "nbformat_minor": 2
}
