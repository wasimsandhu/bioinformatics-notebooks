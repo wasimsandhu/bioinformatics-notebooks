{
 "cells": [
  {
   "cell_type": "markdown",
   "metadata": {},
   "source": [
    "## [Finding a Protein Motif]()\n",
    "\n",
    "### Background\n",
    "A structural and functional unit of the protein is a **protein domain**: in terms of the protein's primary structure, the domain is an interval of amino acids that can evolve and function independently.\n",
    "\n",
    "Just like species, proteins can evolve, forming homologous groups called protein families. Proteins from one family usually have the same set of domains, performing similar functions; see Figure 1.\n",
    "\n",
    "A component of a domain essential for its function is called a **motif**, a term that in general has the same meaning as it does in nucleic acids, although many other terms are also used (blocks, signatures, fingerprints, etc.) Usually protein motifs are evolutionarily conservative, meaning that they appear without much change in different species.\n",
    "\n",
    "Proteins are identified in different labs around the world and gathered into freely accessible databases. A central repository for protein data is **[UniProt](https://www.uniprot.org/)**, which provides detailed protein annotation, including function description, domain structure, and post-translational modifications. UniProt also supports protein similarity search, taxonomy analysis, and literature citations.\n",
    "\n",
    "### UniProt\n",
    "To allow for the presence of its varying forms, a protein motif is represented by a shorthand as follows: [XY] means \"either X or Y\" and {X} means \"any amino acid except X.\" For example, the N-glycosylation motif is written as N{P}[ST]{P}.\n",
    "\n",
    "You can see the complete description and features of a particular protein by its access ID \"uniprot_id\" in the UniProt database, by inserting the ID number into\n",
    "```\n",
    "http://www.uniprot.org/uniprot/uniprot_id\n",
    "```\n",
    "\n",
    "Alternatively, you can obtain a protein sequence in FASTA format by following\n",
    "```\n",
    "http://www.uniprot.org/uniprot/uniprot_id.fasta\n",
    "```\n",
    "\n",
    "For example, the data for protein B5ZC00 can be found at http://www.uniprot.org/uniprot/B5ZC00.\n",
    "\n",
    "### Problem\n",
    "**Given:** At most 15 UniProt Protein Database access IDs.\n",
    "\n",
    "**Return:** For each protein possessing the N-glycosylation motif, output its given access ID followed by a list of locations in the protein string where the motif can be found.\n",
    "\n",
    "### Example\n",
    "Input:\n",
    "```\n",
    "A2Z669\n",
    "B5ZC00\n",
    "P07204_TRBM_HUMAN\n",
    "P20840_SAG1_YEAST\n",
    "```\n",
    "\n",
    "Output:\n",
    "```\n",
    "B5ZC00\n",
    "85 118 142 306 395\n",
    "P07204_TRBM_HUMAN\n",
    "47 115 116 382 409\n",
    "P20840_SAG1_YEAST\n",
    "79 109 135 248 306 348 364 402 485 501 614\n",
    "```"
   ]
  },
  {
   "cell_type": "code",
   "execution_count": 59,
   "metadata": {},
   "outputs": [
    {
     "data": {
      "text/plain": [
       "{'sp|B5ZC00|SYG_UREU1 Glycine--tRNA ligase OS=Ureaplasma urealyticum serovar 10 (strain ATCC 33699 / Western) OX=565575 GN=glyQS PE=3 SV=1': 'MKNKFKTQEELVNHLKTVGFVFANSEIYNGLANAWDYGPLGVLLKNNLKNLWWKEFVTKQKDVVGLDSAIILNPLVWKASGHLDNFSDPLIDCKNCKARYRADKLIESFDENIHIAENSSNEEFAKVLNDYEISCPTCKQFNWTEIRHFNLMFKTYQGVIEDAKNVVYLRPETAQGIFVNFKNVQRSMRLHLPFGIAQIGKSFRNEITPGNFIFRTREFEQMEIEFFLKEESAYDIFDKYLNQIENWLVSACGLSLNNLRKHEHPKEELSHYSKKTIDFEYNFLHGFSELYGIAYRTNYDLSVHMNLSKKDLTYFDEQTKEKYVPHVIEPSVGVERLLYAILTEATFIEKLENDDERILMDLKYDLAPYKIAVMPLVNKLKDKAEEIYGKILDLNISATFDNSGSIGKRYRRQDAIGTIYCLTIDFDSLDDQQDPSFTIRERNSMAQKRIKLSELPLYLNQKAHEDFQRQCQK',\n",
       " 'sp|P07204|TRBM_HUMAN Thrombomodulin OS=Homo sapiens OX=9606 GN=THBD PE=1 SV=2': 'MLGVLVLGALALAGLGFPAPAEPQPGGSQCVEHDCFALYPGPATFLNASQICDGLRGHLMTVRSSVAADVISLLLNGDGGVGRRRLWIGLQLPPGCGDPKRLGPLRGFQWVTGDNNTSYSRWARLDLNGAPLCGPLCVAVSAAEATVPSEPIWEEQQCEVKADGFLCEFHFPATCRPLAVEPGAAAAAVSITYGTPFAARGADFQALPVGSSAAVAPLGLQLMCTAPPGAVQGHWAREAPGAWDCSVENGGCEHACNAIPGAPRCQCPAGAALQADGRSCTASATQSCNDLCEHFCVPNPDQPGSYSCMCETGYRLAADQHRCEDVDDCILEPSPCPQRCVNTQGGFECHCYPNYDLVDGECVEPVDPCFRANCEYQCQPLNQTSYLCVCAEGFAPIPHEPHRCQMFCNQTACPADCDPNTQASCECPEGYILDDGFICTDIDECENGGFCSGVCHNLPGTFECICGPDSALARHIGTDCDSGKVDGGDSGSGEPPPSPTPGSTLTPPAVGLVHSGLLIGISIASLCLVVALLALLCHLRKKQGAARAKMEYKCAAPSKEVVLQHVRTERTPQRL',\n",
       " 'sp|P20840|SAG1_YEAST Alpha-agglutinin OS=Saccharomyces cerevisiae (strain ATCC 204508 / S288c) OX=559292 GN=SAG1 PE=1 SV=2': 'MFTFLKIILWLFSLALASAININDITFSNLEITPLTANKQPDQGWTATFDFSIADASSIREGDEFTLSMPHVYRIKLLNSSQTATISLADGTEAFKCYVSQQAAYLYENTTFTCTAQNDLSSYNTIDGSITFSLNFSDGGSSYEYELENAKFFKSGPMLVKLGNQMSDVVNFDPAAFTENVFHSGRSTGYGSFESYHLGMYCPNGYFLGGTEKIDYDSSNNNVDLDCSSVQVYSSNDFNDWWFPQSYNDTNADVTCFGSNLWITLDEKLYDGEMLWVNALQSLPANVNTIDHALEFQYTCLDTIANTTYATQFSTTREFIVYQGRNLGTASAKSSFISTTTTDLTSINTSAYSTGSISTVETGNRTTSEVISHVVTTSTKLSPTATTSLTIAQTSIYSTDSNITVGTDIHTTSEVISDVETISRETASTVVAAPTSTTGWTGAMNTYISQFTSSSFATINSTPIISSSAVFETSDASIVNVHTENITNTAAVPSEEPTFVNATRNSLNSFCSSKQPSSPSSYTSSPLVSSLSVSKTLLSTSFTPSVPTSNTYIKTKNTGYFEHTALTTSSVGLNSFSETAVSSQGTKIDTFLVSSLIAYPSSASGSQLSGIQQNFTSTSLMISTYEGKASIFFSAELGSIIFLLLSYLLF'}"
      ]
     },
     "execution_count": 59,
     "metadata": {},
     "output_type": "execute_result"
    }
   ],
   "source": [
    "import requests\n",
    "from wasims_toolbox import read_fasta\n",
    "\n",
    "def get_protein_sequence(access_id: str) -> dict:\n",
    "    \n",
    "    \"\"\"\n",
    "    Returns protein sequence from given UniProt access ID\n",
    "    as dictionary with key-value pairs of name to sequence.\n",
    "    \n",
    "    Args:\n",
    "        access_id (str): UniProt Protein Database access ID\n",
    "    \n",
    "    Returns:\n",
    "        dict: Protein name and sequence\n",
    "    \"\"\"\n",
    "    \n",
    "    response = requests.get(f\"https://rest.uniprot.org/uniprotkb/{access_id}.fasta\")\n",
    "    protein = read_fasta(sequences=response.text)\n",
    "    return protein\n",
    "\n",
    "proteins = {}\n",
    "access_ids = [\"B5ZC00\", \"P07204\", \"P20840\"]\n",
    "\n",
    "for access_id in access_ids:\n",
    "    protein = get_protein_sequence(access_id)\n",
    "    proteins.update(protein)\n",
    "\n",
    "proteins"
   ]
  },
  {
   "cell_type": "code",
   "execution_count": 60,
   "metadata": {},
   "outputs": [],
   "source": [
    "def find_n_glycosylation_motifs(protein: str) -> list:\n",
    "    \n",
    "    \"\"\"\n",
    "    Returns locations of N-glycosylation motif for\n",
    "    the given protein using UniProt access ID.\n",
    "    \n",
    "    Args:\n",
    "        protein (str): Protein sequence\n",
    "    \n",
    "    Returns:\n",
    "        list: Positions in the protein chain where the \n",
    "        N-glycosylation motif occurs.\n",
    "    \"\"\"\n",
    "    \n",
    "    locations = []\n",
    "    \n",
    "    amino_acids = [\n",
    "        'A', 'C', 'D', 'E', 'F', 'G', 'H', \n",
    "        'I', 'K', 'L', 'M', 'N', 'Q', 'R', \n",
    "        'S', 'T', 'V', 'W', 'Y'\n",
    "    ]\n",
    "    \n",
    "    motifs = [f\"N{aa1}S{aa2}\" for aa1 in amino_acids for aa2 in amino_acids]\n",
    "    motifs += [f\"N{aa1}T{aa2}\" for aa1 in amino_acids for aa2 in amino_acids]\n",
    "    \n",
    "    for motif in motifs:\n",
    "        locations += [i+1 for i in range(len(protein)) if protein.startswith(motif, i)]\n",
    "        \n",
    "    return sorted(locations)"
   ]
  },
  {
   "cell_type": "code",
   "execution_count": 61,
   "metadata": {},
   "outputs": [
    {
     "name": "stdout",
     "output_type": "stream",
     "text": [
      "B5ZC00\n",
      "85 118 142 306 395\n",
      "P07204\n",
      "47 115 116 382 409\n",
      "P20840\n",
      "79 109 135 248 306 348 364 402 485 501 614\n"
     ]
    }
   ],
   "source": [
    "def print_solution(access_ids: list, proteins: dict):\n",
    "    \"\"\"Print solution to Rosalind problem.\"\"\"\n",
    "    \n",
    "    for index, protein in enumerate(proteins.values()):\n",
    "        motif_locations = find_n_glycosylation_motifs(protein)\n",
    "        motif_locations = [str(loc) for loc in motif_locations]\n",
    "        print(access_ids[index])\n",
    "        print(str.join(\" \", motif_locations))\n",
    "\n",
    "print_solution(access_ids, proteins)"
   ]
  },
  {
   "cell_type": "code",
   "execution_count": 64,
   "metadata": {},
   "outputs": [
    {
     "ename": "IndexError",
     "evalue": "list index out of range",
     "output_type": "error",
     "traceback": [
      "\u001b[0;31m---------------------------------------------------------------------------\u001b[0m",
      "\u001b[0;31mIndexError\u001b[0m                                Traceback (most recent call last)",
      "\u001b[1;32m/Users/wasim/bioinformatics-notebooks/rosalind/13_protein_motifs.ipynb Cell 5\u001b[0m line \u001b[0;36m1\n\u001b[1;32m     <a href='vscode-notebook-cell:/Users/wasim/bioinformatics-notebooks/rosalind/13_protein_motifs.ipynb#W5sZmlsZQ%3D%3D?line=15'>16</a>\u001b[0m proteins \u001b[39m=\u001b[39m {}\n\u001b[1;32m     <a href='vscode-notebook-cell:/Users/wasim/bioinformatics-notebooks/rosalind/13_protein_motifs.ipynb#W5sZmlsZQ%3D%3D?line=16'>17</a>\u001b[0m \u001b[39mfor\u001b[39;00m access_id \u001b[39min\u001b[39;00m access_ids:\n\u001b[0;32m---> <a href='vscode-notebook-cell:/Users/wasim/bioinformatics-notebooks/rosalind/13_protein_motifs.ipynb#W5sZmlsZQ%3D%3D?line=17'>18</a>\u001b[0m     protein \u001b[39m=\u001b[39m get_protein_sequence(access_id\u001b[39m.\u001b[39;49msplit(\u001b[39m\"\u001b[39;49m\u001b[39m_\u001b[39;49m\u001b[39m\"\u001b[39;49m)[\u001b[39m0\u001b[39;49m])\n\u001b[1;32m     <a href='vscode-notebook-cell:/Users/wasim/bioinformatics-notebooks/rosalind/13_protein_motifs.ipynb#W5sZmlsZQ%3D%3D?line=18'>19</a>\u001b[0m     proteins\u001b[39m.\u001b[39mupdate(protein)\n\u001b[1;32m     <a href='vscode-notebook-cell:/Users/wasim/bioinformatics-notebooks/rosalind/13_protein_motifs.ipynb#W5sZmlsZQ%3D%3D?line=19'>20</a>\u001b[0m     \u001b[39mprint\u001b[39m(protein)\n",
      "\u001b[1;32m/Users/wasim/bioinformatics-notebooks/rosalind/13_protein_motifs.ipynb Cell 5\u001b[0m line \u001b[0;36m1\n\u001b[1;32m      <a href='vscode-notebook-cell:/Users/wasim/bioinformatics-notebooks/rosalind/13_protein_motifs.ipynb#W5sZmlsZQ%3D%3D?line=5'>6</a>\u001b[0m \u001b[39m\u001b[39m\u001b[39m\"\"\"\u001b[39;00m\n\u001b[1;32m      <a href='vscode-notebook-cell:/Users/wasim/bioinformatics-notebooks/rosalind/13_protein_motifs.ipynb#W5sZmlsZQ%3D%3D?line=6'>7</a>\u001b[0m \u001b[39mReturns protein sequence from given UniProt access ID\u001b[39;00m\n\u001b[1;32m      <a href='vscode-notebook-cell:/Users/wasim/bioinformatics-notebooks/rosalind/13_protein_motifs.ipynb#W5sZmlsZQ%3D%3D?line=7'>8</a>\u001b[0m \u001b[39mas dictionary with key-value pairs of name to sequence.\u001b[39;00m\n\u001b[0;32m   (...)\u001b[0m\n\u001b[1;32m     <a href='vscode-notebook-cell:/Users/wasim/bioinformatics-notebooks/rosalind/13_protein_motifs.ipynb#W5sZmlsZQ%3D%3D?line=13'>14</a>\u001b[0m \u001b[39m    dict: Protein name and sequence\u001b[39;00m\n\u001b[1;32m     <a href='vscode-notebook-cell:/Users/wasim/bioinformatics-notebooks/rosalind/13_protein_motifs.ipynb#W5sZmlsZQ%3D%3D?line=14'>15</a>\u001b[0m \u001b[39m\"\"\"\u001b[39;00m\n\u001b[1;32m     <a href='vscode-notebook-cell:/Users/wasim/bioinformatics-notebooks/rosalind/13_protein_motifs.ipynb#W5sZmlsZQ%3D%3D?line=16'>17</a>\u001b[0m response \u001b[39m=\u001b[39m requests\u001b[39m.\u001b[39mget(\u001b[39mf\u001b[39m\u001b[39m\"\u001b[39m\u001b[39mhttps://rest.uniprot.org/uniprotkb/\u001b[39m\u001b[39m{\u001b[39;00maccess_id\u001b[39m}\u001b[39;00m\u001b[39m.fasta\u001b[39m\u001b[39m\"\u001b[39m)\n\u001b[0;32m---> <a href='vscode-notebook-cell:/Users/wasim/bioinformatics-notebooks/rosalind/13_protein_motifs.ipynb#W5sZmlsZQ%3D%3D?line=17'>18</a>\u001b[0m protein \u001b[39m=\u001b[39m read_fasta(sequences\u001b[39m=\u001b[39;49mresponse\u001b[39m.\u001b[39;49mtext)\n\u001b[1;32m     <a href='vscode-notebook-cell:/Users/wasim/bioinformatics-notebooks/rosalind/13_protein_motifs.ipynb#W5sZmlsZQ%3D%3D?line=18'>19</a>\u001b[0m \u001b[39mreturn\u001b[39;00m protein\n",
      "File \u001b[0;32m~/bioinformatics-notebooks/rosalind/wasims_toolbox.py:32\u001b[0m, in \u001b[0;36mread_fasta\u001b[0;34m(sequences, file_path)\u001b[0m\n\u001b[1;32m     29\u001b[0m \u001b[39melse\u001b[39;00m:\n\u001b[1;32m     30\u001b[0m     \u001b[39mraise\u001b[39;00m \u001b[39mException\u001b[39;00m(\u001b[39m\"\u001b[39m\u001b[39mError: No FASTA sequences given\u001b[39m\u001b[39m\"\u001b[39m)\n\u001b[0;32m---> 32\u001b[0m last_line \u001b[39m=\u001b[39m lines[\u001b[39m-\u001b[39;49m\u001b[39m1\u001b[39;49m]\n\u001b[1;32m     34\u001b[0m \u001b[39mfor\u001b[39;00m line \u001b[39min\u001b[39;00m lines:\n\u001b[1;32m     35\u001b[0m     \u001b[39mif\u001b[39;00m \u001b[39mnot\u001b[39;00m line\u001b[39m.\u001b[39mstartswith(\u001b[39m\"\u001b[39m\u001b[39m>\u001b[39m\u001b[39m\"\u001b[39m):\n",
      "\u001b[0;31mIndexError\u001b[0m: list index out of range"
     ]
    }
   ],
   "source": [
    "access_ids = [\n",
    "    \"A6NM15\",\n",
    "    \"Q58CQ5\",\n",
    "    \"P00744_PRTZ_BOVIN\",\n",
    "    \"Q7TMB8\",\n",
    "    \"P11279_LMP1_HUMAN\",\n",
    "    \"P98119_URT1_DESRO\",\n",
    "    \"Q6A9W5\",\n",
    "    \"P01044_KNH1_BOVIN\",\n",
    "    \"B5ZC00\",\n",
    "    \"P49286\",\n",
    "    \"P07204_TRBM_HUMAN\",\n",
    "    \"P01374_TNFB_HUMAN\"\n",
    "]\n",
    "\n",
    "proteins = {}\n",
    "for access_id in access_ids:\n",
    "    protein = get_protein_sequence(access_id.split(\"_\")[0])\n",
    "    proteins.update(protein)\n",
    "    print(protein)"
   ]
  },
  {
   "cell_type": "code",
   "execution_count": 63,
   "metadata": {},
   "outputs": [
    {
     "name": "stdout",
     "output_type": "stream",
     "text": [
      "Q83I57\n",
      "\n",
      "P25174\n",
      "17 32 56 97 116 132 151 178 183 198 325 670\n",
      "Q8ZRE7\n",
      "\n",
      "P01880_DTC_HUMAN\n",
      "225 316 367\n",
      "Q8CE94\n",
      "369\n",
      "P27918_PROP_HUMAN\n",
      "428\n",
      "Q50228\n",
      "55 228\n",
      "Q3B391\n",
      "238\n",
      "A1USX4\n",
      "\n",
      "Q0U2C0\n",
      "43 330\n",
      "P10761_ZP3_MOUSE\n",
      "146 273 304 327 330\n",
      "P05231_IL6_HUMAN\n",
      "73 172\n",
      "P05113_IL5_HUMAN\n",
      "47 90\n",
      "P14210_HGF_HUMAN\n",
      "294 402 566 653\n"
     ]
    }
   ],
   "source": [
    "print_solution(access_ids, proteins)"
   ]
  }
 ],
 "metadata": {
  "kernelspec": {
   "display_name": "Python 3",
   "language": "python",
   "name": "python3"
  },
  "language_info": {
   "codemirror_mode": {
    "name": "ipython",
    "version": 3
   },
   "file_extension": ".py",
   "mimetype": "text/x-python",
   "name": "python",
   "nbconvert_exporter": "python",
   "pygments_lexer": "ipython3",
   "version": "3.9.6"
  },
  "orig_nbformat": 4
 },
 "nbformat": 4,
 "nbformat_minor": 2
}
